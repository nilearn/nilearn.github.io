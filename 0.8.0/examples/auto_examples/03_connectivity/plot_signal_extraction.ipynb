{
  "cells": [
    {
      "cell_type": "code",
      "execution_count": null,
      "metadata": {
        "collapsed": false
      },
      "outputs": [],
      "source": [
        "%matplotlib inline"
      ]
    },
    {
      "cell_type": "markdown",
      "metadata": {},
      "source": [
        "\n# Extracting signals from a brain parcellation\n\nHere we show how to extract signals from a brain parcellation and compute\na correlation matrix.\n\nWe also show the importance of defining good confounds signals: the\nfirst correlation matrix is computed after regressing out simple\nconfounds signals: movement regressors, white matter and CSF signals, ...\nThe second one is without any confounds: all regions are connected to\neach other.\n\n\nOne reference that discusses the importance of confounds is `Varoquaux and\nCraddock, Learning and comparing functional connectomes across subjects,\nNeuroImage 2013\n<http://www.sciencedirect.com/science/article/pii/S1053811913003340>`_.\n\nThis is just a code example, see the `corresponding section in the\ndocumentation <parcellation_time_series>` for more.\n\n<div class=\"alert alert-info\"><h4>Note</h4><p>This example needs SciPy >= 1.0.0 for the reordering of the matrix.</p></div>\n"
      ]
    },
    {
      "cell_type": "markdown",
      "metadata": {},
      "source": [
        "## Retrieve the atlas and the data\n\n"
      ]
    },
    {
      "cell_type": "code",
      "execution_count": null,
      "metadata": {
        "collapsed": false
      },
      "outputs": [],
      "source": [
        "from nilearn import datasets\n\ndataset = datasets.fetch_atlas_harvard_oxford('cort-maxprob-thr25-2mm')\natlas_filename = dataset.maps\nlabels = dataset.labels\n\nprint('Atlas ROIs are located in nifti image (4D) at: %s' %\n      atlas_filename)  # 4D data\n\n# One subject of brain development fmri data\ndata = datasets.fetch_development_fmri(n_subjects=1)\nfmri_filenames = data.func[0]"
      ]
    },
    {
      "cell_type": "markdown",
      "metadata": {},
      "source": [
        "## Extract signals on a parcellation defined by labels\nUsing the NiftiLabelsMasker\n\n"
      ]
    },
    {
      "cell_type": "code",
      "execution_count": null,
      "metadata": {
        "collapsed": false
      },
      "outputs": [],
      "source": [
        "from nilearn.input_data import NiftiLabelsMasker\nmasker = NiftiLabelsMasker(labels_img=atlas_filename, standardize=True,\n                           memory='nilearn_cache', verbose=5)\n\n# Here we go from nifti files to the signal time series in a numpy\n# array. Note how we give confounds to be regressed out during signal\n# extraction\ntime_series = masker.fit_transform(fmri_filenames, confounds=data.confounds)"
      ]
    },
    {
      "cell_type": "markdown",
      "metadata": {},
      "source": [
        "## Compute and display a correlation matrix\n\n"
      ]
    },
    {
      "cell_type": "code",
      "execution_count": null,
      "metadata": {
        "collapsed": false
      },
      "outputs": [],
      "source": [
        "from nilearn.connectome import ConnectivityMeasure\ncorrelation_measure = ConnectivityMeasure(kind='correlation')\ncorrelation_matrix = correlation_measure.fit_transform([time_series])[0]\n\n# Plot the correlation matrix\nimport numpy as np\nfrom nilearn import plotting\n# Make a large figure\n# Mask the main diagonal for visualization:\nnp.fill_diagonal(correlation_matrix, 0)\n# The labels we have start with the background (0), hence we skip the\n# first label\n# matrices are ordered for block-like representation\nplotting.plot_matrix(correlation_matrix, figure=(10, 8), labels=labels[1:],\n                     vmax=0.8, vmin=-0.8, reorder=True)"
      ]
    },
    {
      "cell_type": "markdown",
      "metadata": {},
      "source": [
        "## Same thing without confounds, to stress the importance of confounds\n\n"
      ]
    },
    {
      "cell_type": "code",
      "execution_count": null,
      "metadata": {
        "collapsed": false
      },
      "outputs": [],
      "source": [
        "time_series = masker.fit_transform(fmri_filenames)\n# Note how we did not specify confounds above. This is bad!\n\ncorrelation_matrix = correlation_measure.fit_transform([time_series])[0]\n\n# Mask the main diagonal for visualization:\nnp.fill_diagonal(correlation_matrix, 0)\n\nplotting.plot_matrix(correlation_matrix, figure=(10, 8), labels=labels[1:],\n                     vmax=0.8, vmin=-0.8, title='No confounds', reorder=True)\n\nplotting.show()"
      ]
    }
  ],
  "metadata": {
    "kernelspec": {
      "display_name": "Python 3",
      "language": "python",
      "name": "python3"
    },
    "language_info": {
      "codemirror_mode": {
        "name": "ipython",
        "version": 3
      },
      "file_extension": ".py",
      "mimetype": "text/x-python",
      "name": "python",
      "nbconvert_exporter": "python",
      "pygments_lexer": "ipython3",
      "version": "3.8.5"
    }
  },
  "nbformat": 4,
  "nbformat_minor": 0
}