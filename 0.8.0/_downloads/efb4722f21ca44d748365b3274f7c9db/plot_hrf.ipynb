{
  "cells": [
    {
      "cell_type": "code",
      "execution_count": null,
      "metadata": {
        "collapsed": false
      },
      "outputs": [],
      "source": [
        "%matplotlib inline"
      ]
    },
    {
      "cell_type": "markdown",
      "metadata": {},
      "source": [
        "# Example of hemodynamic reponse functions.\n\nWithin this example we are going to plot the hemodynamic reponse function (hrf)\nmodel in SPM together with the hrf shape proposed by G.Glover, as well as their\ntime and dispersion derivatives.\n\nThis example requires matplotlib.\n\nThe hrf is the filter that couples neural responses to the metabolic-related\nchanges in the MRI signal.  hrf models are simply phenomenological.\n\nIn current analysis frameworks, the choice of hrf model is essentially left to\nthe user. Fortunately, using the spm or Glover model does not make a huge\ndifference.  Adding derivatives should be considered whenever timing\ninformation has some degree of uncertainty. It is actually useful to detect\ntiming issues.\n"
      ]
    },
    {
      "cell_type": "markdown",
      "metadata": {},
      "source": [
        "## Set up some parameters for model display\n\nTo get an impulse reponse, we simulate a single event occurring at time t=0,\nwith duration 1s.\n\n"
      ]
    },
    {
      "cell_type": "code",
      "execution_count": null,
      "metadata": {
        "collapsed": false
      },
      "outputs": [],
      "source": [
        "import numpy as np\nframe_times = np.linspace(0, 30, 61)\nonset, amplitude, duration = 0., 1., 1.\nexp_condition = np.array((onset, duration, amplitude)).reshape(3, 1)"
      ]
    },
    {
      "cell_type": "markdown",
      "metadata": {},
      "source": [
        "We sample this on a fris for display\n\n"
      ]
    },
    {
      "cell_type": "code",
      "execution_count": null,
      "metadata": {
        "collapsed": false
      },
      "outputs": [],
      "source": [
        "stim = np.zeros_like(frame_times)\nstim[(frame_times > onset) * (frame_times <= onset + duration)] = amplitude"
      ]
    },
    {
      "cell_type": "markdown",
      "metadata": {},
      "source": [
        "Now we have to define the candidate hrf models.\n\n"
      ]
    },
    {
      "cell_type": "code",
      "execution_count": null,
      "metadata": {
        "collapsed": false
      },
      "outputs": [],
      "source": [
        "hrf_models = [None, 'glover + derivative', 'glover + derivative + dispersion']"
      ]
    },
    {
      "cell_type": "markdown",
      "metadata": {},
      "source": [
        "## Sample the hrf\n\n"
      ]
    },
    {
      "cell_type": "code",
      "execution_count": null,
      "metadata": {
        "collapsed": false
      },
      "outputs": [],
      "source": [
        "from nilearn.glm.first_level import compute_regressor\nimport matplotlib.pyplot as plt\n\nfig = plt.figure(figsize=(9, 4))\nfor i, hrf_model in enumerate(hrf_models):\n    # obtain the signal of interest by convolution\n    signal, name = compute_regressor(\n        exp_condition, hrf_model, frame_times, con_id='main',\n        oversampling=16)\n\n    # plot this\n    plt.subplot(1, 3, i + 1)\n    plt.fill(frame_times, stim, 'k', alpha=.5, label='stimulus')\n    for j in range(signal.shape[1]):\n        plt.plot(frame_times, signal.T[j], label=name[j])\n    plt.xlabel('time (s)')\n    plt.legend(loc=1)\n    plt.title(hrf_model)\n\n# adjust the plot\nplt.subplots_adjust(bottom=.12)\nplt.show()"
      ]
    }
  ],
  "metadata": {
    "kernelspec": {
      "display_name": "Python 3",
      "language": "python",
      "name": "python3"
    },
    "language_info": {
      "codemirror_mode": {
        "name": "ipython",
        "version": 3
      },
      "file_extension": ".py",
      "mimetype": "text/x-python",
      "name": "python",
      "nbconvert_exporter": "python",
      "pygments_lexer": "ipython3",
      "version": "3.8.5"
    }
  },
  "nbformat": 4,
  "nbformat_minor": 0
}