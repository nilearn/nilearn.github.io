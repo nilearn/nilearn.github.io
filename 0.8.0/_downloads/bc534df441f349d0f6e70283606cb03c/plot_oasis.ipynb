{
  "cells": [
    {
      "cell_type": "code",
      "execution_count": null,
      "metadata": {
        "collapsed": false
      },
      "outputs": [],
      "source": [
        "%matplotlib inline"
      ]
    },
    {
      "cell_type": "markdown",
      "metadata": {},
      "source": [
        "# Voxel-Based Morphometry on Oasis dataset\n\nThis example uses Voxel-Based Morphometry (VBM) to study the relationship\nbetween aging, sex and gray matter density.\n\nThe data come from the `OASIS <http://www.oasis-brains.org/>`_ project.\nIf you use it, you need to agree with the data usage agreement available\non the website.\n\nIt has been run through a standard VBM pipeline (using SPM8 and\nNewSegment) to create VBM maps, which we study here.\n\n## VBM analysis of aging\n\nWe run a standard GLM analysis to study the association between age\nand gray matter density from the VBM data. We use only 100 subjects\nfrom the OASIS dataset to limit the memory usage.\n\nNote that more power would be obtained from using a larger sample of subjects.\n"
      ]
    },
    {
      "cell_type": "code",
      "execution_count": null,
      "metadata": {
        "collapsed": false
      },
      "outputs": [],
      "source": [
        "# Authors: Bertrand Thirion, <bertrand.thirion@inria.fr>, July 2018\n#          Elvis Dhomatob, <elvis.dohmatob@inria.fr>, Apr. 2014\n#          Virgile Fritsch, <virgile.fritsch@inria.fr>, Apr 2014\n#          Gael Varoquaux, Apr 2014\n\n\nn_subjects = 100  # more subjects requires more memory"
      ]
    },
    {
      "cell_type": "markdown",
      "metadata": {},
      "source": [
        "## Load Oasis dataset\n\n"
      ]
    },
    {
      "cell_type": "code",
      "execution_count": null,
      "metadata": {
        "collapsed": false
      },
      "outputs": [],
      "source": [
        "from nilearn import datasets\noasis_dataset = datasets.fetch_oasis_vbm(n_subjects=n_subjects)\ngray_matter_map_filenames = oasis_dataset.gray_matter_maps\nage = oasis_dataset.ext_vars['age'].astype(float)"
      ]
    },
    {
      "cell_type": "markdown",
      "metadata": {},
      "source": [
        "Sex is encoded as 'M' or 'F'. Hence, we make it a binary variable.\n\n"
      ]
    },
    {
      "cell_type": "code",
      "execution_count": null,
      "metadata": {
        "collapsed": false
      },
      "outputs": [],
      "source": [
        "sex = oasis_dataset.ext_vars['mf'] == b'F'"
      ]
    },
    {
      "cell_type": "markdown",
      "metadata": {},
      "source": [
        "Print basic information on the dataset.\n\n"
      ]
    },
    {
      "cell_type": "code",
      "execution_count": null,
      "metadata": {
        "collapsed": false
      },
      "outputs": [],
      "source": [
        "print('First gray-matter anatomy image (3D) is located at: %s' %\n      oasis_dataset.gray_matter_maps[0])  # 3D data\nprint('First white-matter anatomy image (3D) is located at: %s' %\n      oasis_dataset.white_matter_maps[0])  # 3D data"
      ]
    },
    {
      "cell_type": "markdown",
      "metadata": {},
      "source": [
        "Get a mask image: A mask of the  cortex of the ICBM template.\n\n"
      ]
    },
    {
      "cell_type": "code",
      "execution_count": null,
      "metadata": {
        "collapsed": false
      },
      "outputs": [],
      "source": [
        "gm_mask = datasets.fetch_icbm152_brain_gm_mask()"
      ]
    },
    {
      "cell_type": "markdown",
      "metadata": {},
      "source": [
        "Resample the images, since this mask has a different resolution.\n\n"
      ]
    },
    {
      "cell_type": "code",
      "execution_count": null,
      "metadata": {
        "collapsed": false
      },
      "outputs": [],
      "source": [
        "from nilearn.image import resample_to_img\nmask_img = resample_to_img(\n    gm_mask, gray_matter_map_filenames[0], interpolation='nearest')"
      ]
    },
    {
      "cell_type": "markdown",
      "metadata": {},
      "source": [
        "## Analyse data\n\nFirst, we create an adequate design matrix with three columns: 'age',\n'sex', 'intercept'.\n\n"
      ]
    },
    {
      "cell_type": "code",
      "execution_count": null,
      "metadata": {
        "collapsed": false
      },
      "outputs": [],
      "source": [
        "import pandas as pd\nimport numpy as np\nintercept = np.ones(n_subjects)\ndesign_matrix = pd.DataFrame(np.vstack((age, sex, intercept)).T,\n                             columns=['age', 'sex', 'intercept'])"
      ]
    },
    {
      "cell_type": "markdown",
      "metadata": {},
      "source": [
        "Let's plot the design matrix.\n\n"
      ]
    },
    {
      "cell_type": "code",
      "execution_count": null,
      "metadata": {
        "collapsed": false
      },
      "outputs": [],
      "source": [
        "from nilearn.plotting import plot_design_matrix\n\nax = plot_design_matrix(design_matrix)\nax.set_title('Second level design matrix', fontsize=12)\nax.set_ylabel('maps')"
      ]
    },
    {
      "cell_type": "markdown",
      "metadata": {},
      "source": [
        "Next, we specify and fit the second-level model when loading the data and\nalso smooth a little bit to improve statistical behavior.\n\n"
      ]
    },
    {
      "cell_type": "code",
      "execution_count": null,
      "metadata": {
        "collapsed": false
      },
      "outputs": [],
      "source": [
        "from nilearn.glm.second_level import SecondLevelModel\nsecond_level_model = SecondLevelModel(smoothing_fwhm=2.0, mask_img=mask_img)\nsecond_level_model.fit(gray_matter_map_filenames,\n                       design_matrix=design_matrix)"
      ]
    },
    {
      "cell_type": "markdown",
      "metadata": {},
      "source": [
        "Estimating the contrast is very simple. We can just provide the column\nname of the design matrix.\n\n"
      ]
    },
    {
      "cell_type": "code",
      "execution_count": null,
      "metadata": {
        "collapsed": false
      },
      "outputs": [],
      "source": [
        "z_map = second_level_model.compute_contrast(second_level_contrast=[1, 0, 0],\n                                            output_type='z_score')"
      ]
    },
    {
      "cell_type": "markdown",
      "metadata": {},
      "source": [
        "We threshold the second level contrast at uncorrected p < 0.001 and plot it.\n\n"
      ]
    },
    {
      "cell_type": "code",
      "execution_count": null,
      "metadata": {
        "collapsed": false
      },
      "outputs": [],
      "source": [
        "from nilearn import plotting\nfrom nilearn.glm import threshold_stats_img\n_, threshold = threshold_stats_img(\n    z_map, alpha=.05, height_control='fdr')\nprint('The FDR=.05-corrected threshold is: %.3g' % threshold)\n\ndisplay = plotting.plot_stat_map(\n    z_map, threshold=threshold, colorbar=True, display_mode='z',\n    cut_coords=[-4, 26],\n    title='age effect on grey matter density (FDR = .05)')\nplotting.show()"
      ]
    },
    {
      "cell_type": "markdown",
      "metadata": {},
      "source": [
        "We can also study the effect of sex by computing the contrast, thresholding\nit and plot the resulting map.\n\n"
      ]
    },
    {
      "cell_type": "code",
      "execution_count": null,
      "metadata": {
        "collapsed": false
      },
      "outputs": [],
      "source": [
        "z_map = second_level_model.compute_contrast(second_level_contrast='sex',\n                                            output_type='z_score')\n_, threshold = threshold_stats_img(\n    z_map, alpha=.05, height_control='fdr')\nplotting.plot_stat_map(\n    z_map, threshold=threshold, colorbar=True,\n    title='sex effect on grey matter density (FDR = .05)')"
      ]
    },
    {
      "cell_type": "markdown",
      "metadata": {},
      "source": [
        "Note that there does not seem to be any significant effect of sex on\ngrey matter density on that dataset.\n\n"
      ]
    },
    {
      "cell_type": "markdown",
      "metadata": {},
      "source": [
        "## Generating a report\nIt can be useful to quickly generate a\nportable, ready-to-view report with most of the pertinent information.\nThis is easy to do if you have a fitted model and the list of contrasts,\nwhich we do here.\n\n"
      ]
    },
    {
      "cell_type": "code",
      "execution_count": null,
      "metadata": {
        "collapsed": false
      },
      "outputs": [],
      "source": [
        "from nilearn.reporting import make_glm_report\n\nicbm152_2009 = datasets.fetch_icbm152_2009()\nreport = make_glm_report(model=second_level_model,\n                         contrasts=['age', 'sex'],\n                         bg_img=icbm152_2009['t1'],\n                         )"
      ]
    },
    {
      "cell_type": "markdown",
      "metadata": {},
      "source": [
        "We have several ways to access the report:\n\n"
      ]
    },
    {
      "cell_type": "code",
      "execution_count": null,
      "metadata": {
        "collapsed": false
      },
      "outputs": [],
      "source": [
        "# report  # This report can be viewed in a notebook\n# report.save_as_html('report.html')\n# report.open_in_browser()"
      ]
    }
  ],
  "metadata": {
    "kernelspec": {
      "display_name": "Python 3",
      "language": "python",
      "name": "python3"
    },
    "language_info": {
      "codemirror_mode": {
        "name": "ipython",
        "version": 3
      },
      "file_extension": ".py",
      "mimetype": "text/x-python",
      "name": "python",
      "nbconvert_exporter": "python",
      "pygments_lexer": "ipython3",
      "version": "3.8.5"
    }
  },
  "nbformat": 4,
  "nbformat_minor": 0
}