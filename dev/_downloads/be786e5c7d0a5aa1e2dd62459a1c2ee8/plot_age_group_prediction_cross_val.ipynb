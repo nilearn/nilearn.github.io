{
  "cells": [
    {
      "cell_type": "markdown",
      "metadata": {},
      "source": [
        "\n# Functional connectivity predicts age group\n\nThis example compares different kinds of :term:`functional connectivity`\nbetween regions of interest : correlation, partial correlation,\nand tangent space embedding.\n\nThe resulting connectivity coefficients can be used to\ndiscriminate children from adults. In general, the tangent space embedding\n**outperforms** the standard correlations:\nsee :footcite:t:`Dadi2019` for a careful study.\n\n.. include:: ../../../examples/masker_note.rst\n"
      ]
    },
    {
      "cell_type": "code",
      "execution_count": null,
      "metadata": {
        "collapsed": false
      },
      "outputs": [],
      "source": [
        "try:\n    import matplotlib.pyplot as plt\nexcept ImportError:\n    raise RuntimeError(\"This script needs the matplotlib library\")"
      ]
    },
    {
      "cell_type": "markdown",
      "metadata": {},
      "source": [
        "## Load brain development :term:`fMRI` dataset and MSDL atlas\nWe study only 60 subjects from the dataset, to save computation time.\n\n"
      ]
    },
    {
      "cell_type": "code",
      "execution_count": null,
      "metadata": {
        "collapsed": false
      },
      "outputs": [],
      "source": [
        "from nilearn.datasets import fetch_atlas_msdl, fetch_development_fmri\n\ndevelopment_dataset = fetch_development_fmri(n_subjects=60)"
      ]
    },
    {
      "cell_type": "markdown",
      "metadata": {},
      "source": [
        "We use probabilistic regions of interest (ROIs) from the MSDL atlas.\n\n"
      ]
    },
    {
      "cell_type": "code",
      "execution_count": null,
      "metadata": {
        "collapsed": false
      },
      "outputs": [],
      "source": [
        "from nilearn.maskers import NiftiMapsMasker\n\nmsdl_data = fetch_atlas_msdl()\nmsdl_coords = msdl_data.region_coords\n\nmasker = NiftiMapsMasker(\n    msdl_data.maps,\n    resampling_target=\"data\",\n    t_r=2,\n    detrend=True,\n    low_pass=0.1,\n    high_pass=0.01,\n    memory=\"nilearn_cache\",\n    memory_level=1,\n    standardize=\"zscore_sample\",\n    standardize_confounds=True,\n)\n\nmasked_data = list(\n    map(\n        masker.fit_transform,\n        development_dataset.func,\n        development_dataset.confounds,\n    )\n)"
      ]
    },
    {
      "cell_type": "markdown",
      "metadata": {},
      "source": [
        "## What kind of connectivity is most powerful for classification?\nwe will use connectivity matrices as features to distinguish children from\nadults. We use cross-validation and measure classification accuracy to\ncompare the different kinds of connectivity matrices.\n\n"
      ]
    },
    {
      "cell_type": "code",
      "execution_count": null,
      "metadata": {
        "collapsed": false
      },
      "outputs": [],
      "source": [
        "# prepare the classification pipeline\nfrom sklearn.dummy import DummyClassifier\nfrom sklearn.model_selection import GridSearchCV\nfrom sklearn.pipeline import Pipeline\nfrom sklearn.svm import LinearSVC\n\nfrom nilearn.connectome import ConnectivityMeasure\n\nkinds = [\"correlation\", \"partial correlation\", \"tangent\"]\n\npipe = Pipeline(\n    [\n        (\n            \"connectivity\",\n            ConnectivityMeasure(\n                vectorize=True,\n                standardize=\"zscore_sample\",\n            ),\n        ),\n        (\n            \"classifier\",\n            GridSearchCV(LinearSVC(dual=True), {\"C\": [0.1, 1.0, 10.0]}, cv=5),\n        ),\n    ]\n)\n\nparam_grid = [\n    {\"classifier\": [DummyClassifier(strategy=\"most_frequent\")]},\n    {\"connectivity__kind\": kinds},\n]"
      ]
    },
    {
      "cell_type": "markdown",
      "metadata": {},
      "source": [
        "We use random splits of the subjects into training/testing sets.\nStratifiedShuffleSplit allows preserving the proportion of children in the\ntest set.\n\n"
      ]
    },
    {
      "cell_type": "code",
      "execution_count": null,
      "metadata": {
        "collapsed": false
      },
      "outputs": [],
      "source": [
        "from sklearn.model_selection import StratifiedShuffleSplit\nfrom sklearn.preprocessing import LabelEncoder\n\ngroups = development_dataset.phenotypic[\"Child_Adult\"].to_list()\nclasses = LabelEncoder().fit_transform(groups)\n\ncv = StratifiedShuffleSplit(n_splits=30, random_state=0, test_size=10)\ngs = GridSearchCV(\n    pipe,\n    param_grid,\n    scoring=\"accuracy\",\n    cv=cv,\n    verbose=1,\n    refit=False,\n    n_jobs=2,\n)\ngs.fit(masked_data, classes)\nmean_scores = gs.cv_results_[\"mean_test_score\"]\nscores_std = gs.cv_results_[\"std_test_score\"]"
      ]
    },
    {
      "cell_type": "markdown",
      "metadata": {},
      "source": [
        "display the results\n\n"
      ]
    },
    {
      "cell_type": "code",
      "execution_count": null,
      "metadata": {
        "collapsed": false
      },
      "outputs": [],
      "source": [
        "plt.figure(figsize=(6, 4), constrained_layout=True)\n\npositions = [0.1, 0.2, 0.3, 0.4]\nplt.barh(positions, mean_scores, align=\"center\", height=0.05, xerr=scores_std)\nyticks = [\"dummy\", *list(gs.cv_results_[\"param_connectivity__kind\"].data[1:])]\nyticks = [t.replace(\" \", \"\\n\") for t in yticks]\nplt.yticks(positions, yticks)\nplt.xlabel(\"Classification accuracy\")\nplt.gca().grid(True)\nplt.gca().set_axisbelow(True)"
      ]
    },
    {
      "cell_type": "markdown",
      "metadata": {},
      "source": [
        "This is a small example to showcase nilearn features. In practice such\ncomparisons need to be performed on much larger cohorts and several\ndatasets.\n:footcite:t:`Dadi2019` showed\nthat across many cohorts and clinical questions,\nthe tangent kind should be preferred.\n\n"
      ]
    },
    {
      "cell_type": "code",
      "execution_count": null,
      "metadata": {
        "collapsed": false
      },
      "outputs": [],
      "source": [
        "plt.show()"
      ]
    },
    {
      "cell_type": "markdown",
      "metadata": {},
      "source": [
        "## References\n\n.. footbibliography::\n\n"
      ]
    }
  ],
  "metadata": {
    "kernelspec": {
      "display_name": "Python 3",
      "language": "python",
      "name": "python3"
    },
    "language_info": {
      "codemirror_mode": {
        "name": "ipython",
        "version": 3
      },
      "file_extension": ".py",
      "mimetype": "text/x-python",
      "name": "python",
      "nbconvert_exporter": "python",
      "pygments_lexer": "ipython3",
      "version": "3.10.18"
    }
  },
  "nbformat": 4,
  "nbformat_minor": 0
}