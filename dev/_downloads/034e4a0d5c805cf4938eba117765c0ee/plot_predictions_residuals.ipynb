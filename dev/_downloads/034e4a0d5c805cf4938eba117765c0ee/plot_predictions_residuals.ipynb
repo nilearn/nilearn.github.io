{
  "cells": [
    {
      "cell_type": "markdown",
      "metadata": {},
      "source": [
        "\n# Predicted time series and residuals\n\nHere we fit a First Level :term:`GLM` with the `minimize_memory`-argument\nset to `False`.\nBy doing so, the `FirstLevelModel`-object stores the residuals, which we can\nthen inspect.\nAlso, the predicted time series can be extracted, which is useful to assess the\nquality of the model fit.\n\n.. include:: ../../../examples/masker_note.rst\n"
      ]
    },
    {
      "cell_type": "markdown",
      "metadata": {},
      "source": [
        "## Import modules\n\n"
      ]
    },
    {
      "cell_type": "code",
      "execution_count": null,
      "metadata": {
        "collapsed": false
      },
      "outputs": [],
      "source": [
        "import pandas as pd\n\nfrom nilearn import image, masking\nfrom nilearn.datasets import fetch_spm_auditory\nfrom nilearn.plotting import plot_stat_map, show\n\n# load fMRI data\nsubject_data = fetch_spm_auditory()\nfmri_img = subject_data.func[0]\n\n# Make an average\nmean_img = image.mean_img(fmri_img)\nmask = masking.compute_epi_mask(mean_img)\n\n# Clean and smooth data\nfmri_img = image.clean_img(fmri_img, standardize=False)\nfmri_img = image.smooth_img(fmri_img, 5.0)\n\n# load events\nevents = pd.read_csv(subject_data.events, sep=\"\\t\")"
      ]
    },
    {
      "cell_type": "markdown",
      "metadata": {},
      "source": [
        "## Fit model\nNote that `minimize_memory` is set to `False` so that `FirstLevelModel`\nstores the residuals.\n`signal_scaling` is set to False, so we keep the same scaling as the\noriginal data in `fmri_img`.\n\n"
      ]
    },
    {
      "cell_type": "code",
      "execution_count": null,
      "metadata": {
        "collapsed": false
      },
      "outputs": [],
      "source": [
        "from nilearn.glm.first_level import FirstLevelModel\n\nfmri_glm = FirstLevelModel(\n    t_r=subject_data.t_r,\n    drift_model=\"cosine\",\n    signal_scaling=False,\n    mask_img=mask,\n    minimize_memory=False,\n)\n\nfmri_glm = fmri_glm.fit(fmri_img, events)"
      ]
    },
    {
      "cell_type": "markdown",
      "metadata": {},
      "source": [
        "## Calculate and plot contrast\n\n"
      ]
    },
    {
      "cell_type": "code",
      "execution_count": null,
      "metadata": {
        "collapsed": false
      },
      "outputs": [],
      "source": [
        "z_map = fmri_glm.compute_contrast(\"listening\")\n\nthreshold = 3.1\nplot_stat_map(\n    z_map,\n    bg_img=mean_img,\n    threshold=threshold,\n    title=f\"listening > rest (t-test; |Z|>{threshold})\",\n)\n\nshow()"
      ]
    },
    {
      "cell_type": "markdown",
      "metadata": {},
      "source": [
        "## Extract the largest clusters\n\n"
      ]
    },
    {
      "cell_type": "code",
      "execution_count": null,
      "metadata": {
        "collapsed": false
      },
      "outputs": [],
      "source": [
        "from nilearn.maskers import NiftiSpheresMasker\nfrom nilearn.reporting import get_clusters_table\n\ntable = get_clusters_table(\n    z_map, stat_threshold=threshold, cluster_threshold=20\n)\ntable.set_index(\"Cluster ID\", drop=True)\ntable.head()\n\n# get the 6 largest clusters' max x, y, and z coordinates\ncoords = table.loc[range(1, 7), [\"X\", \"Y\", \"Z\"]].to_numpy()\n\n# extract time series from each coordinate\nmasker = NiftiSpheresMasker(coords)\nreal_timeseries = masker.fit_transform(fmri_img)\npredicted_timeseries = masker.fit_transform(fmri_glm.predicted[0])"
      ]
    },
    {
      "cell_type": "markdown",
      "metadata": {},
      "source": [
        "## Plot predicted and actual time series for 6 most significant clusters\n\n"
      ]
    },
    {
      "cell_type": "code",
      "execution_count": null,
      "metadata": {
        "collapsed": false
      },
      "outputs": [],
      "source": [
        "import matplotlib.pyplot as plt\n\n# colors for each of the clusters\ncolors = [\"blue\", \"navy\", \"purple\", \"magenta\", \"olive\", \"teal\"]\n# plot the time series and corresponding locations\nfig1, axs1 = plt.subplots(2, 6)\nfor i in range(6):\n    # plotting time series\n    axs1[0, i].set_title(f\"Cluster peak {coords[i]}\\n\")\n    axs1[0, i].plot(real_timeseries[:, i], c=colors[i], lw=2)\n    axs1[0, i].plot(predicted_timeseries[:, i], c=\"r\", ls=\"--\", lw=2)\n    axs1[0, i].set_xlabel(\"Time\")\n    axs1[0, i].set_ylabel(\"Signal intensity\", labelpad=0)\n    # plotting image below the time series\n    roi_img = plot_stat_map(\n        z_map,\n        cut_coords=[coords[i][2]],\n        threshold=3.1,\n        figure=fig1,\n        axes=axs1[1, i],\n        display_mode=\"z\",\n        colorbar=False,\n        bg_img=mean_img,\n    )\n    roi_img.add_markers([coords[i]], colors[i], 300)\nfig1.set_size_inches(24, 14)\n\nshow()"
      ]
    },
    {
      "cell_type": "markdown",
      "metadata": {},
      "source": [
        "## Get residuals\n\n"
      ]
    },
    {
      "cell_type": "code",
      "execution_count": null,
      "metadata": {
        "collapsed": false
      },
      "outputs": [],
      "source": [
        "resid = masker.fit_transform(fmri_glm.residuals[0])"
      ]
    },
    {
      "cell_type": "markdown",
      "metadata": {},
      "source": [
        "## Plot distribution of residuals\nNote that residuals are not really distributed normally.\n\n"
      ]
    },
    {
      "cell_type": "code",
      "execution_count": null,
      "metadata": {
        "collapsed": false
      },
      "outputs": [],
      "source": [
        "fig2, axs2 = plt.subplots(2, 3, constrained_layout=True)\n\naxs2 = axs2.flatten()\nfor i in range(6):\n    axs2[i].set_title(f\"Cluster peak {coords[i]}\\n\")\n    axs2[i].hist(resid[:, i], color=colors[i])\n    print(f\"Mean residuals: {resid[:, i].mean()}\")\n\nfig2.set_size_inches(12, 7)\n\nshow()"
      ]
    },
    {
      "cell_type": "markdown",
      "metadata": {},
      "source": [
        "## Plot R-squared\nBecause we stored the residuals, we can plot the R-squared: the proportion of\nexplained variance of the :term:`GLM` as a whole.\nNote that the R-squared is markedly\nlower deep down the brain, where there is more physiological noise and we are\nfurther away from the receive coils. However, R-Squared should be interpreted\nwith a grain of salt. The R-squared value will necessarily increase with the\naddition of more factors (such as rest, active, drift, motion) into the GLM.\nAdditionally, we are looking at the overall fit of the model, so we are\nunable to say whether a voxel/region has a large R-squared value because the\nvoxel/region is responsive to the experiment (such as active or rest) or\nbecause the voxel/region fits the noise factors (such as drift or motion)\nthat could be present in the :term:`GLM`.\nTo isolate the influence of the experiment,\nwe can use an F-test as shown in the next section.\n\n"
      ]
    },
    {
      "cell_type": "code",
      "execution_count": null,
      "metadata": {
        "collapsed": false
      },
      "outputs": [],
      "source": [
        "plot_stat_map(\n    fmri_glm.r_square[0],\n    bg_img=mean_img,\n    threshold=0.1,\n    display_mode=\"z\",\n    cut_coords=7,\n    cmap=\"inferno\",\n    title=\"R-squared\",\n    vmin=0,\n    symmetric_cbar=False,\n)"
      ]
    },
    {
      "cell_type": "markdown",
      "metadata": {},
      "source": [
        "## Calculate and Plot F-test\nThe F-test tells you how well the :term:`GLM` fits effects of interest\nsuch as the active and rest conditions together.\nThis is different from R-squared, which\ntells you how well the overall :term:`GLM` fits the data,\nincluding active, rest and all the other columns\nin the design matrix such as drift and motion.\n\n"
      ]
    },
    {
      "cell_type": "code",
      "execution_count": null,
      "metadata": {
        "collapsed": false
      },
      "outputs": [],
      "source": [
        "# f-test for 'listening'\nz_map_ftest = fmri_glm.compute_contrast(\n    \"listening\", stat_type=\"F\", output_type=\"z_score\"\n)\n\nplot_stat_map(\n    z_map_ftest,\n    bg_img=mean_img,\n    threshold=threshold,\n    display_mode=\"z\",\n    cut_coords=7,\n    cmap=\"inferno\",\n    title=f\"listening > rest (F-test; Z>{threshold})\",\n    symmetric_cbar=False,\n    vmin=0,\n)\n\nshow()"
      ]
    }
  ],
  "metadata": {
    "kernelspec": {
      "display_name": "Python 3",
      "language": "python",
      "name": "python3"
    },
    "language_info": {
      "codemirror_mode": {
        "name": "ipython",
        "version": 3
      },
      "file_extension": ".py",
      "mimetype": "text/x-python",
      "name": "python",
      "nbconvert_exporter": "python",
      "pygments_lexer": "ipython3",
      "version": "3.10.18"
    }
  },
  "nbformat": 4,
  "nbformat_minor": 0
}