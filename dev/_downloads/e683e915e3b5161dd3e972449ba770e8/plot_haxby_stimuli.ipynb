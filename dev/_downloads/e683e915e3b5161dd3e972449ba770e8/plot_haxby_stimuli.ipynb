{
  "cells": [
    {
      "cell_type": "markdown",
      "metadata": {},
      "source": [
        "\n# Show stimuli of Haxby et al. dataset\n\nIn this script we plot an overview of the stimuli used\nin :footcite:t:`Haxby2001`.\n"
      ]
    },
    {
      "cell_type": "code",
      "execution_count": null,
      "metadata": {
        "collapsed": false
      },
      "outputs": [],
      "source": [
        "from nilearn._utils.helpers import check_matplotlib\n\ncheck_matplotlib()\n\nimport matplotlib.pyplot as plt"
      ]
    },
    {
      "cell_type": "code",
      "execution_count": null,
      "metadata": {
        "collapsed": false
      },
      "outputs": [],
      "source": [
        "from nilearn import datasets\nfrom nilearn.plotting import show\n\nhaxby_dataset = datasets.fetch_haxby(subjects=[], fetch_stimuli=True)\nstimulus_information = haxby_dataset.stimuli"
      ]
    },
    {
      "cell_type": "code",
      "execution_count": null,
      "metadata": {
        "collapsed": false
      },
      "outputs": [],
      "source": [
        "for stim_type in stimulus_information:\n    # skip control images, there are too many\n    if stim_type != \"controls\":\n        file_names = stimulus_information[stim_type]\n\n        fig, axes = plt.subplots(6, 8)\n        fig.suptitle(stim_type)\n\n        for img_path, ax in zip(file_names, axes.ravel()):\n            ax.imshow(plt.imread(img_path), cmap=\"gray\")\n\n        for ax in axes.ravel():\n            ax.axis(\"off\")\n\nshow()"
      ]
    },
    {
      "cell_type": "markdown",
      "metadata": {},
      "source": [
        "## References\n\n.. footbibliography::\n\n"
      ]
    }
  ],
  "metadata": {
    "kernelspec": {
      "display_name": "Python 3",
      "language": "python",
      "name": "python3"
    },
    "language_info": {
      "codemirror_mode": {
        "name": "ipython",
        "version": 3
      },
      "file_extension": ".py",
      "mimetype": "text/x-python",
      "name": "python",
      "nbconvert_exporter": "python",
      "pygments_lexer": "ipython3",
      "version": "3.9.23"
    }
  },
  "nbformat": 4,
  "nbformat_minor": 0
}