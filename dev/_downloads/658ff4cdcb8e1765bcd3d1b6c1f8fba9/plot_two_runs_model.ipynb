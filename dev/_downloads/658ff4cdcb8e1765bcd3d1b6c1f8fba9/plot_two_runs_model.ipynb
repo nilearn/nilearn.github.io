{
  "cells": [
    {
      "cell_type": "markdown",
      "metadata": {},
      "source": [
        "\n# Simple example of two-runs fMRI model fitting\n\nHere, we will go through a full step-by-step example of fitting a GLM\nto experimental data and visualizing the results.\nThis is done on two runs of one subject of the FIAC dataset.\n\nHere are the steps we will go through:\n\n1. Set up the GLM\n2. Compare run-specific and fixed effects contrasts\n3. Compute a range of contrasts across both runs\n4. Generate a report\n\nTechnically, this example shows how to handle two runs\nthat contain the same experimental conditions.\nThe model directly returns a fixed effect\nof the statistics across the two runs.\n\n.. seealso::\n\n    See the `dataset description <fiac_dataset>`\n    for more information on the data used in this example.\n"
      ]
    },
    {
      "cell_type": "markdown",
      "metadata": {},
      "source": [
        "Create an output ``results`` in the current working directory.\n\n"
      ]
    },
    {
      "cell_type": "code",
      "execution_count": null,
      "metadata": {
        "collapsed": false
      },
      "outputs": [],
      "source": [
        "from pathlib import Path\n\noutput_dir = Path.cwd() / \"results\" / \"plot_two_runs_model\"\noutput_dir.mkdir(exist_ok=True, parents=True)\nprint(f\"Output will be saved to: {output_dir}\")"
      ]
    },
    {
      "cell_type": "markdown",
      "metadata": {},
      "source": [
        "## Set up the GLM\nInspecting 'data', we note that there are two runs.\nWe will retain those two runs in a list of 4D img objects.\n\n"
      ]
    },
    {
      "cell_type": "code",
      "execution_count": null,
      "metadata": {
        "collapsed": false
      },
      "outputs": [],
      "source": [
        "from nilearn.datasets.func import fetch_fiac_first_level\n\ndata = fetch_fiac_first_level()\nfmri_imgs = [data[\"func1\"], data[\"func2\"]]"
      ]
    },
    {
      "cell_type": "markdown",
      "metadata": {},
      "source": [
        "Create a mean image for plotting purpose.\n\n"
      ]
    },
    {
      "cell_type": "code",
      "execution_count": null,
      "metadata": {
        "collapsed": false
      },
      "outputs": [],
      "source": [
        "from nilearn.image import mean_img\n\nmean_img_ = mean_img(fmri_imgs[0])"
      ]
    },
    {
      "cell_type": "markdown",
      "metadata": {},
      "source": [
        "The design matrices were pre-computed,\nwe simply put them in a list of DataFrames.\n\n"
      ]
    },
    {
      "cell_type": "code",
      "execution_count": null,
      "metadata": {
        "collapsed": false
      },
      "outputs": [],
      "source": [
        "import numpy as np\n\ndesign_matrices = [data[\"design_matrix1\"], data[\"design_matrix2\"]]"
      ]
    },
    {
      "cell_type": "markdown",
      "metadata": {},
      "source": [
        "## Initialize and run the GLM\nFirst, we need to specify the model\nbefore fitting it to the data.\nNote that a brain mask was provided in the dataset,\nso that is what we will use.\n\n"
      ]
    },
    {
      "cell_type": "code",
      "execution_count": null,
      "metadata": {
        "collapsed": false
      },
      "outputs": [],
      "source": [
        "from nilearn.glm.first_level import FirstLevelModel\n\nfmri_glm = FirstLevelModel(\n    mask_img=data[\"mask\"],\n    smoothing_fwhm=5,\n    minimize_memory=True,\n)"
      ]
    },
    {
      "cell_type": "markdown",
      "metadata": {},
      "source": [
        "## Compare run-specific and fixed effects contrasts\nWe can then compare run-specific and fixed effects.\nHere, we compare the activation produced from each run separately\nand then the fixed effects version.\n\n"
      ]
    },
    {
      "cell_type": "code",
      "execution_count": null,
      "metadata": {
        "collapsed": false
      },
      "outputs": [],
      "source": [
        "contrast_id = \"DSt_minus_SSt\""
      ]
    },
    {
      "cell_type": "markdown",
      "metadata": {},
      "source": [
        "Compute the statistics for the first run.\n\nHere, we define the contrast of interest for the first run.\nThis may differ across runs depending on if the design matrices vary.\n\n"
      ]
    },
    {
      "cell_type": "code",
      "execution_count": null,
      "metadata": {
        "collapsed": false
      },
      "outputs": [],
      "source": [
        "from nilearn.plotting import plot_stat_map, show\n\ncontrast_val = [[-1, -1, 1, 1]]\n\nfmri_glm_run_1 = fmri_glm.fit(fmri_imgs[0], design_matrices=design_matrices[0])\nsummary_statistics_run_1 = fmri_glm_run_1.compute_contrast(\n    contrast_val,\n    output_type=\"all\",\n)\n\n# Let's use the same plotting range and slices for all plots.\nthreshold = 3\nvmax = 6.0\ncut_coords = [-129, -126, 49]\n\nplot_stat_map(\n    summary_statistics_run_1[\"z_score\"],\n    bg_img=mean_img_,\n    threshold=threshold,\n    cut_coords=cut_coords,\n    title=f\"{contrast_id}, first run\",\n    vmax=vmax,\n)\n\nshow()"
      ]
    },
    {
      "cell_type": "markdown",
      "metadata": {},
      "source": [
        "Compute the statistics for the second run.\n\n"
      ]
    },
    {
      "cell_type": "code",
      "execution_count": null,
      "metadata": {
        "collapsed": false
      },
      "outputs": [],
      "source": [
        "fmri_glm_run_2 = fmri_glm.fit(fmri_imgs[1], design_matrices=design_matrices[1])\n\ncontrast_val = np.array([[-1, -1, 1, 1]])\n\nsummary_statistics_run_2 = fmri_glm_run_2.compute_contrast(\n    contrast_val,\n    output_type=\"all\",\n)\nplot_stat_map(\n    summary_statistics_run_2[\"z_score\"],\n    bg_img=mean_img_,\n    threshold=threshold,\n    cut_coords=cut_coords,\n    title=f\"{contrast_id}, second run\",\n    vmax=vmax,\n)\n\nshow()"
      ]
    },
    {
      "cell_type": "markdown",
      "metadata": {},
      "source": [
        "Compute the fixed effects statistics\nusing the statistical maps of both runs.\n\nWe can use :func:`~nilearn.glm.compute_fixed_effects` to compute\nthe fixed effects statistics using the outputs\nfrom the run-specific FirstLevelModel results.\n\n"
      ]
    },
    {
      "cell_type": "code",
      "execution_count": null,
      "metadata": {
        "collapsed": false
      },
      "outputs": [],
      "source": [
        "from nilearn.glm.contrasts import compute_fixed_effects\n\ncontrast_imgs = [\n    summary_statistics_run_1[\"effect_size\"],\n    summary_statistics_run_2[\"effect_size\"],\n]\nvariance_imgs = [\n    summary_statistics_run_1[\"effect_variance\"],\n    summary_statistics_run_2[\"effect_variance\"],\n]\n\nfixed_fx_contrast, fixed_fx_variance, fixed_fx_stat, _ = compute_fixed_effects(\n    contrast_imgs, variance_imgs, data[\"mask\"]\n)\nplot_stat_map(\n    fixed_fx_stat,\n    bg_img=mean_img_,\n    threshold=threshold,\n    cut_coords=cut_coords,\n    title=f\"{contrast_id}, fixed effects\",\n    vmax=vmax,\n)\n\nshow()"
      ]
    },
    {
      "cell_type": "markdown",
      "metadata": {},
      "source": [
        "Not unexpectedly, the fixed effects version displays higher peaks\nthan the input runs.\nComputing fixed effects enhances the signal-to-noise ratio\nof the resulting brain maps.\n\n"
      ]
    },
    {
      "cell_type": "markdown",
      "metadata": {},
      "source": [
        "## Compute fixed effects statistics using preprocessed data of both runs\n\nA more straightforward alternative to fitting run-specific GLMs,\nthan combining the results with :func:`~nilearn.glm.compute_fixed_effects`,\nis to simply fit the GLM to both runs at once.\n\nSince we can assume that the design matrices of both runs\nhave the same columns, in the same order,\nwe can again reuse the first run's contrast vector.\n\n"
      ]
    },
    {
      "cell_type": "code",
      "execution_count": null,
      "metadata": {
        "collapsed": false
      },
      "outputs": [],
      "source": [
        "fmri_glm_multirun = fmri_glm.fit(fmri_imgs, design_matrices=design_matrices)"
      ]
    },
    {
      "cell_type": "markdown",
      "metadata": {},
      "source": [
        "We can just define the contrast array for one run and assume\nthat the design matrix is the same for the other.\nHowever, if we want to be safe, we should define each contrast separately,\nand provide it as a list.\n\n"
      ]
    },
    {
      "cell_type": "code",
      "execution_count": null,
      "metadata": {
        "collapsed": false
      },
      "outputs": [],
      "source": [
        "contrast_val = [\n    np.array([[-1, -1, 1, 1]]),  # run 1\n    np.array([[-1, -1, 1, 1]]),  # run 2\n]\n\nz_map = fmri_glm_multirun.compute_contrast(\n    contrast_val,\n    output_type=\"z_score\",\n)\nplot_stat_map(\n    z_map,\n    bg_img=mean_img_,\n    threshold=threshold,\n    cut_coords=cut_coords,\n    title=f\"{contrast_id}, fixed effects\",\n    vmax=vmax,\n)\n\nshow()"
      ]
    },
    {
      "cell_type": "markdown",
      "metadata": {},
      "source": [
        "You may note that the results are the same as the first fixed effects\nanalysis, but with a lot less code.\n\n"
      ]
    },
    {
      "cell_type": "markdown",
      "metadata": {},
      "source": [
        "## Compute a range of contrasts across both runs\nIt may be useful to investigate a number of contrasts.\nTherefore, we will move beyond the original contrast of interest\nand both define and compute several.\n\n"
      ]
    },
    {
      "cell_type": "markdown",
      "metadata": {},
      "source": [
        "Contrast specification\n\n"
      ]
    },
    {
      "cell_type": "code",
      "execution_count": null,
      "metadata": {
        "collapsed": false
      },
      "outputs": [],
      "source": [
        "n_columns = design_matrices[0].shape[1]\ncontrasts = {\n    \"SStSSp_minus_DStDSp\": np.array([[1, 0, 0, -1]]),\n    \"DStDSp_minus_SStSSp\": np.array([[-1, 0, 0, 1]]),\n    \"DSt_minus_SSt\": np.array([[-1, -1, 1, 1]]),\n    \"DSp_minus_SSp\": np.array([[-1, 1, -1, 1]]),\n    \"DSt_minus_SSt_for_DSp\": np.array([[0, -1, 0, 1]]),\n    \"DSp_minus_SSp_for_DSt\": np.array([[0, 0, -1, 1]]),\n    \"Deactivation\": np.array([[-1, -1, -1, -1, 4]]),\n    \"Effects_of_interest\": np.eye(n_columns)[:5, :],  # An F-contrast\n}"
      ]
    },
    {
      "cell_type": "markdown",
      "metadata": {},
      "source": [
        "Next, we compute and plot the statistics for these new contrasts.\n\n"
      ]
    },
    {
      "cell_type": "code",
      "execution_count": null,
      "metadata": {
        "collapsed": false
      },
      "outputs": [],
      "source": [
        "print(\"Computing contrasts...\")\nfor index, (contrast_id, contrast_val) in enumerate(contrasts.items()):\n    print(f\"  Contrast {index + 1:02g} out of {len(contrasts)}: {contrast_id}\")\n    # Estimate the contasts.\n    z_map = fmri_glm.compute_contrast(contrast_val, output_type=\"z_score\")\n\n    # Write the resulting stat images to file.\n    z_image_path = output_dir / f\"{contrast_id}_z_map.nii.gz\"\n    z_map.to_filename(z_image_path)"
      ]
    },
    {
      "cell_type": "markdown",
      "metadata": {},
      "source": [
        "## Generating a report\nSince we have already computed the FirstLevelModel\nand have a number of contrasts,\nwe can quickly create a summary report.\n\n"
      ]
    },
    {
      "cell_type": "code",
      "execution_count": null,
      "metadata": {
        "collapsed": false
      },
      "outputs": [],
      "source": [
        "report = fmri_glm_multirun.generate_report(\n    contrasts,\n    bg_img=mean_img_,\n    title=\"two-runs fMRI model fitting\",\n)"
      ]
    },
    {
      "cell_type": "markdown",
      "metadata": {},
      "source": [
        "We have several ways to access the report:\n\nThis report can be viewed in a notebook.\n\n"
      ]
    },
    {
      "cell_type": "code",
      "execution_count": null,
      "metadata": {
        "collapsed": false
      },
      "outputs": [],
      "source": [
        "report"
      ]
    },
    {
      "cell_type": "markdown",
      "metadata": {},
      "source": [
        "Or in a separate browser window\nreport.open_in_browser()\n\n"
      ]
    },
    {
      "cell_type": "markdown",
      "metadata": {},
      "source": [
        "Or we can save as an html file.\n\n"
      ]
    },
    {
      "cell_type": "code",
      "execution_count": null,
      "metadata": {
        "collapsed": false
      },
      "outputs": [],
      "source": [
        "report.save_as_html(output_dir / \"report.html\")"
      ]
    }
  ],
  "metadata": {
    "kernelspec": {
      "display_name": "Python 3",
      "language": "python",
      "name": "python3"
    },
    "language_info": {
      "codemirror_mode": {
        "name": "ipython",
        "version": 3
      },
      "file_extension": ".py",
      "mimetype": "text/x-python",
      "name": "python",
      "nbconvert_exporter": "python",
      "pygments_lexer": "ipython3",
      "version": "3.10.18"
    }
  },
  "nbformat": 4,
  "nbformat_minor": 0
}