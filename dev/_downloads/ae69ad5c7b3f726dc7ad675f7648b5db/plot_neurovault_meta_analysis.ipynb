{
  "cells": [
    {
      "cell_type": "markdown",
      "metadata": {},
      "source": [
        "\n# NeuroVault meta-analysis of stop-go paradigm studies\n\nThis example shows how to download statistical maps from :term:`Neurovault`.\n\nSee :func:`~nilearn.datasets.fetch_neurovault_ids`\ndocumentation for more details.\n"
      ]
    },
    {
      "cell_type": "code",
      "execution_count": null,
      "metadata": {
        "collapsed": false
      },
      "outputs": [],
      "source": [
        "import scipy\n\nfrom nilearn.datasets import fetch_neurovault_ids\nfrom nilearn.image import get_data, load_img, math_img, new_img_like\nfrom nilearn.plotting import plot_glass_brain, plot_stat_map, show"
      ]
    },
    {
      "cell_type": "markdown",
      "metadata": {},
      "source": [
        "## Fetch images for \"successful stop minus go\"-like protocols.\n\n"
      ]
    },
    {
      "cell_type": "code",
      "execution_count": null,
      "metadata": {
        "collapsed": false
      },
      "outputs": [],
      "source": [
        "# These are the images we are interested in,\n# in order to save time we specify their ids explicitly.\nstop_go_image_ids = (151, 3041, 3042, 2676, 2675, 2818, 2834)\n\n# These ids were determined by querying Neurovault like this:\n\n# from nilearn.datasets import fetch_neurovault, neurovault\n#\n# nv_data = fetch_neurovault(\n#     max_images=7,\n#     cognitive_paradigm_cogatlas=neurovault.Contains('stop signal'),\n#     contrast_definition=neurovault.Contains('succ', 'stop', 'go'),\n#     map_type='T map')\n#\n# print([meta['id'] for meta in nv_data['images_meta']])\n\nnv_data = fetch_neurovault_ids(image_ids=stop_go_image_ids, timeout=30.0)\n\nimages_meta = nv_data[\"images_meta\"]"
      ]
    },
    {
      "cell_type": "markdown",
      "metadata": {},
      "source": [
        "## Visualize the data\n\n"
      ]
    },
    {
      "cell_type": "code",
      "execution_count": null,
      "metadata": {
        "collapsed": false
      },
      "outputs": [],
      "source": [
        "print(\"\\nplotting glass brain for collected images\\n\")\n\nfor im in images_meta:\n    plot_glass_brain(\n        im[\"absolute_path\"],\n        title=f\"image {im['id']}: {im['contrast_definition']}\",\n        plot_abs=False,\n        vmin=-12,\n        vmax=12,\n    )"
      ]
    },
    {
      "cell_type": "markdown",
      "metadata": {},
      "source": [
        "## Compute statistics\n\n"
      ]
    },
    {
      "cell_type": "code",
      "execution_count": null,
      "metadata": {
        "collapsed": false
      },
      "outputs": [],
      "source": [
        "def t_to_z(t_scores, deg_of_freedom):\n    \"\"\"Convert t-scores to z-scores.\"\"\"\n    p_values = scipy.stats.t.sf(t_scores, df=deg_of_freedom)\n    z_values = scipy.stats.norm.isf(p_values)\n    return z_values\n\n\n# Compute z values\nz_imgs = []\ncurrent_collection = None\n\nprint(\"\\nComputing maps...\")\n\n# convert t to z for all images\nfor this_meta in images_meta:\n    if this_meta[\"collection_id\"] != current_collection:\n        print(f\"\\n\\nCollection {this_meta['id']}:\")\n        current_collection = this_meta[\"collection_id\"]\n\n    # Load and validate the downloaded image.\n    t_img = load_img(this_meta[\"absolute_path\"])\n    deg_of_freedom = this_meta[\"number_of_subjects\"] - 2\n    print(\n        f\"     Image {this_meta['id']}: degrees of freedom: {deg_of_freedom}\"\n    )\n\n    # Convert data, create new image.\n    z_img = new_img_like(\n        t_img, t_to_z(get_data(t_img), deg_of_freedom=deg_of_freedom)\n    )\n\n    z_imgs.append(z_img)"
      ]
    },
    {
      "cell_type": "markdown",
      "metadata": {},
      "source": [
        "## Plot the combined z maps\n\n"
      ]
    },
    {
      "cell_type": "code",
      "execution_count": null,
      "metadata": {
        "collapsed": false
      },
      "outputs": [],
      "source": [
        "cut_coords = [-15, -8, 6, 30, 46, 62]\nmeta_analysis_img = math_img(\n    \"np.sum(z_imgs, axis=3) / np.sqrt(z_imgs.shape[3])\", z_imgs=z_imgs\n)\n\nplot_stat_map(\n    meta_analysis_img,\n    display_mode=\"z\",\n    threshold=6,\n    cut_coords=cut_coords,\n    vmax=12,\n    vmin=-12,\n)\n\nshow()"
      ]
    }
  ],
  "metadata": {
    "kernelspec": {
      "display_name": "Python 3",
      "language": "python",
      "name": "python3"
    },
    "language_info": {
      "codemirror_mode": {
        "name": "ipython",
        "version": 3
      },
      "file_extension": ".py",
      "mimetype": "text/x-python",
      "name": "python",
      "nbconvert_exporter": "python",
      "pygments_lexer": "ipython3",
      "version": "3.10.18"
    }
  },
  "nbformat": 4,
  "nbformat_minor": 0
}