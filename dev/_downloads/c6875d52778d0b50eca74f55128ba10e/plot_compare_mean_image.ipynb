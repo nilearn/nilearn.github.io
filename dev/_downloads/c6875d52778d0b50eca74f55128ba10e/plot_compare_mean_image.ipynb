{
  "cells": [
    {
      "cell_type": "markdown",
      "metadata": {},
      "source": [
        "\n# Comparing the means of 2 images\n\nThe goal of this example is to illustrate the use of the function\n:func:`~nilearn.image.math_img` with a list of images as input.\nWe compare the means of 2 movie watching 4D images. The mean of the images\ncould have been computed with nilearn :func:`~nilearn.image.mean_img` function.\n"
      ]
    },
    {
      "cell_type": "markdown",
      "metadata": {},
      "source": [
        "Fetching 2 subject movie watching brain development :term:`fMRI` datasets.\n\n"
      ]
    },
    {
      "cell_type": "code",
      "execution_count": null,
      "metadata": {
        "collapsed": false
      },
      "outputs": [],
      "source": [
        "from nilearn import datasets\n\ndataset = datasets.fetch_development_fmri(n_subjects=2)"
      ]
    },
    {
      "cell_type": "markdown",
      "metadata": {},
      "source": [
        "Print file locations for both subjects.\n\n"
      ]
    },
    {
      "cell_type": "code",
      "execution_count": null,
      "metadata": {
        "collapsed": false
      },
      "outputs": [],
      "source": [
        "print(f\"Subject 1 dataset at: {dataset.func[0]}\")\nprint(f\"Subject 2 dataset at: {dataset.func[1]}\")"
      ]
    },
    {
      "cell_type": "markdown",
      "metadata": {},
      "source": [
        "Comparing the means of the 2 movie watching datasets.\n\n"
      ]
    },
    {
      "cell_type": "code",
      "execution_count": null,
      "metadata": {
        "collapsed": false
      },
      "outputs": [],
      "source": [
        "from nilearn import image, plotting\n\nresult_img = image.math_img(\n    \"np.mean(img1, axis=-1) - np.mean(img2, axis=-1)\",\n    img1=dataset.func[0],\n    img2=dataset.func[1],\n)\n\nplotting.plot_stat_map(\n    result_img, title=\"Comparing means of 2 movie watching 4D images.\"\n)\nplotting.show()"
      ]
    }
  ],
  "metadata": {
    "kernelspec": {
      "display_name": "Python 3",
      "language": "python",
      "name": "python3"
    },
    "language_info": {
      "codemirror_mode": {
        "name": "ipython",
        "version": 3
      },
      "file_extension": ".py",
      "mimetype": "text/x-python",
      "name": "python",
      "nbconvert_exporter": "python",
      "pygments_lexer": "ipython3",
      "version": "3.9.22"
    }
  },
  "nbformat": 4,
  "nbformat_minor": 0
}