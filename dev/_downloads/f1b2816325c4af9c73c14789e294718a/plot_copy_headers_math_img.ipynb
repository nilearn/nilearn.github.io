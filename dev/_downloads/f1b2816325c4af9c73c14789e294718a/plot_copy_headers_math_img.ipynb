{
  "cells": [
    {
      "cell_type": "markdown",
      "metadata": {},
      "source": [
        "\n# Copying headers from input images with ``math_img``\n\nThis example shows how to copy the header information from one of\nthe input images to the result image when using the function\n:func:`~nilearn.image.math_img`.\n\nThe header information contains metadata about the image, such as the\ndimensions, the voxel sizes, the affine matrix, repetition time (:term:`TR`),\netc. Some of this information might be important for downstream analyses\ndepending on the software used.\n"
      ]
    },
    {
      "cell_type": "markdown",
      "metadata": {},
      "source": [
        "Let's fetch an example :term:`fMRI` dataset\n\n"
      ]
    },
    {
      "cell_type": "code",
      "execution_count": null,
      "metadata": {
        "collapsed": false
      },
      "outputs": [],
      "source": [
        "from nilearn.datasets import fetch_adhd\n\ndataset = fetch_adhd(n_subjects=2)"
      ]
    },
    {
      "cell_type": "markdown",
      "metadata": {},
      "source": [
        "Now let's look at the header of one of these images\n\n"
      ]
    },
    {
      "cell_type": "code",
      "execution_count": null,
      "metadata": {
        "collapsed": false
      },
      "outputs": [],
      "source": [
        "from nilearn.image import load_img\n\nsubj1_img = load_img(dataset.func[0])\nsubj2_img = load_img(dataset.func[1])\n\nprint(f\"Subject 1 header:\\n{subj1_img.header}\")"
      ]
    },
    {
      "cell_type": "markdown",
      "metadata": {},
      "source": [
        "Let's apply a simple operation using :func:`~nilearn.image.math_img`\n\n"
      ]
    },
    {
      "cell_type": "code",
      "execution_count": null,
      "metadata": {
        "collapsed": false
      },
      "outputs": [],
      "source": [
        "from nilearn.image import math_img\n\nresult_img = math_img(\"img1 * 1\", img1=subj1_img)"
      ]
    },
    {
      "cell_type": "markdown",
      "metadata": {},
      "source": [
        "By default, :func:`~nilearn.image.math_img` simply resets result image's\nheader to the default :class:`~nibabel.nifti1.Nifti1Header`.\n\nThis means that it will contain different information as compared to the\ninput image.\n\nWe can check that as follows:\n\n"
      ]
    },
    {
      "cell_type": "code",
      "execution_count": null,
      "metadata": {
        "collapsed": false
      },
      "outputs": [],
      "source": [
        "print(\"Following header fields do not match:\")\nfor key in result_img.header:\n    if not (subj1_img.header[key] == result_img.header[key]).all():\n        print(\n            f\"For '{key}'\\n\",\n            \"\\tinput image:\",\n            subj1_img.header[key],\n            \"\\n\\tresult image:\",\n            result_img.header[key],\n        )"
      ]
    },
    {
      "cell_type": "markdown",
      "metadata": {},
      "source": [
        "This could affect some downstream analyses.\n\nFor example, here the :term:`TR` (given as fifth element in ``pixdim``)\nis changed from 2 in ``subj1_img`` to 1 in ``result_img``.\n\nTo fix this, we can copy the header of the input images to the\nresult image, like this:\n\n"
      ]
    },
    {
      "cell_type": "code",
      "execution_count": null,
      "metadata": {
        "collapsed": false
      },
      "outputs": [],
      "source": [
        "result_img_with_header = math_img(\n    \"img1 * 1\", img1=subj1_img, copy_header_from=\"img1\"\n)"
      ]
    },
    {
      "cell_type": "markdown",
      "metadata": {},
      "source": [
        "Let's compare the header fields again.\n\n"
      ]
    },
    {
      "cell_type": "code",
      "execution_count": null,
      "metadata": {
        "collapsed": false
      },
      "outputs": [],
      "source": [
        "print(\"Following header fields do not match:\")\nfor key in result_img_with_header.header:\n    if not (subj1_img.header[key] == result_img_with_header.header[key]).all():\n        print(\n            f\"For '{key}'\\n\",\n            \"\\tinput image:\",\n            subj1_img.header[key],\n            \"\\n\\tresult image:\",\n            result_img_with_header.header[key],\n        )"
      ]
    },
    {
      "cell_type": "markdown",
      "metadata": {},
      "source": [
        "We can safely ignore the fields that are still different -- ``scl_scope`` and\n``scl_inter`` are just ``nan`` and ``cal_max`` is supposed to have the\nmaximum data value that is updated automatically by nilearn.\n\n"
      ]
    },
    {
      "cell_type": "markdown",
      "metadata": {},
      "source": [
        "## Modifying dimensions in the formula\n\nNow let's say we have a formula that changes the dimensions of the\ninput images. For example, by taking the mean of the images along the\ntime axis.\n\nCopying the header with the ``copy_header_from`` parameter will not work\nin this case.\n\nSo, in such cases we could just use :func:`~nilearn.image.math_img` without\nspecifying ``copy_header_from`` and then explicitly copy the header from one\nof the images using :func:`~nilearn.image.new_img_like`\n\n"
      ]
    },
    {
      "cell_type": "code",
      "execution_count": null,
      "metadata": {
        "collapsed": false
      },
      "outputs": [],
      "source": [
        "result_img = math_img(\n    \"np.mean(img1, axis=-1) - np.mean(img2, axis=-1)\",\n    img1=subj1_img,\n    img2=subj2_img,\n)"
      ]
    },
    {
      "cell_type": "markdown",
      "metadata": {},
      "source": [
        "Several of the header fields are different:\n\n"
      ]
    },
    {
      "cell_type": "code",
      "execution_count": null,
      "metadata": {
        "collapsed": false
      },
      "outputs": [],
      "source": [
        "print(\"Following header fields do not match:\")\nfor key in result_img.header:\n    if not (subj1_img.header[key] == result_img.header[key]).all():\n        print(\n            f\"For '{key}'\\n\",\n            \"\\tinput image:\",\n            subj1_img.header[key],\n            \"\\n\\tresult image:\",\n            result_img.header[key],\n        )"
      ]
    },
    {
      "cell_type": "markdown",
      "metadata": {},
      "source": [
        "Now we can copy the header explicitly like this:\n\n"
      ]
    },
    {
      "cell_type": "code",
      "execution_count": null,
      "metadata": {
        "collapsed": false
      },
      "outputs": [],
      "source": [
        "from nilearn.image import new_img_like\n\nresult_img_with_header = new_img_like(\n    ref_niimg=subj1_img,\n    data=result_img.get_fdata(),\n    affine=result_img.affine,\n)"
      ]
    },
    {
      "cell_type": "markdown",
      "metadata": {},
      "source": [
        "Now, only a few not-so-important fields are different.\n\nThe modified fields can vary depending upon the formula passed into the\nfunction.\n\nIn this case, ``dim`` and ``pixdim`` are different because we took a mean\nover the time dimension.\n\nAnd again, ``cal_min`` and ``cal_max`` are set to minimum and maximum data\nvalues respectively, by Nilearn.\n\n"
      ]
    },
    {
      "cell_type": "code",
      "execution_count": null,
      "metadata": {
        "collapsed": false
      },
      "outputs": [],
      "source": [
        "print(\"Following header fields do not match:\")\nfor key in result_img_with_header.header:\n    if not (subj1_img.header[key] == result_img_with_header.header[key]).all():\n        print(\n            f\"For '{key}'\\n\",\n            \"\\tinput image:\",\n            subj1_img.header[key],\n            \"\\n\\tresult image:\",\n            result_img_with_header.header[key],\n        )"
      ]
    }
  ],
  "metadata": {
    "kernelspec": {
      "display_name": "Python 3",
      "language": "python",
      "name": "python3"
    },
    "language_info": {
      "codemirror_mode": {
        "name": "ipython",
        "version": 3
      },
      "file_extension": ".py",
      "mimetype": "text/x-python",
      "name": "python",
      "nbconvert_exporter": "python",
      "pygments_lexer": "ipython3",
      "version": "3.10.18"
    }
  },
  "nbformat": 4,
  "nbformat_minor": 0
}