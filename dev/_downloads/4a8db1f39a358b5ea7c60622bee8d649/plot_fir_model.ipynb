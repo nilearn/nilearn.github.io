{
  "cells": [
    {
      "cell_type": "markdown",
      "metadata": {},
      "source": [
        "\n# Analysis of an fMRI dataset with a Finite Impule Response (FIR) model\n\n:term:`FIR` models are used to estimate\nthe hemodyamic response non-parametrically.\nThe example below shows that they're good to do statistical inference\neven on fast event-related :term:`fMRI` datasets.\n\nHere, we demonstrate the use of a :term:`FIR` model with 3 lags,\ncomputing 4 contrasts\nfrom a single subject dataset from the \"Neurospin Localizer\". It is a fast\nevent related design: During 5 minutes, 80 events of the following types are\npresented : ['audio_computation', 'audio_left_hand_button_press',\n'audio_right_hand_button_press', 'horizontal_checkerboard',\n'sentence_listening', 'sentence_reading', 'vertical_checkerboard',\n'visual_computation', 'visual_left_hand_button_press',\n'visual_right_hand_button_press']\n"
      ]
    },
    {
      "cell_type": "markdown",
      "metadata": {},
      "source": [
        "At first, we grab the localizer data.\n\n"
      ]
    },
    {
      "cell_type": "code",
      "execution_count": null,
      "metadata": {
        "collapsed": false
      },
      "outputs": [],
      "source": [
        "import pandas as pd\n\nfrom nilearn.datasets import func\nfrom nilearn.plotting import plot_stat_map\n\ndata = func.fetch_localizer_first_level()\nfmri_img = data.epi_img\nt_r = 2.4\nevents_file = data[\"events\"]\nevents = pd.read_table(events_file)"
      ]
    },
    {
      "cell_type": "markdown",
      "metadata": {},
      "source": [
        "Next solution is to try Finite Impulse Response (:term:`FIR`) models: we just\nsay that the :term:`hrf<HRF>` is an arbitrary function that lags behind the\nstimulus onset.  In the present case, given that the numbers of\nconditions is high, we should use a simple :term:`FIR` model.\n\nConcretely, we set `hrf_model` to 'fir' and `fir_delays` to [1, 2,\n3] (scans) corresponding to a 3-step functions on the [1 * t_r, 4 *\nt_r] seconds interval.\n\n\n"
      ]
    },
    {
      "cell_type": "code",
      "execution_count": null,
      "metadata": {
        "collapsed": false
      },
      "outputs": [],
      "source": [
        "from nilearn.glm.first_level import FirstLevelModel\nfrom nilearn.plotting import plot_contrast_matrix, plot_design_matrix\n\nfirst_level_model = FirstLevelModel(t_r, hrf_model=\"fir\", fir_delays=[1, 2, 3])\nfirst_level_model = first_level_model.fit(fmri_img, events=events)\ndesign_matrix = first_level_model.design_matrices_[0]\nplot_design_matrix(design_matrix)"
      ]
    },
    {
      "cell_type": "markdown",
      "metadata": {},
      "source": [
        "We have to adapt :term:`contrast` specification.\nWe characterize the :term:`BOLD` response by the sum\nacross the three time lags.\nIt's a bit hairy, sorry, but this is the price to pay for flexibility...\n\n"
      ]
    },
    {
      "cell_type": "code",
      "execution_count": null,
      "metadata": {
        "collapsed": false
      },
      "outputs": [],
      "source": [
        "import numpy as np\n\ncontrast_matrix = np.eye(design_matrix.shape[1])\ncontrasts = {\n    column: contrast_matrix[i]\n    for i, column in enumerate(design_matrix.columns)\n}\nconditions = events.trial_type.unique()\nfor condition in conditions:\n    contrasts[condition] = np.sum(\n        [\n            contrasts[name]\n            for name in design_matrix.columns\n            if name[: len(condition)] == condition\n        ],\n        0,\n    )\n\ncontrasts[\"audio\"] = np.sum(\n    [\n        contrasts[name]\n        for name in [\n            \"audio_right_hand_button_press\",\n            \"audio_left_hand_button_press\",\n            \"audio_computation\",\n            \"sentence_listening\",\n        ]\n    ],\n    0,\n)\ncontrasts[\"video\"] = np.sum(\n    [\n        contrasts[name]\n        for name in [\n            \"visual_right_hand_button_press\",\n            \"visual_left_hand_button_press\",\n            \"visual_computation\",\n            \"sentence_reading\",\n        ]\n    ],\n    0,\n)\n\ncontrasts[\"computation\"] = (\n    contrasts[\"audio_computation\"] + contrasts[\"visual_computation\"]\n)\ncontrasts[\"sentences\"] = (\n    contrasts[\"sentence_listening\"] + contrasts[\"sentence_reading\"]\n)\n\ncontrasts = {\n    \"left-right\": (\n        contrasts[\"visual_left_hand_button_press\"]\n        + contrasts[\"audio_left_hand_button_press\"]\n        - contrasts[\"visual_right_hand_button_press\"]\n        - contrasts[\"audio_right_hand_button_press\"]\n    ),\n    \"H-V\": (\n        contrasts[\"horizontal_checkerboard\"]\n        - contrasts[\"vertical_checkerboard\"]\n    ),\n    \"audio-video\": contrasts[\"audio\"] - contrasts[\"video\"],\n    \"sentences-computation\": (\n        contrasts[\"sentences\"] - contrasts[\"computation\"]\n    ),\n}"
      ]
    },
    {
      "cell_type": "markdown",
      "metadata": {},
      "source": [
        "Take a look at the contrasts.\n\n"
      ]
    },
    {
      "cell_type": "code",
      "execution_count": null,
      "metadata": {
        "collapsed": false
      },
      "outputs": [],
      "source": [
        "plot_contrast_matrix(contrasts[\"left-right\"], design_matrix)"
      ]
    },
    {
      "cell_type": "markdown",
      "metadata": {},
      "source": [
        "Take a breath.\n\nWe can now  proceed by estimating the contrasts and displaying them.\n\n"
      ]
    },
    {
      "cell_type": "code",
      "execution_count": null,
      "metadata": {
        "collapsed": false
      },
      "outputs": [],
      "source": [
        "import matplotlib.pyplot as plt\n\nfig = plt.figure(figsize=(11, 3))\nfor index, (contrast_id, contrast_val) in enumerate(contrasts.items()):\n    ax = plt.subplot(1, len(contrasts), 1 + index)\n    z_map = first_level_model.compute_contrast(\n        contrast_val, output_type=\"z_score\"\n    )\n    plot_stat_map(\n        z_map,\n        display_mode=\"z\",\n        threshold=3.0,\n        title=contrast_id,\n        axes=ax,\n        cut_coords=1,\n    )\nplt.show()"
      ]
    },
    {
      "cell_type": "markdown",
      "metadata": {},
      "source": [
        "The result is acceptable. Note that we're asking a lot of questions\nto a small dataset, yet with a relatively large number of experimental\nconditions.\n\n\n"
      ]
    }
  ],
  "metadata": {
    "kernelspec": {
      "display_name": "Python 3",
      "language": "python",
      "name": "python3"
    },
    "language_info": {
      "codemirror_mode": {
        "name": "ipython",
        "version": 3
      },
      "file_extension": ".py",
      "mimetype": "text/x-python",
      "name": "python",
      "nbconvert_exporter": "python",
      "pygments_lexer": "ipython3",
      "version": "3.10.18"
    }
  },
  "nbformat": 4,
  "nbformat_minor": 0
}