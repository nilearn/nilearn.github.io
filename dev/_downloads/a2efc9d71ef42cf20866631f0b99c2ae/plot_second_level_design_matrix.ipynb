{
  "cells": [
    {
      "cell_type": "markdown",
      "metadata": {},
      "source": [
        "\n# Example of second level design matrix\n\nThis example shows how a second-level design matrix is specified: assuming that\nthe data refer to a group of individuals, with one image per subject, the\ndesign matrix typically holds the characteristics of each individual.\n\nThis is used in a second-level analysis to assess the impact of these\ncharacteristics on brain signals.\n\nThis example requires matplotlib.\n"
      ]
    },
    {
      "cell_type": "code",
      "execution_count": null,
      "metadata": {
        "collapsed": false
      },
      "outputs": [],
      "source": [
        "from nilearn._utils.helpers import check_matplotlib\n\ncheck_matplotlib()\n\nimport matplotlib.pyplot as plt"
      ]
    },
    {
      "cell_type": "markdown",
      "metadata": {},
      "source": [
        "## Create a simple experimental paradigm\nWe want to get the group result of a :term:`contrast` for 20 subjects.\n\n"
      ]
    },
    {
      "cell_type": "code",
      "execution_count": null,
      "metadata": {
        "collapsed": false
      },
      "outputs": [],
      "source": [
        "n_subjects = 20\nsubjects_label = [f\"sub-{int(i):02}\" for i in range(1, n_subjects + 1)]"
      ]
    },
    {
      "cell_type": "markdown",
      "metadata": {},
      "source": [
        "Next, we specify extra information about the subjects to create confounders.\nWithout confounders the design matrix would correspond to a one sample test.\n\n"
      ]
    },
    {
      "cell_type": "code",
      "execution_count": null,
      "metadata": {
        "collapsed": false
      },
      "outputs": [],
      "source": [
        "import pandas as pd\n\nextra_info_subjects = pd.DataFrame(\n    {\n        \"subject_label\": subjects_label,\n        \"age\": range(15, 15 + n_subjects),\n        \"sex\": [0, 1] * (n_subjects // 2),\n    }\n)"
      ]
    },
    {
      "cell_type": "markdown",
      "metadata": {},
      "source": [
        "## Create a second level design matrix\nWith that information we can create the second level design matrix.\n\n"
      ]
    },
    {
      "cell_type": "code",
      "execution_count": null,
      "metadata": {
        "collapsed": false
      },
      "outputs": [],
      "source": [
        "from nilearn.glm.second_level import make_second_level_design_matrix\n\ndesign_matrix = make_second_level_design_matrix(\n    subjects_label, extra_info_subjects\n)"
      ]
    },
    {
      "cell_type": "markdown",
      "metadata": {},
      "source": [
        "Let's plot it.\n\n"
      ]
    },
    {
      "cell_type": "code",
      "execution_count": null,
      "metadata": {
        "collapsed": false
      },
      "outputs": [],
      "source": [
        "from nilearn.plotting import plot_design_matrix\n\nfig, ax1 = plt.subplots(1, 1, figsize=(3, 4), constrained_layout=True)\n\nax = plot_design_matrix(design_matrix, axes=ax1)\nax.set_ylabel(\"maps\")\nax.set_title(\"Second level design matrix\", fontsize=12)\nplt.show()"
      ]
    }
  ],
  "metadata": {
    "kernelspec": {
      "display_name": "Python 3",
      "language": "python",
      "name": "python3"
    },
    "language_info": {
      "codemirror_mode": {
        "name": "ipython",
        "version": 3
      },
      "file_extension": ".py",
      "mimetype": "text/x-python",
      "name": "python",
      "nbconvert_exporter": "python",
      "pygments_lexer": "ipython3",
      "version": "3.9.21"
    }
  },
  "nbformat": 4,
  "nbformat_minor": 0
}