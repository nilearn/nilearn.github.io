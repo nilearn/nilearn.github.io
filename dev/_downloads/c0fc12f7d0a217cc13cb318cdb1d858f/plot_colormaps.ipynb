{
  "cells": [
    {
      "cell_type": "markdown",
      "metadata": {},
      "source": [
        "\n# Colormaps in Nilearn\n\nHere we show some of the colormaps that ship with Nilearn\n(some adapted from the HCP connectome workbench color maps).\n\nThis example show also some of the pros and cons of some of those maps.\n"
      ]
    },
    {
      "cell_type": "code",
      "execution_count": null,
      "metadata": {
        "collapsed": false
      },
      "outputs": [],
      "source": [
        "import matplotlib.pyplot as plt\nimport numpy as np\n\nfrom nilearn.plotting import show\nfrom nilearn.plotting.cm import _cmap_d as nilearn_cmaps"
      ]
    },
    {
      "cell_type": "markdown",
      "metadata": {},
      "source": [
        "Let's create a function to help us plot all the colormaps with their names.\n\n\n"
      ]
    },
    {
      "cell_type": "code",
      "execution_count": null,
      "metadata": {
        "collapsed": false
      },
      "outputs": [],
      "source": [
        "def plot_color_gradients(color_maps):\n    \"\"\"Create figure and adjust figure height to number of colormaps.\n\n    Adapted from the matplolib documentation.\n    \"\"\"\n    gradient = np.linspace(0, 1, 256)\n    gradient = np.vstack((gradient, gradient))\n\n    color_map_names = sorted(color_maps)\n\n    nrows = len(color_map_names)\n    figh = 0.3 + 0.2 + (nrows + (nrows - 1) * 0.1) * 0.22\n    fig, axs = plt.subplots(nrows=nrows + 1, figsize=(15, figh))\n    fig.subplots_adjust(\n        top=1 - 0.3 / figh, bottom=0.2 / figh, left=0.22, right=0.99\n    )\n\n    for ax, name in zip(axs, color_map_names, strict=False):\n        ax.imshow(gradient, aspect=\"auto\", cmap=name)\n        ax.text(\n            -0.01,\n            0.5,\n            name,\n            va=\"center\",\n            ha=\"right\",\n            fontsize=12,\n            transform=ax.transAxes,\n        )\n\n    # Turn off *all* ticks & spines, not just the ones with colormaps.\n    for ax in axs:\n        ax.set_axis_off()"
      ]
    },
    {
      "cell_type": "markdown",
      "metadata": {},
      "source": [
        "## Plot matplotlib color maps\n\n"
      ]
    },
    {
      "cell_type": "code",
      "execution_count": null,
      "metadata": {
        "collapsed": false
      },
      "outputs": [],
      "source": [
        "plot_color_gradients(nilearn_cmaps)"
      ]
    },
    {
      "cell_type": "markdown",
      "metadata": {},
      "source": [
        "## Plot matplotlib color maps\n\n"
      ]
    },
    {
      "cell_type": "code",
      "execution_count": null,
      "metadata": {
        "collapsed": false
      },
      "outputs": [],
      "source": [
        "deprecated_cmaps = [\"Vega10\", \"Vega20\", \"Vega20b\", \"Vega20c\", \"spectral\"]\nm_cmaps = [\n    m\n    for m in plt.cm.datad\n    if not m.endswith(\"_r\") and m not in deprecated_cmaps\n]\n\nplot_color_gradients(m_cmaps)\n\nshow()"
      ]
    },
    {
      "cell_type": "markdown",
      "metadata": {},
      "source": [
        "## Choosing colormaps\nSome of the [cyclic colormaps](https://matplotlib.org/stable/users/explain/colors/colormaps.html#cyclic)\nshipped with nilearn (like ``\"cold_hot\"``) will have the same values\nfor very large and very small values,\nmaking it hard to distinguish 'activations' from 'deactivations'.\n\nIn this case, you may want to use\na proper [diverging colormaps](https://matplotlib.org/stable/users/explain/colors/colormaps.html#diverging)\n(like ``\"RdBu_r\"``, the default for many Nilearn plotting functions).\n\nWhatever colormap you choose,\nwe recommend you check that it is perceptually uniform\n(equal steps in data are perceived as equal steps in the color space)\n(see `the matplotlib documentation <https://matplotlib.org/stable/users/explain/colors/colormaps.html#lightness-of-matplotlib-colormaps>`\nfor more information).\n\n\n"
      ]
    },
    {
      "cell_type": "code",
      "execution_count": null,
      "metadata": {
        "collapsed": false
      },
      "outputs": [],
      "source": [
        "from nilearn.datasets import load_sample_motor_activation_image\nfrom nilearn.plotting import plot_stat_map\n\nstat_map = load_sample_motor_activation_image()\n\nplot_stat_map(stat_map, cmap=\"RdBu_r\", threshold=6, title=\"diverging colormap\")\nplot_stat_map(stat_map, cmap=\"cold_hot\", threshold=6, title=\"cyclic colormap\")\n\nshow()"
      ]
    }
  ],
  "metadata": {
    "kernelspec": {
      "display_name": "Python 3",
      "language": "python",
      "name": "python3"
    },
    "language_info": {
      "codemirror_mode": {
        "name": "ipython",
        "version": 3
      },
      "file_extension": ".py",
      "mimetype": "text/x-python",
      "name": "python",
      "nbconvert_exporter": "python",
      "pygments_lexer": "ipython3",
      "version": "3.10.18"
    }
  },
  "nbformat": 4,
  "nbformat_minor": 0
}