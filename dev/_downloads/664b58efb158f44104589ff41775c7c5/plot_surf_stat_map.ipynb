{
  "cells": [
    {
      "cell_type": "markdown",
      "metadata": {},
      "source": [
        "\n# Seed-based connectivity on the surface\n\nIn this example we compute\nthe functional connectivity\nof a seed region to all other cortical nodes\nin the same hemisphere\nusing Pearson product-moment correlation coefficient.\n\nThis example use the resting state time series\nof a single subject's left hemisphere\nthe `nki_dataset`.\n\nThe `destrieux_2009_atlas` in fsaverage5 space\nis used to select a seed region in the posterior cingulate cortex.\n\nThe :func:`~nilearn.plotting.plot_surf_stat_map` function is used\nto plot the resulting statistical map on the pial surface.\n\n.. seealso::\n\n    `for a similar example but using volumetric input data\n    <sphx_glr_auto_examples_03_connectivity_plot_seed_to_voxel_correlation.py>`.\n\n    See `plotting` for more details on plotting tools.\n\nSee the `dataset description <nki_dataset>`\nfor more information on the data used in this example.\n"
      ]
    },
    {
      "cell_type": "markdown",
      "metadata": {},
      "source": [
        "## Retrieving the data\n\n"
      ]
    },
    {
      "cell_type": "code",
      "execution_count": null,
      "metadata": {
        "collapsed": false
      },
      "outputs": [],
      "source": [
        "from nilearn.datasets import (\n    fetch_atlas_surf_destrieux,\n    load_fsaverage,\n    load_fsaverage_data,\n    load_nki,\n)\nfrom nilearn.surface import SurfaceImage\n\n# The nki list contains a SurfaceImage instance\n# with fsaverage_meshes pial meshes\n# for each subject.\nfsaverage_mesh = \"fsaverage5\"\nsurf_img_nki = load_nki(\n    mesh=fsaverage_mesh,\n    mesh_type=\"pial\",\n    n_subjects=1,\n)[0]\n\n\n# Get fsaverage meshes and Destrieux parcellation\nfsaverage_meshes = load_fsaverage(mesh=fsaverage_mesh)\ndestrieux = fetch_atlas_surf_destrieux()\n\n# Create a surface image instance\n# with the Destrieux parcellation\ndestrieux_atlas = SurfaceImage(\n    mesh=fsaverage_meshes[\"pial\"],\n    data={\n        \"left\": destrieux.map_left,\n        \"right\": destrieux.map_right,\n    },\n)\n\n# The fsaverage meshes contains FileMesh objects:\nprint(f\"{fsaverage_meshes['pial'].parts['left']=}\")\n\n# The fsaverage data contains SurfaceImage instances with meshes and data\nfsaverage_sulcal = load_fsaverage_data(data_type=\"sulcal\")\nprint(f\"{fsaverage_sulcal=}\")\nprint(f\"{fsaverage_sulcal.mesh=}\")\nprint(f\"{fsaverage_sulcal.data=}\")"
      ]
    },
    {
      "cell_type": "markdown",
      "metadata": {},
      "source": [
        "## Extracting the seed time series with masker\nWe do this using the :class:`~nilearn.maskers.SurfaceLabelsMasker`.\n\n"
      ]
    },
    {
      "cell_type": "code",
      "execution_count": null,
      "metadata": {
        "collapsed": false
      },
      "outputs": [],
      "source": [
        "import numpy as np\n\nfrom nilearn.maskers import SurfaceLabelsMasker\n\n# Extract seed region via label\nname_seed_region = \"G_cingul-Post-dorsal\"\nlabel_seed_region = destrieux.labels.index(name_seed_region)\n\n# Here we create a surface mask image\n# that has False for all vertices\n# except for those of the seed region.\nmask_data = {}\nfor hemi, data in destrieux_atlas.data.parts.items():\n    seed_vertices = data == label_seed_region\n    mask_data[hemi] = seed_vertices\n\npcc_mask = SurfaceImage(\n    mesh=destrieux_atlas.mesh,\n    data=mask_data,\n)\n\nmasker = SurfaceLabelsMasker(labels_img=pcc_mask).fit()\nseed_timeseries = masker.transform(surf_img_nki).squeeze()"
      ]
    },
    {
      "cell_type": "markdown",
      "metadata": {},
      "source": [
        "## Display ROI on surface\nBefore we go further,\nlet's make sure we have selected the right regions.\n\n"
      ]
    },
    {
      "cell_type": "code",
      "execution_count": null,
      "metadata": {
        "collapsed": false
      },
      "outputs": [],
      "source": [
        "from nilearn.plotting import plot_surf_roi, show\n\n# For this example we will only show\n# and compute results\n# on the left hemisphere\n# for the sake of speed.\nhemisphere = \"left\"\n\nplot_surf_roi(\n    roi_map=pcc_mask,\n    hemi=hemisphere,\n    view=\"medial\",\n    bg_map=fsaverage_sulcal,\n    bg_on_data=True,\n    title=\"PCC Seed\",\n    colorbar=False,\n    darkness=None,\n)\n\nshow()"
      ]
    },
    {
      "cell_type": "markdown",
      "metadata": {},
      "source": [
        "Using a flat :term:`mesh` can be useful\nin order to easily locate the area of interest on the cortex.\nTo make this plot easier to read,\nwe use the :term:`mesh` curvature as a background map.\n\n"
      ]
    },
    {
      "cell_type": "code",
      "execution_count": null,
      "metadata": {
        "collapsed": false
      },
      "outputs": [],
      "source": [
        "bg_map = load_fsaverage_data(data_type=\"curvature\")\nfor hemi, data in bg_map.data.parts.items():\n    tmp = np.sign(data)\n    # np.sign yields values in [-1, 1].\n    # We rescale the background map\n    # such that values are in [0.25, 0.75],\n    # resulting in a nicer looking plot.\n    tmp = (tmp + 1) / 4 + 0.25\n    bg_map.data.parts[hemi]\n\nplot_surf_roi(\n    surf_mesh=fsaverage_meshes[\"flat\"],\n    roi_map=pcc_mask,\n    hemi=hemisphere,\n    view=\"dorsal\",\n    bg_map=fsaverage_sulcal,\n    bg_on_data=True,\n    title=\"PCC Seed on flat map\",\n    colorbar=False,\n    darkness=None,\n)\n\nshow()"
      ]
    },
    {
      "cell_type": "markdown",
      "metadata": {},
      "source": [
        "## Calculating seed-based functional connectivity\nCalculate Pearson product-moment correlation coefficient\nbetween seed time series\nand timeseries of all cortical nodes.\n\n"
      ]
    },
    {
      "cell_type": "code",
      "execution_count": null,
      "metadata": {
        "collapsed": false
      },
      "outputs": [],
      "source": [
        "from scipy.stats import pearsonr"
      ]
    },
    {
      "cell_type": "markdown",
      "metadata": {},
      "source": [
        "Let's in initialize the data\nwe will use to create our results image.\n\n"
      ]
    },
    {
      "cell_type": "code",
      "execution_count": null,
      "metadata": {
        "collapsed": false
      },
      "outputs": [],
      "source": [
        "results = {}\nfor hemi, mesh in surf_img_nki.mesh.parts.items():\n    n_vertices = mesh.n_vertices\n    results[hemi] = np.zeros(n_vertices)"
      ]
    },
    {
      "cell_type": "markdown",
      "metadata": {},
      "source": [
        "Let's avoid computing results\nin unknown regions\nand on the medial wall.\n\n"
      ]
    },
    {
      "cell_type": "code",
      "execution_count": null,
      "metadata": {
        "collapsed": false
      },
      "outputs": [],
      "source": [
        "excluded_labels = [\n    destrieux.labels.index(\"Unknown\"),\n    destrieux.labels.index(\"Medial_wall\"),\n]\nis_excluded = np.isin(\n    destrieux_atlas.data.parts[hemisphere],\n    excluded_labels,\n)\nfor i, exclude_this_vertex in enumerate(is_excluded):\n    if exclude_this_vertex:\n        continue\n    y = surf_img_nki.data.parts[hemisphere][i, ...].astype(\n        seed_timeseries.dtype\n    )\n    results[hemisphere][i] = pearsonr(seed_timeseries, y)[0]\n\nstat_map_surf = SurfaceImage(\n    mesh=destrieux_atlas.mesh,\n    data=results,\n)"
      ]
    },
    {
      "cell_type": "markdown",
      "metadata": {},
      "source": [
        "## Viewing results\nDisplay unthresholded stat map with a slightly dimmed background\n\n"
      ]
    },
    {
      "cell_type": "code",
      "execution_count": null,
      "metadata": {
        "collapsed": false
      },
      "outputs": [],
      "source": [
        "from nilearn.plotting import plot_surf_stat_map\n\nplot_surf_stat_map(\n    stat_map=stat_map_surf,\n    hemi=hemisphere,\n    view=\"medial\",\n    bg_map=fsaverage_sulcal,\n    bg_on_data=True,\n    title=\"Correlation map\",\n    darkness=None,\n)\n\nshow()"
      ]
    },
    {
      "cell_type": "markdown",
      "metadata": {},
      "source": [
        "Many different options are available for plotting,\nfor example thresholding,\nor using custom colormaps\n\n"
      ]
    },
    {
      "cell_type": "code",
      "execution_count": null,
      "metadata": {
        "collapsed": false
      },
      "outputs": [],
      "source": [
        "plot_surf_stat_map(\n    stat_map=stat_map_surf,\n    hemi=hemisphere,\n    view=\"medial\",\n    bg_map=fsaverage_sulcal,\n    bg_on_data=True,\n    cmap=\"bwr\",\n    threshold=0.5,\n    title=\"Threshold and colormap\",\n    darkness=None,\n)\n\nshow()"
      ]
    },
    {
      "cell_type": "markdown",
      "metadata": {},
      "source": [
        "Here the surface is plotted in a lateral view without a background map.\nTo capture 3D structure without depth information,\nthe default is to plot a half transparent surface.\nNote that you can also control the transparency\nwith a background map using the alpha parameter.\n\n"
      ]
    },
    {
      "cell_type": "code",
      "execution_count": null,
      "metadata": {
        "collapsed": false
      },
      "outputs": [],
      "source": [
        "plot_surf_stat_map(\n    stat_map=stat_map_surf,\n    hemi=hemisphere,\n    view=\"lateral\",\n    cmap=\"bwr\",\n    threshold=0.5,\n    title=\"Plotting without background\",\n    darkness=None,\n)\n\nshow()"
      ]
    },
    {
      "cell_type": "markdown",
      "metadata": {},
      "source": [
        "The plots can be saved to file,\nin which case the display is closed after creating the figure\n\n"
      ]
    },
    {
      "cell_type": "code",
      "execution_count": null,
      "metadata": {
        "collapsed": false
      },
      "outputs": [],
      "source": [
        "from pathlib import Path\n\noutput_dir = Path.cwd() / \"results\" / \"plot_surf_stat_map\"\noutput_dir.mkdir(exist_ok=True, parents=True)\nprint(f\"Output will be saved to: {output_dir}\")\n\nplot_surf_stat_map(\n    surf_mesh=fsaverage_meshes[\"inflated\"],\n    stat_map=stat_map_surf,\n    hemi=hemisphere,\n    bg_map=fsaverage_sulcal,\n    bg_on_data=True,\n    threshold=0.5,\n    output_file=output_dir / \"plot_surf_stat_map.png\",\n    cmap=\"bwr\",\n    darkness=None,\n)"
      ]
    },
    {
      "cell_type": "markdown",
      "metadata": {},
      "source": [
        "## References\n\n.. footbibliography::\n\n"
      ]
    }
  ],
  "metadata": {
    "kernelspec": {
      "display_name": "Python 3",
      "language": "python",
      "name": "python3"
    },
    "language_info": {
      "codemirror_mode": {
        "name": "ipython",
        "version": 3
      },
      "file_extension": ".py",
      "mimetype": "text/x-python",
      "name": "python",
      "nbconvert_exporter": "python",
      "pygments_lexer": "ipython3",
      "version": "3.10.18"
    }
  },
  "nbformat": 4,
  "nbformat_minor": 0
}