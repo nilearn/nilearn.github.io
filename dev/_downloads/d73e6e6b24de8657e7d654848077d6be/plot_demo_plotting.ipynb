{
  "cells": [
    {
      "cell_type": "markdown",
      "metadata": {},
      "source": [
        "\n# Plotting tools in nilearn\n\nNilearn comes with a set of plotting functions for easy visualization of\nNifti-like images such as statistical maps mapped onto anatomical images\nor onto glass brain representation, anatomical images, functional/EPI images,\nregion specific mask images.\n\nSee `plotting` for more details.\n"
      ]
    },
    {
      "cell_type": "markdown",
      "metadata": {},
      "source": [
        "We will first retrieve data from nilearn provided (general-purpose)\ndatasets.\n\n"
      ]
    },
    {
      "cell_type": "code",
      "execution_count": null,
      "metadata": {
        "collapsed": false
      },
      "outputs": [],
      "source": [
        "from nilearn import datasets\n\n# haxby dataset to have EPI images and masks\nhaxby_dataset = datasets.fetch_haxby()\n\n# print basic information on the dataset\nprint(\n    f\"First subject anatomical nifti image (3D) is at: {haxby_dataset.anat[0]}\"\n)\nprint(\n    f\"First subject functional nifti image (4D) is at: {haxby_dataset.func[0]}\"\n)\n\nhaxby_anat_filename = haxby_dataset.anat[0]\nhaxby_mask_filename = haxby_dataset.mask_vt[0]\nhaxby_func_filename = haxby_dataset.func[0]\n\n# one motor activation map\nstat_img = datasets.load_sample_motor_activation_image()"
      ]
    },
    {
      "cell_type": "markdown",
      "metadata": {},
      "source": [
        "## Nilearn plotting functions\n\n### Plotting statistical maps: `plot_stat_map`\n\n"
      ]
    },
    {
      "cell_type": "code",
      "execution_count": null,
      "metadata": {
        "collapsed": false
      },
      "outputs": [],
      "source": [
        "from nilearn import plotting"
      ]
    },
    {
      "cell_type": "markdown",
      "metadata": {},
      "source": [
        "Visualizing t-map image on EPI template with manual\npositioning of coordinates using cut_coords given as a list\n\n"
      ]
    },
    {
      "cell_type": "code",
      "execution_count": null,
      "metadata": {
        "collapsed": false
      },
      "outputs": [],
      "source": [
        "plotting.plot_stat_map(\n    stat_img, threshold=3, title=\"plot_stat_map\", cut_coords=[36, -27, 66]\n)"
      ]
    },
    {
      "cell_type": "markdown",
      "metadata": {},
      "source": [
        "It's also possible to visualize volumes in a LR-flipped \"radiological\" view\nJust set radiological=True\n\n"
      ]
    },
    {
      "cell_type": "code",
      "execution_count": null,
      "metadata": {
        "collapsed": false
      },
      "outputs": [],
      "source": [
        "plotting.plot_stat_map(\n    stat_img,\n    threshold=3,\n    title=\"plot_stat_map\",\n    cut_coords=[36, -27, 66],\n    radiological=True,\n)"
      ]
    },
    {
      "cell_type": "markdown",
      "metadata": {},
      "source": [
        "### Making interactive visualizations: `view_img`\nAn alternative to :func:`~nilearn.plotting.plot_stat_map` is to use\n:func:`~nilearn.plotting.view_img` that gives more interactive\nvisualizations in a web browser. See `interactive-stat-map-plotting`\nfor more details.\n\n"
      ]
    },
    {
      "cell_type": "code",
      "execution_count": null,
      "metadata": {
        "collapsed": false
      },
      "outputs": [],
      "source": [
        "from nilearn.plotting import view_img\n\nview = view_img(stat_img, threshold=3)\n# In a Jupyter notebook, if ``view`` is the output of a cell, it will\n# be displayed below the cell\nview"
      ]
    },
    {
      "cell_type": "markdown",
      "metadata": {},
      "source": [
        "uncomment this to open the plot in a web browser:\nview.open_in_browser()\n\n"
      ]
    },
    {
      "cell_type": "markdown",
      "metadata": {},
      "source": [
        "It's also possible to visualize volumes in a LR-flipped \"radiological\" view\nJust set radiological=True\n\n"
      ]
    },
    {
      "cell_type": "code",
      "execution_count": null,
      "metadata": {
        "collapsed": false
      },
      "outputs": [],
      "source": [
        "view_radio = view_img(\n    stat_img, threshold=3, title=\"radiological view\", radiological=True\n)\nview_radio"
      ]
    },
    {
      "cell_type": "markdown",
      "metadata": {},
      "source": [
        "uncomment this to open the plot in a web browser:\nview_radio.open_in_browser()\n\n"
      ]
    },
    {
      "cell_type": "markdown",
      "metadata": {},
      "source": [
        "### Plotting statistical maps in a glass brain: `plot_glass_brain`\n\nNow, the t-map image is mapped on glass brain representation where glass\nbrain is always a fixed background template\n\n"
      ]
    },
    {
      "cell_type": "code",
      "execution_count": null,
      "metadata": {
        "collapsed": false
      },
      "outputs": [],
      "source": [
        "plotting.plot_glass_brain(stat_img, title=\"plot_glass_brain\", threshold=3)"
      ]
    },
    {
      "cell_type": "markdown",
      "metadata": {},
      "source": [
        "### Plotting anatomical images: `plot_anat`\n\nVisualizing anatomical image of haxby dataset\n\n"
      ]
    },
    {
      "cell_type": "code",
      "execution_count": null,
      "metadata": {
        "collapsed": false
      },
      "outputs": [],
      "source": [
        "plotting.plot_anat(haxby_anat_filename, title=\"plot_anat\")"
      ]
    },
    {
      "cell_type": "markdown",
      "metadata": {},
      "source": [
        "### Plotting ROIs (here the mask): `plot_roi`\n\nVisualizing ventral temporal region image from haxby dataset overlaid on\nsubject specific anatomical image\nwith coordinates positioned automatically on region of interest (roi)\n\n"
      ]
    },
    {
      "cell_type": "code",
      "execution_count": null,
      "metadata": {
        "collapsed": false
      },
      "outputs": [],
      "source": [
        "plotting.plot_roi(\n    haxby_mask_filename, bg_img=haxby_anat_filename, title=\"plot_roi\"\n)"
      ]
    },
    {
      "cell_type": "markdown",
      "metadata": {},
      "source": [
        "### Plotting :term:`EPI` image: `plot_epi`\n\n"
      ]
    },
    {
      "cell_type": "code",
      "execution_count": null,
      "metadata": {
        "collapsed": false
      },
      "outputs": [],
      "source": [
        "# Import image processing tool\nfrom nilearn import image\n\n# Compute the voxel_wise mean of functional images across time.\n# Basically reducing the functional image from 4D to 3D\nmean_haxby_img = image.mean_img(haxby_func_filename, copy_header=True)\n\n# Visualizing mean image (3D)\nplotting.plot_epi(mean_haxby_img, title=\"plot_epi\")"
      ]
    },
    {
      "cell_type": "markdown",
      "metadata": {},
      "source": [
        "A call to plotting.show is needed to display the plots when running\nin script mode (ie outside IPython)\n\n"
      ]
    },
    {
      "cell_type": "code",
      "execution_count": null,
      "metadata": {
        "collapsed": false
      },
      "outputs": [],
      "source": [
        "plotting.show()"
      ]
    },
    {
      "cell_type": "markdown",
      "metadata": {},
      "source": [
        "## Thresholding plots\n\nUsing ``threshold`` value alongside with ``vmin`` and ``vmax`` parameters\nenable us to mask certain values in the image.\n\n### Plotting without threshold\n\n"
      ]
    },
    {
      "cell_type": "code",
      "execution_count": null,
      "metadata": {
        "collapsed": false
      },
      "outputs": [],
      "source": [
        "plotting.plot_stat_map(\n    stat_img,\n    display_mode=\"ortho\",\n    cut_coords=[36, -27, 60],\n    title=\"No plotting threshold\",\n)"
      ]
    },
    {
      "cell_type": "markdown",
      "metadata": {},
      "source": [
        "### Plotting threshold set to 1\n\nWhen plotting threshold is set to 1, the values between -1 and 1\nare masked in the plot.\n\n"
      ]
    },
    {
      "cell_type": "code",
      "execution_count": null,
      "metadata": {
        "collapsed": false
      },
      "outputs": [],
      "source": [
        "plotting.plot_stat_map(\n    stat_img,\n    threshold=1,\n    display_mode=\"ortho\",\n    cut_coords=[36, -27, 60],\n    title=\"plotting threshold=1\",\n)"
      ]
    },
    {
      "cell_type": "markdown",
      "metadata": {},
      "source": [
        "### Plotting threshold set to 1 with ``vmin=0``\n\nSetting ``vmin=0``, it is possible to plot only positive image values.\n\n"
      ]
    },
    {
      "cell_type": "code",
      "execution_count": null,
      "metadata": {
        "collapsed": false
      },
      "outputs": [],
      "source": [
        "plotting.plot_stat_map(\n    stat_img,\n    threshold=1,\n    cmap=\"inferno\",\n    display_mode=\"ortho\",\n    cut_coords=[36, -27, 60],\n    title=\"plotting threshold=1, vmin=0\",\n    vmin=0,\n)"
      ]
    },
    {
      "cell_type": "markdown",
      "metadata": {},
      "source": [
        "### Plotting threshold set to 1 with ``vmax=0``\n\nSetting ``vmax=0``, it is possible to plot only negative image values.\n\n"
      ]
    },
    {
      "cell_type": "code",
      "execution_count": null,
      "metadata": {
        "collapsed": false
      },
      "outputs": [],
      "source": [
        "plotting.plot_stat_map(\n    stat_img,\n    threshold=1,\n    cmap=\"inferno\",\n    display_mode=\"ortho\",\n    cut_coords=[36, -27, 60],\n    title=\"plotting threshold=1, vmax=0\",\n    vmax=0,\n)"
      ]
    },
    {
      "cell_type": "markdown",
      "metadata": {},
      "source": [
        "## Visualizing without a colorbar on the right side\n\nThe argument ``colorbar`` should be set to ``False`` to show plots without\na colorbar on the right side.\n\n"
      ]
    },
    {
      "cell_type": "code",
      "execution_count": null,
      "metadata": {
        "collapsed": false
      },
      "outputs": [],
      "source": [
        "plotting.plot_stat_map(\n    stat_img,\n    display_mode=\"ortho\",\n    cut_coords=[36, -27, 60],\n    colorbar=False,\n    title=\"no colorbar\",\n)"
      ]
    }
  ],
  "metadata": {
    "kernelspec": {
      "display_name": "Python 3",
      "language": "python",
      "name": "python3"
    },
    "language_info": {
      "codemirror_mode": {
        "name": "ipython",
        "version": 3
      },
      "file_extension": ".py",
      "mimetype": "text/x-python",
      "name": "python",
      "nbconvert_exporter": "python",
      "pygments_lexer": "ipython3",
      "version": "3.9.22"
    }
  },
  "nbformat": 4,
  "nbformat_minor": 0
}