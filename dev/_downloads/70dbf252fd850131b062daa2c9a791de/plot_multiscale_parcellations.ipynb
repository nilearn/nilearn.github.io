{
  "cells": [
    {
      "cell_type": "markdown",
      "metadata": {},
      "source": [
        "\n# Visualizing multiscale functional brain parcellations\n\nThis example shows how to download and fetch brain parcellations of\nmultiple networks using\n:func:`~nilearn.datasets.fetch_atlas_basc_multiscale_2015`\nand visualize them using plotting function :func:`~nilearn.plotting.plot_roi`.\n\nWe show here only three different networks of 'symmetric' version. For more\ndetails about different versions and different networks, please refer to its\ndocumentation.\n"
      ]
    },
    {
      "cell_type": "markdown",
      "metadata": {},
      "source": [
        "## Retrieving multiscale group brain parcellations\n\n"
      ]
    },
    {
      "cell_type": "code",
      "execution_count": null,
      "metadata": {
        "collapsed": false
      },
      "outputs": [],
      "source": [
        "# import datasets module and use `fetch_atlas_basc_multiscale_2015` function\nfrom nilearn.datasets import fetch_atlas_basc_multiscale_2015\n\nparcellations = [\n    fetch_atlas_basc_multiscale_2015(version=\"sym\", resolution=64),\n    fetch_atlas_basc_multiscale_2015(version=\"sym\", resolution=197),\n    fetch_atlas_basc_multiscale_2015(version=\"sym\", resolution=444),\n]\n\n# We show here networks of 64, 197, 444\nnetworks_64 = parcellations[0][\"maps\"]\nnetworks_197 = parcellations[1][\"maps\"]\nnetworks_444 = parcellations[2][\"maps\"]"
      ]
    },
    {
      "cell_type": "markdown",
      "metadata": {},
      "source": [
        "## Visualizing brain parcellations\n\n"
      ]
    },
    {
      "cell_type": "code",
      "execution_count": null,
      "metadata": {
        "collapsed": false
      },
      "outputs": [],
      "source": [
        "# import plotting module and use `plot_roi` function, since the maps are in 3D\nfrom nilearn.plotting import cm, plot_roi, show\n\n# The coordinates of all plots are selected automatically by itself\n# We manually change the colormap of our choice\nplot_roi(networks_64, cmap=cm.bwr, title=\"64 regions of brain clusters\")\n\nplot_roi(networks_197, cmap=cm.bwr, title=\"197 regions of brain clusters\")\n\nplot_roi(networks_444, cmap=cm.bwr_r, title=\"444 regions of brain clusters\")\n\nshow()"
      ]
    }
  ],
  "metadata": {
    "kernelspec": {
      "display_name": "Python 3",
      "language": "python",
      "name": "python3"
    },
    "language_info": {
      "codemirror_mode": {
        "name": "ipython",
        "version": 3
      },
      "file_extension": ".py",
      "mimetype": "text/x-python",
      "name": "python",
      "nbconvert_exporter": "python",
      "pygments_lexer": "ipython3",
      "version": "3.9.21"
    }
  },
  "nbformat": 4,
  "nbformat_minor": 0
}