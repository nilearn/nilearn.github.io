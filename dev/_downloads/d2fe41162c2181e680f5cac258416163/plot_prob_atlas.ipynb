{
  "cells": [
    {
      "cell_type": "markdown",
      "metadata": {},
      "source": [
        "\n# Visualizing 4D probabilistic atlas maps\n\nThis example shows how to visualize probabilistic atlases made of 4D images.\nThere are 3 different display types:\n\n1. \"contours\", which means maps or ROIs are shown as contours delineated by     colored lines.\n\n2. \"filled_contours\", maps are shown as contours same as above but with     fillings inside the contours.\n\n3. \"continuous\", maps are shown as just color overlays.\n\nA colorbar can optionally be added.\n\nThe :func:`~nilearn.plotting.plot_prob_atlas` function displays each map\nwith each different color which are picked randomly from the colormap\nwhich is already defined.\n\nSee `plotting` for more information to know how to tune the parameters.\n"
      ]
    },
    {
      "cell_type": "markdown",
      "metadata": {},
      "source": [
        "Load 4D probabilistic atlases\n\n"
      ]
    },
    {
      "cell_type": "code",
      "execution_count": null,
      "metadata": {
        "collapsed": false
      },
      "outputs": [],
      "source": [
        "from nilearn import datasets, plotting\n\n# Allen RSN networks\nallen = datasets.fetch_atlas_allen_2011()\n\n# ICBM tissue probability\nicbm = datasets.fetch_icbm152_2009()\n\n# Smith ICA BrainMap 2009\nsmith_bm20 = datasets.fetch_atlas_smith_2009(resting=False, dimension=20)[\n    \"maps\"\n]"
      ]
    },
    {
      "cell_type": "markdown",
      "metadata": {},
      "source": [
        "Visualization\n\n"
      ]
    },
    {
      "cell_type": "code",
      "execution_count": null,
      "metadata": {
        "collapsed": false
      },
      "outputs": [],
      "source": [
        "# \"contours\" example\nplotting.plot_prob_atlas(allen.rsn28, title=\"Allen2011\")\n\n# \"continuous\" example\nplotting.plot_prob_atlas(\n    (icbm[\"wm\"], icbm[\"gm\"], icbm[\"csf\"]), title=\"ICBM tissues\"\n)\n\n# \"filled_contours\" example. An optional colorbar can be set.\nplotting.plot_prob_atlas(\n    smith_bm20,\n    title=\"Smith2009 20 Brainmap (with colorbar)\",\n    colorbar=True,\n)\n\nplotting.show()"
      ]
    },
    {
      "cell_type": "markdown",
      "metadata": {},
      "source": [
        "## Other probabilistic atlases accessible with nilearn\n\nTo save build time, the following code is not executed. Try running it\nlocally to get the same plots as above for each of the listed atlases.\n\n```default\n# Harvard Oxford Atlas\nharvard_oxford = datasets.fetch_atlas_harvard_oxford(\"cort-prob-2mm\")\nharvard_oxford_sub = datasets.fetch_atlas_harvard_oxford(\"sub-prob-2mm\")\n\n# Smith ICA Atlas and Brain Maps 2009\nsmith_rsn10 = datasets.fetch_atlas_smith_2009(\n    resting=True, dimension=10\n)[\"maps\"]\nsmith_rsn20 = datasets.fetch_atlas_smith_2009(\n    resting=True, dimension=20\n)[\"maps\"]\nsmith_rsn70 = datasets.fetch_atlas_smith_2009(\n    resting=True, dimension=70\n)[\"maps\"]\nsmith_bm10 = datasets.fetch_atlas_smith_2009(\n    resting=False, dimension=10\n)[\"maps\"]\nsmith_bm70 = datasets.fetch_atlas_smith_2009(\n    resting=False, dimension=70\n)[\"maps\"]\n\n# Multi Subject Dictionary Learning Atlas\nmsdl = datasets.fetch_atlas_msdl()\n\n# Pauli subcortical atlas\nsubcortex = datasets.fetch_atlas_pauli_2017()\n\n# Dictionaries of Functional Modes (\u201cDiFuMo\u201d) atlas\ndim = 64\nres = 2\ndifumo = datasets.fetch_atlas_difumo(\n    dimension=dim, resolution_mm=res,\n)\n\n# Visualization\natlas_types = {\n    \"Harvard_Oxford\": harvard_oxford.maps,\n    \"Harvard_Oxford sub\": harvard_oxford_sub.maps,\n    \"Smith 2009 10 RSNs\": smith_rsn10,\n    \"Smith2009 20 RSNs\": smith_rsn20,\n    \"Smith2009 70 RSNs\": smith_rsn70,\n    \"Smith2009 10 Brainmap\": smith_bm10,\n    \"Smith2009 70 Brainmap\": smith_bm70,\n    \"MSDL\": msdl.maps,\n    \"Pauli2017 Subcortical Atlas\": subcortex.maps,\n    f\"DiFuMo dimension {dim} resolution {res}\": difumo.maps,\n}\n\nfor name, atlas in sorted(atlas_types.items()):\n    plotting.plot_prob_atlas(atlas, title=name)\n\nplotting.show()\n```\n"
      ]
    }
  ],
  "metadata": {
    "kernelspec": {
      "display_name": "Python 3",
      "language": "python",
      "name": "python3"
    },
    "language_info": {
      "codemirror_mode": {
        "name": "ipython",
        "version": 3
      },
      "file_extension": ".py",
      "mimetype": "text/x-python",
      "name": "python",
      "nbconvert_exporter": "python",
      "pygments_lexer": "ipython3",
      "version": "3.9.21"
    }
  },
  "nbformat": 4,
  "nbformat_minor": 0
}