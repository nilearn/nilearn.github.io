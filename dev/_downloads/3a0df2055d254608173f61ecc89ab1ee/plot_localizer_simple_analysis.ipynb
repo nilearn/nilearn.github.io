{
  "cells": [
    {
      "cell_type": "markdown",
      "metadata": {},
      "source": [
        "\n# Massively univariate analysis of a calculation task from the Localizer dataset\n\nThis example shows how to use the Localizer dataset in a basic analysis.\nA standard Anova is performed (massively univariate F-test) and the resulting\nBonferroni-corrected p-values are plotted.\nWe use a calculation task and 20 subjects out of the 94 available.\n\nThe Localizer dataset contains many contrasts and subject-related\nvariates.  The user can refer to the\n`plot_localizer_mass_univariate_methods.py` example to see how to use these.\n\n.. include:: ../../../examples/masker_note.rst\n"
      ]
    },
    {
      "cell_type": "code",
      "execution_count": null,
      "metadata": {
        "collapsed": false
      },
      "outputs": [],
      "source": [
        "from nilearn._utils.helpers import check_matplotlib\n\ncheck_matplotlib()\n\nimport matplotlib.pyplot as plt"
      ]
    },
    {
      "cell_type": "code",
      "execution_count": null,
      "metadata": {
        "collapsed": false
      },
      "outputs": [],
      "source": [
        "import numpy as np\n\nfrom nilearn import datasets\nfrom nilearn.image import get_data\nfrom nilearn.maskers import NiftiMasker"
      ]
    },
    {
      "cell_type": "markdown",
      "metadata": {},
      "source": [
        "Load Localizer contrast\n\n"
      ]
    },
    {
      "cell_type": "code",
      "execution_count": null,
      "metadata": {
        "collapsed": false
      },
      "outputs": [],
      "source": [
        "n_samples = 20\nlocalizer_dataset = datasets.fetch_localizer_calculation_task(\n    n_subjects=n_samples\n)\ntested_var = np.ones((n_samples, 1))"
      ]
    },
    {
      "cell_type": "markdown",
      "metadata": {},
      "source": [
        "Mask data\n\n"
      ]
    },
    {
      "cell_type": "code",
      "execution_count": null,
      "metadata": {
        "collapsed": false
      },
      "outputs": [],
      "source": [
        "nifti_masker = NiftiMasker(\n    smoothing_fwhm=5, memory=\"nilearn_cache\", memory_level=1\n)\ncmap_filenames = localizer_dataset.cmaps\nfmri_masked = nifti_masker.fit_transform(cmap_filenames)"
      ]
    },
    {
      "cell_type": "markdown",
      "metadata": {},
      "source": [
        "Anova (parametric F-scores)\n\n"
      ]
    },
    {
      "cell_type": "code",
      "execution_count": null,
      "metadata": {
        "collapsed": false
      },
      "outputs": [],
      "source": [
        "from sklearn.feature_selection import f_regression\n\n# Center=False is used to not remove intercept\n_, pvals_anova = f_regression(fmri_masked, tested_var, center=False)\npvals_anova *= fmri_masked.shape[1]\npvals_anova[np.isnan(pvals_anova)] = 1\npvals_anova[pvals_anova > 1] = 1\nneg_log_pvals_anova = -np.log10(pvals_anova)\nneg_log_pvals_anova_unmasked = nifti_masker.inverse_transform(\n    neg_log_pvals_anova\n)"
      ]
    },
    {
      "cell_type": "markdown",
      "metadata": {},
      "source": [
        "Visualization\n\n"
      ]
    },
    {
      "cell_type": "code",
      "execution_count": null,
      "metadata": {
        "collapsed": false
      },
      "outputs": [],
      "source": [
        "from nilearn.plotting import plot_stat_map, show\n\n# Various plotting parameters\nplotted_slice = 45\nthreshold = -np.log10(0.1)  # 10% corrected\n\nmasked_pvals = np.ma.masked_less(\n    get_data(neg_log_pvals_anova_unmasked), threshold\n)\n\ntitle = (\n    \"Negative $\\\\log_{10}$ p-values\"\n    \"\\n(Parametric + Bonferroni correction)\"\n    f\"\\n{(~masked_pvals.mask).sum()} detections\"\n)\n\n# Plot Anova p-values\ndisplay = plot_stat_map(\n    neg_log_pvals_anova_unmasked,\n    threshold=threshold,\n    display_mode=\"z\",\n    cut_coords=[plotted_slice],\n    figure=plt.figure(figsize=(5, 6), facecolor=\"w\"),\n    cmap=\"inferno\",\n    vmin=threshold,\n    title=title,\n)\n\n\nshow()"
      ]
    }
  ],
  "metadata": {
    "kernelspec": {
      "display_name": "Python 3",
      "language": "python",
      "name": "python3"
    },
    "language_info": {
      "codemirror_mode": {
        "name": "ipython",
        "version": 3
      },
      "file_extension": ".py",
      "mimetype": "text/x-python",
      "name": "python",
      "nbconvert_exporter": "python",
      "pygments_lexer": "ipython3",
      "version": "3.9.22"
    }
  },
  "nbformat": 4,
  "nbformat_minor": 0
}