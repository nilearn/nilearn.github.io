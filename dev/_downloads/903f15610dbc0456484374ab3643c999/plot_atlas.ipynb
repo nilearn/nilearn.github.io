{
  "cells": [
    {
      "cell_type": "markdown",
      "metadata": {},
      "source": [
        "\n# Basic Atlas plotting\n\nPlot the regions of reference atlases.\n\nCheck the `list of atlases <listing_deterministic_atlases>`\nto know which ones are shipped with Nilearn.\n"
      ]
    },
    {
      "cell_type": "markdown",
      "metadata": {},
      "source": [
        "## Retrieving the atlas data\n\n"
      ]
    },
    {
      "cell_type": "code",
      "execution_count": null,
      "metadata": {
        "collapsed": false
      },
      "outputs": [],
      "source": [
        "from nilearn import datasets\n\ndataset_ho = datasets.fetch_atlas_harvard_oxford(\"cort-maxprob-thr25-2mm\")\natlas_ho_filename = dataset_ho.filename\nprint(f\"Atlas ROIs are located at: {atlas_ho_filename}\")\n\ndataset_ju = datasets.fetch_atlas_juelich(\"maxprob-thr0-1mm\")\natlas_ju_filename = dataset_ju.filename\nprint(f\"Atlas ROIs are located at: {atlas_ju_filename}\")"
      ]
    },
    {
      "cell_type": "markdown",
      "metadata": {},
      "source": [
        "## Visualizing the Harvard-Oxford atlas\n\n"
      ]
    },
    {
      "cell_type": "code",
      "execution_count": null,
      "metadata": {
        "collapsed": false
      },
      "outputs": [],
      "source": [
        "from nilearn.plotting import plot_roi, show\n\nplot_roi(atlas_ho_filename, title=\"Harvard Oxford atlas\")"
      ]
    },
    {
      "cell_type": "markdown",
      "metadata": {},
      "source": [
        "## Visualizing the Juelich atlas\n\n"
      ]
    },
    {
      "cell_type": "code",
      "execution_count": null,
      "metadata": {
        "collapsed": false
      },
      "outputs": [],
      "source": [
        "plot_roi(atlas_ju_filename, title=\"Juelich atlas\")"
      ]
    },
    {
      "cell_type": "markdown",
      "metadata": {},
      "source": [
        "## Visualizing the Harvard-Oxford atlas with contours\n\n"
      ]
    },
    {
      "cell_type": "code",
      "execution_count": null,
      "metadata": {
        "collapsed": false
      },
      "outputs": [],
      "source": [
        "plot_roi(\n    atlas_ho_filename,\n    view_type=\"contours\",\n    title=\"Harvard Oxford atlas in contours\",\n)\nshow()"
      ]
    },
    {
      "cell_type": "markdown",
      "metadata": {},
      "source": [
        "## Visualizing the Juelich atlas with contours\n\n"
      ]
    },
    {
      "cell_type": "code",
      "execution_count": null,
      "metadata": {
        "collapsed": false
      },
      "outputs": [],
      "source": [
        "plot_roi(\n    atlas_ju_filename, view_type=\"contours\", title=\"Juelich atlas in contours\"\n)\nshow()"
      ]
    },
    {
      "cell_type": "markdown",
      "metadata": {},
      "source": [
        "## Visualizing an atlas with its own colormap\nSome atlases come with a look-up table\nthat determines the color to use to represent each of its regions.\n\nYou can pass this look-up table\nas a pandas dataframe to the ``cmap`` argument\nto use its colormap.\n\n.. admonition:: Look-up table format\n   :class: tip\n\n   The look-up table must be formatted according to the BIDS standard.\n   and that the colors must be in ``color`` column using hexadecimal values.\n\n   If an invalid look-up table is passed,\n   a warning will be thrown and the ``plot_roi`` function\n   will fall back to using its default colormap.\n\n\n"
      ]
    },
    {
      "cell_type": "markdown",
      "metadata": {},
      "source": [
        "Here we are using the Yeo atlas\nthat comes with a predefined colormap.\n\n"
      ]
    },
    {
      "cell_type": "code",
      "execution_count": null,
      "metadata": {
        "collapsed": false
      },
      "outputs": [],
      "source": [
        "dataset_yeo = datasets.fetch_atlas_yeo_2011(n_networks=17)\n\nprint(dataset_yeo.lut)"
      ]
    },
    {
      "cell_type": "markdown",
      "metadata": {},
      "source": [
        "Let's compare the atlas with the default colormap and its own colormap.\n\n"
      ]
    },
    {
      "cell_type": "code",
      "execution_count": null,
      "metadata": {
        "collapsed": false
      },
      "outputs": [],
      "source": [
        "plot_roi(\n    dataset_yeo.maps,\n    title=\"Yeo atlas\",\n    colorbar=True,\n)\n\nplot_roi(\n    dataset_yeo.maps,\n    title=\"Yeo atlas with its own colors\",\n    cmap=dataset_yeo.lut,\n    colorbar=True,\n)\n\nshow()"
      ]
    }
  ],
  "metadata": {
    "kernelspec": {
      "display_name": "Python 3",
      "language": "python",
      "name": "python3"
    },
    "language_info": {
      "codemirror_mode": {
        "name": "ipython",
        "version": 3
      },
      "file_extension": ".py",
      "mimetype": "text/x-python",
      "name": "python",
      "nbconvert_exporter": "python",
      "pygments_lexer": "ipython3",
      "version": "3.9.23"
    }
  },
  "nbformat": 4,
  "nbformat_minor": 0
}