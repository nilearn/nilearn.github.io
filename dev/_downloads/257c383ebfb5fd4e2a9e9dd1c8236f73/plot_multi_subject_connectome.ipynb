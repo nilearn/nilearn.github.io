{
  "cells": [
    {
      "cell_type": "markdown",
      "metadata": {},
      "source": [
        "\n# Group Sparse inverse covariance for multi-subject connectome\n\nThis example shows how to estimate a connectome on a group of subjects\nusing the group sparse inverse covariance estimate.\n\n.. include:: ../../../examples/masker_note.rst\n"
      ]
    },
    {
      "cell_type": "code",
      "execution_count": null,
      "metadata": {
        "collapsed": false
      },
      "outputs": [],
      "source": [
        "import numpy as np\n\nfrom nilearn import plotting\n\nn_subjects = 4  # subjects to consider for group-sparse covariance (max: 40)\n\n\ndef plot_matrices(cov, prec, title, labels):\n    \"\"\"Plot covariance and precision matrices, for a given processing.\"\"\"\n    prec = prec.copy()  # avoid side effects\n\n    # Put zeros on the diagonal, for graph clarity.\n    size = prec.shape[0]\n    prec[list(range(size)), list(range(size))] = 0\n    span = max(abs(prec.min()), abs(prec.max()))\n\n    # Display covariance matrix\n    plotting.plot_matrix(\n        cov,\n        vmin=-1,\n        vmax=1,\n        title=f\"{title} / covariance\",\n        labels=labels,\n    )\n    # Display precision matrix\n    plotting.plot_matrix(\n        prec,\n        vmin=-span,\n        vmax=span,\n        title=f\"{title} / precision\",\n        labels=labels,\n    )"
      ]
    },
    {
      "cell_type": "markdown",
      "metadata": {},
      "source": [
        "## Fetching datasets\n\n"
      ]
    },
    {
      "cell_type": "code",
      "execution_count": null,
      "metadata": {
        "collapsed": false
      },
      "outputs": [],
      "source": [
        "from nilearn import datasets\n\nmsdl_atlas_dataset = datasets.fetch_atlas_msdl()\nrest_dataset = datasets.fetch_development_fmri(n_subjects=n_subjects)\n\n# print basic information on the dataset\nprint(\n    f\"First subject functional nifti image (4D) is at: {rest_dataset.func[0]}\"\n)"
      ]
    },
    {
      "cell_type": "markdown",
      "metadata": {},
      "source": [
        "## Extracting region signals\n\n"
      ]
    },
    {
      "cell_type": "code",
      "execution_count": null,
      "metadata": {
        "collapsed": false
      },
      "outputs": [],
      "source": [
        "from nilearn.maskers import NiftiMapsMasker\n\nmasker = NiftiMapsMasker(\n    msdl_atlas_dataset.maps,\n    resampling_target=\"maps\",\n    detrend=True,\n    high_variance_confounds=True,\n    low_pass=None,\n    high_pass=0.01,\n    t_r=2,\n    standardize=\"zscore_sample\",\n    standardize_confounds=True,\n    memory=\"nilearn_cache\",\n    memory_level=1,\n    verbose=2,\n)\n\nsubject_time_series = []\nfunc_filenames = rest_dataset.func\nconfound_filenames = rest_dataset.confounds\nfor func_filename, confound_filename in zip(\n    func_filenames, confound_filenames\n):\n    print(f\"Processing file {func_filename}\")\n\n    region_ts = masker.fit_transform(\n        func_filename, confounds=confound_filename\n    )\n    subject_time_series.append(region_ts)"
      ]
    },
    {
      "cell_type": "markdown",
      "metadata": {},
      "source": [
        "## Computing group-sparse precision matrices\n\n"
      ]
    },
    {
      "cell_type": "code",
      "execution_count": null,
      "metadata": {
        "collapsed": false
      },
      "outputs": [],
      "source": [
        "from nilearn.connectome import GroupSparseCovarianceCV\n\ngsc = GroupSparseCovarianceCV(verbose=2)\ngsc.fit(subject_time_series)\n\n\nfrom sklearn.covariance import GraphicalLassoCV\n\ngl = GraphicalLassoCV(verbose=2)\ngl.fit(np.concatenate(subject_time_series))"
      ]
    },
    {
      "cell_type": "markdown",
      "metadata": {},
      "source": [
        "## Displaying results\n\n"
      ]
    },
    {
      "cell_type": "code",
      "execution_count": null,
      "metadata": {
        "collapsed": false
      },
      "outputs": [],
      "source": [
        "atlas_img = msdl_atlas_dataset.maps\natlas_region_coords = plotting.find_probabilistic_atlas_cut_coords(atlas_img)\nlabels = msdl_atlas_dataset.labels\n\nplotting.plot_connectome(\n    gl.covariance_,\n    atlas_region_coords,\n    edge_threshold=\"90%\",\n    title=\"Covariance\",\n    display_mode=\"lzr\",\n)\nplotting.plot_connectome(\n    -gl.precision_,\n    atlas_region_coords,\n    edge_threshold=\"90%\",\n    title=\"Sparse inverse covariance (GraphicalLasso)\",\n    display_mode=\"lzr\",\n    edge_vmax=0.5,\n    edge_vmin=-0.5,\n)\nplot_matrices(gl.covariance_, gl.precision_, \"GraphicalLasso\", labels)\n\ntitle = \"GroupSparseCovariance\"\nplotting.plot_connectome(\n    -gsc.precisions_[..., 0],\n    atlas_region_coords,\n    edge_threshold=\"90%\",\n    title=title,\n    display_mode=\"lzr\",\n    edge_vmax=0.5,\n    edge_vmin=-0.5,\n)\nplot_matrices(gsc.covariances_[..., 0], gsc.precisions_[..., 0], title, labels)\n\nplotting.show()"
      ]
    }
  ],
  "metadata": {
    "kernelspec": {
      "display_name": "Python 3",
      "language": "python",
      "name": "python3"
    },
    "language_info": {
      "codemirror_mode": {
        "name": "ipython",
        "version": 3
      },
      "file_extension": ".py",
      "mimetype": "text/x-python",
      "name": "python",
      "nbconvert_exporter": "python",
      "pygments_lexer": "ipython3",
      "version": "3.9.22"
    }
  },
  "nbformat": 4,
  "nbformat_minor": 0
}