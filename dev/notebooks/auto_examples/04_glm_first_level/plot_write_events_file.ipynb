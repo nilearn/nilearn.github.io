{
  "cells": [
    {
      "cell_type": "markdown",
      "metadata": {},
      "source": [
        "\n# Generate an events.tsv file for the NeuroSpin localizer task\n\nCreate a :term:`BIDS`-compatible events.tsv file from onset/trial-type\ninformation.\n\nThe protocol described is the so-called \"ARCHI Standard\" functional localizer\ntask.\n\nFor details on the task, please see :footcite:t:`Pinel2007`.\n"
      ]
    },
    {
      "cell_type": "markdown",
      "metadata": {},
      "source": [
        "Define the onset times in seconds. These are typically extracted from\nthe stimulation software used, but we will use hardcoded values in this\nexample.\n\n"
      ]
    },
    {
      "cell_type": "code",
      "execution_count": null,
      "metadata": {
        "collapsed": false
      },
      "outputs": [],
      "source": [
        "# fmt: off\nonsets = [\n    0.0,   2.4,   8.7,   11.4,  15.0,  18.0,  20.7,  23.7,  26.7,  29.7,\n    33.0,  35.4,  39.0,  41.7,  44.7,  48.0,  56.4,  59.7,  62.4,  69.0,\n    71.4,  75.0,  83.4,  87.0,  89.7,  96.0,  108.0, 116.7, 119.4, 122.7,\n    125.4, 131.4, 135.0, 137.7, 140.4, 143.4, 146.7, 149.4, 153.0, 156.0,\n    159.0, 162.0, 164.4, 167.7, 170.4, 173.7, 176.7, 188.4, 191.7, 195.0,\n    198.0, 201.0, 203.7, 207.0, 210.0, 212.7, 215.7, 218.7, 221.4, 224.7,\n    227.7, 230.7, 234.0, 236.7, 246.0, 248.4, 251.7, 254.7, 257.4, 260.4,\n    264.0, 266.7, 269.7, 275.4, 278.4, 284.4, 288.0, 291.0, 293.4, 296.7,\n]\n# fmt: on"
      ]
    },
    {
      "cell_type": "markdown",
      "metadata": {},
      "source": [
        "Associated trial types: these are numbered between 0 and 9, hence\ncorresponding to 10 different conditions.\n\n"
      ]
    },
    {
      "cell_type": "code",
      "execution_count": null,
      "metadata": {
        "collapsed": false
      },
      "outputs": [],
      "source": [
        "# fmt: off\ntrial_type_idx = [\n    7, 7, 0, 2, 9, 4, 9, 3, 5, 9, 1, 6, 8, 8, 6, 6, 8, 0, 3, 4, 5, 8, 6,\n    2, 9, 1, 6, 5, 9, 1, 7, 8, 6, 6, 1, 2, 9, 0, 7, 1, 8, 2, 7, 8, 3, 6,\n    0, 0, 6, 8, 7, 7, 1, 1, 1, 5, 5, 0, 7, 0, 4, 2, 7, 9, 8, 0, 6, 3, 3,\n    7, 1, 0, 0, 4, 1, 9, 8, 4, 9, 9\n]\n# fmt: on"
      ]
    },
    {
      "cell_type": "markdown",
      "metadata": {},
      "source": [
        "We may want to map these indices to explicit condition names.\nFor that, we define a list of 10 strings.\n\n"
      ]
    },
    {
      "cell_type": "code",
      "execution_count": null,
      "metadata": {
        "collapsed": false
      },
      "outputs": [],
      "source": [
        "condition_ids = [\n    \"horizontal checkerboard\",\n    \"vertical checkerboard\",\n    \"right button press, auditory instructions\",\n    \"left button press, auditory instructions\",\n    \"right button press, visual instructions\",\n    \"left button press, visual instructions\",\n    \"mental computation, auditory instructions\",\n    \"mental computation, visual instructions\",\n    \"visual sentence\",\n    \"auditory sentence\",\n]\n\ntrial_types = [condition_ids[i] for i in trial_type_idx]"
      ]
    },
    {
      "cell_type": "markdown",
      "metadata": {},
      "source": [
        "We must also define a duration (required by :term:`BIDS` conventions).\nIn this case, all trials lasted one second,\nexcept for button response\nthat are modeled as events with instantaneous duration (0 second).\n\n"
      ]
    },
    {
      "cell_type": "code",
      "execution_count": null,
      "metadata": {
        "collapsed": false
      },
      "outputs": [],
      "source": [
        "null_duration_trials = [2, 3, 4, 5]\ndurations = []\nfor i in trial_type_idx:\n    if i in null_duration_trials:\n        durations.append(0)\n    else:\n        durations.append(1)"
      ]
    },
    {
      "cell_type": "markdown",
      "metadata": {},
      "source": [
        "Form a pandas DataFrame from this information.\n\n"
      ]
    },
    {
      "cell_type": "code",
      "execution_count": null,
      "metadata": {
        "collapsed": false
      },
      "outputs": [],
      "source": [
        "import pandas as pd\n\nevents = pd.DataFrame(\n    {\n        \"trial_type\": trial_types,\n        \"onset\": onsets,\n        \"duration\": durations,\n    }\n)"
      ]
    },
    {
      "cell_type": "markdown",
      "metadata": {},
      "source": [
        "Take a look at the new DataFrame\n\n"
      ]
    },
    {
      "cell_type": "code",
      "execution_count": null,
      "metadata": {
        "collapsed": false
      },
      "outputs": [],
      "source": [
        "events"
      ]
    },
    {
      "cell_type": "markdown",
      "metadata": {},
      "source": [
        "Export them to a tsv file.\n\n"
      ]
    },
    {
      "cell_type": "code",
      "execution_count": null,
      "metadata": {
        "collapsed": false
      },
      "outputs": [],
      "source": [
        "from pathlib import Path\n\noutput_dir = Path.cwd() / \"results\" / \"plot_write_events_file\"\noutput_dir.mkdir(exist_ok=True, parents=True)\ntsvfile = output_dir / \"localizer_events.tsv\"\nevents.to_csv(tsvfile, sep=\"\\t\", index=False)\nprint(f\"The event information has been saved to {tsvfile}\")"
      ]
    },
    {
      "cell_type": "markdown",
      "metadata": {},
      "source": [
        "Optionally, the events can be visualized using the\n:func:`~nilearn.plotting.plot_event` function.\n\n"
      ]
    },
    {
      "cell_type": "code",
      "execution_count": null,
      "metadata": {
        "collapsed": false
      },
      "outputs": [],
      "source": [
        "from nilearn.plotting import plot_event, show\n\nfig = plot_event(events, figsize=(15, 5))\nfig.suptitle(\"Events\")\nshow()"
      ]
    },
    {
      "cell_type": "markdown",
      "metadata": {},
      "source": [
        "## Parametric modulation\nWe may want to modulate the way we model our events in our fMRI analysis.\nThis type of parametric modulation can be done\nby adding a \"modulation\" column to the dataframe containing our events.\n\nHere we will assume that when a trial\nis the same condition as the previous one,\nit will elicit a less intense response.\n\n"
      ]
    },
    {
      "cell_type": "code",
      "execution_count": null,
      "metadata": {
        "collapsed": false
      },
      "outputs": [],
      "source": [
        "modulations = []\nconditions_to_modulate = [\n    \"horizontal checkerboard\",\n    \"vertical checkerboard\",\n    \"mental computation, auditory instructions\",\n    \"mental computation, visual instructions\",\n    \"visual sentence\",\n    \"auditory sentence\",\n]\nfor i, trial in enumerate(trial_types):\n    if (\n        i > 0\n        and trial in conditions_to_modulate\n        and trial == trial_types[i - 1]\n    ):\n        modulations.append(0.5)\n    else:\n        modulations.append(1)\n\nmodulated_events = pd.DataFrame(\n    {\n        \"trial_type\": trial_types,\n        \"onset\": onsets,\n        \"duration\": durations,\n        \"modulation\": modulations,\n    }\n)\n\n# Now lets plot the modulated and unmodulated events.\nfig = plot_event([events, modulated_events], figsize=(15, 5))\nfig.suptitle(\"Events and modulated events\")\nshow()"
      ]
    },
    {
      "cell_type": "markdown",
      "metadata": {},
      "source": [
        "..  note::\n\n      See how the modulation affects the height of the events.\n\n\n"
      ]
    },
    {
      "cell_type": "markdown",
      "metadata": {},
      "source": [
        "## References\n\n.. footbibliography::\n\n"
      ]
    }
  ],
  "metadata": {
    "kernelspec": {
      "display_name": "Python 3",
      "language": "python",
      "name": "python3"
    },
    "language_info": {
      "codemirror_mode": {
        "name": "ipython",
        "version": 3
      },
      "file_extension": ".py",
      "mimetype": "text/x-python",
      "name": "python",
      "nbconvert_exporter": "python",
      "pygments_lexer": "ipython3",
      "version": "3.9.21"
    }
  },
  "nbformat": 4,
  "nbformat_minor": 0
}