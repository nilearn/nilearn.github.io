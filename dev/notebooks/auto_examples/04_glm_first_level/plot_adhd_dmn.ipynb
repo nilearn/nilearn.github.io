{
  "cells": [
    {
      "cell_type": "markdown",
      "metadata": {},
      "source": [
        "\n# Default Mode Network extraction of ADHD dataset\n\nThis example shows a full step-by-step workflow of fitting a :term:`GLM`\nto signal extracted from a seed on the Posterior Cingulate Cortex\nand saving the results.\nMore precisely, this example shows how to use a signal extracted from a\nseed region as the regressor in a :term:`GLM` to determine the correlation\nof each region in the dataset with the seed region.\n\nMore specifically:\n\n1. A sequence of :term:`fMRI` volumes are loaded.\n2. A design matrix with the Posterior Cingulate Cortex seed is defined.\n3. A :term:`GLM` is applied to the dataset (effect/covariance,\n   then contrast estimation).\n4. The Default Mode Network is displayed.\n\n.. include:: ../../../examples/masker_note.rst\n"
      ]
    },
    {
      "cell_type": "code",
      "execution_count": null,
      "metadata": {
        "collapsed": false
      },
      "outputs": [],
      "source": [
        "import numpy as np\n\nfrom nilearn import plotting\nfrom nilearn.datasets import fetch_adhd\nfrom nilearn.glm.first_level import (\n    FirstLevelModel,\n    make_first_level_design_matrix,\n)\nfrom nilearn.maskers import NiftiSpheresMasker"
      ]
    },
    {
      "cell_type": "markdown",
      "metadata": {},
      "source": [
        "## Prepare data and analysis parameters\nPrepare the data.\n\n"
      ]
    },
    {
      "cell_type": "code",
      "execution_count": null,
      "metadata": {
        "collapsed": false
      },
      "outputs": [],
      "source": [
        "adhd_dataset = fetch_adhd(n_subjects=1)\n\n# Prepare timing\nt_r = 2.0\nslice_time_ref = 0.0\nn_scans = 176\n\n# Prepare seed\npcc_coords = (0, -53, 26)"
      ]
    },
    {
      "cell_type": "markdown",
      "metadata": {},
      "source": [
        "## Extract the seed region's time course\nExtract the time course of the seed region.\n\n"
      ]
    },
    {
      "cell_type": "code",
      "execution_count": null,
      "metadata": {
        "collapsed": false
      },
      "outputs": [],
      "source": [
        "seed_masker = NiftiSpheresMasker(\n    [pcc_coords],\n    radius=10,\n    detrend=True,\n    standardize=\"zscore_sample\",\n    low_pass=0.1,\n    high_pass=0.01,\n    t_r=2.0,\n    memory=\"nilearn_cache\",\n    memory_level=1,\n    verbose=0,\n)\nseed_time_series = seed_masker.fit_transform(adhd_dataset.func[0])\nframetimes = np.linspace(0, (n_scans - 1) * t_r, n_scans)"
      ]
    },
    {
      "cell_type": "markdown",
      "metadata": {},
      "source": [
        "Plot the time course of the seed region.\n\n"
      ]
    },
    {
      "cell_type": "code",
      "execution_count": null,
      "metadata": {
        "collapsed": false
      },
      "outputs": [],
      "source": [
        "import matplotlib.pyplot as plt\n\nfig = plt.figure(figsize=(9, 3))\nax = fig.add_subplot(111)\nax.plot(frametimes, seed_time_series, linewidth=2, label=\"seed region\")\nax.legend(loc=2)\nax.set_title(\"Time course of the seed region\")\nplt.show()"
      ]
    },
    {
      "cell_type": "markdown",
      "metadata": {},
      "source": [
        "## Estimate contrasts\nSpecify the contrasts.\n\n"
      ]
    },
    {
      "cell_type": "code",
      "execution_count": null,
      "metadata": {
        "collapsed": false
      },
      "outputs": [],
      "source": [
        "design_matrix = make_first_level_design_matrix(\n    frametimes,\n    hrf_model=\"spm\",\n    add_regs=seed_time_series,\n    add_reg_names=[\"pcc_seed\"],\n)\ndmn_contrast = np.array([1] + [0] * (design_matrix.shape[1] - 1))\ncontrasts = {\"seed_based_glm\": dmn_contrast}"
      ]
    },
    {
      "cell_type": "markdown",
      "metadata": {},
      "source": [
        "## Perform first level analysis\nSetup and fit GLM.\n\n"
      ]
    },
    {
      "cell_type": "code",
      "execution_count": null,
      "metadata": {
        "collapsed": false
      },
      "outputs": [],
      "source": [
        "first_level_model = FirstLevelModel(t_r=t_r, slice_time_ref=slice_time_ref)\nfirst_level_model = first_level_model.fit(\n    run_imgs=adhd_dataset.func[0], design_matrices=design_matrix\n)"
      ]
    },
    {
      "cell_type": "markdown",
      "metadata": {},
      "source": [
        "Estimate the contrast.\n\n"
      ]
    },
    {
      "cell_type": "code",
      "execution_count": null,
      "metadata": {
        "collapsed": false
      },
      "outputs": [],
      "source": [
        "print(\"Contrast seed_based_glm computed.\")\nz_map = first_level_model.compute_contrast(\n    contrasts[\"seed_based_glm\"], output_type=\"z_score\"\n)"
      ]
    },
    {
      "cell_type": "markdown",
      "metadata": {},
      "source": [
        "Saving snapshots of the contrasts\n\n"
      ]
    },
    {
      "cell_type": "code",
      "execution_count": null,
      "metadata": {
        "collapsed": false
      },
      "outputs": [],
      "source": [
        "from pathlib import Path\n\ndisplay = plotting.plot_stat_map(\n    z_map, threshold=3.0, title=\"Seed based GLM\", cut_coords=pcc_coords\n)\ndisplay.add_markers(\n    marker_coords=[pcc_coords], marker_color=\"g\", marker_size=300\n)\n\noutput_dir = Path.cwd() / \"results\" / \"plot_adhd_dmn\"\noutput_dir.mkdir(exist_ok=True, parents=True)\nfilename = \"dmn_z_map.png\"\ndisplay.savefig(output_dir / filename)\nprint(f\"Save z-map in '{filename}'.\")"
      ]
    },
    {
      "cell_type": "markdown",
      "metadata": {},
      "source": [
        "## Generating a report\nIt can be useful to quickly generate a\nportable, ready-to-view report with most of the pertinent information.\nThis is easy to do if you have a fitted model and the list of contrasts,\nwhich we do here.\n\n"
      ]
    },
    {
      "cell_type": "code",
      "execution_count": null,
      "metadata": {
        "collapsed": false
      },
      "outputs": [],
      "source": [
        "report = first_level_model.generate_report(\n    contrasts=contrasts,\n    title=\"ADHD DMN Report\",\n    cluster_threshold=15,\n    min_distance=8.0,\n    plot_type=\"glass\",\n)"
      ]
    },
    {
      "cell_type": "markdown",
      "metadata": {},
      "source": [
        "We have several ways to access the report:\n\nIt can be viewed in a notebook\n\n"
      ]
    },
    {
      "cell_type": "code",
      "execution_count": null,
      "metadata": {
        "collapsed": false
      },
      "outputs": [],
      "source": [
        "report"
      ]
    },
    {
      "cell_type": "markdown",
      "metadata": {},
      "source": [
        "Or in a separate browser window\nreport.open_in_browser()\n\n"
      ]
    },
    {
      "cell_type": "markdown",
      "metadata": {},
      "source": [
        "Or we can save as an html file.\n\n"
      ]
    },
    {
      "cell_type": "code",
      "execution_count": null,
      "metadata": {
        "collapsed": false
      },
      "outputs": [],
      "source": [
        "report.save_as_html(output_dir / \"report.html\")"
      ]
    }
  ],
  "metadata": {
    "kernelspec": {
      "display_name": "Python 3",
      "language": "python",
      "name": "python3"
    },
    "language_info": {
      "codemirror_mode": {
        "name": "ipython",
        "version": 3
      },
      "file_extension": ".py",
      "mimetype": "text/x-python",
      "name": "python",
      "nbconvert_exporter": "python",
      "pygments_lexer": "ipython3",
      "version": "3.9.23"
    }
  },
  "nbformat": 4,
  "nbformat_minor": 0
}