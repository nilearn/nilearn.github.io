{
  "cells": [
    {
      "cell_type": "markdown",
      "metadata": {},
      "source": [
        "\n# Understanding NiftiMasker and mask computation\n\nIn this example, the Nifti masker is used to automatically compute a mask.\n\n* The default strategy is based on the background.\n\n* Another option is to use a template.\n\n* For raw EPI, as in :term:`resting-state` or movie watching time series,\n  we need to use the 'epi' strategy of the NiftiMasker.\n\nIn addition, we show here how to tweak the different parameters of the\nunderlying routine that extract masks from EPI\n:func:`~nilearn.masking.compute_epi_mask`.\n\n.. include:: ../../../examples/masker_note.rst\n"
      ]
    },
    {
      "cell_type": "markdown",
      "metadata": {},
      "source": [
        "## Computing a mask from the background\n\nThe default strategy to compute a mask, eg in NiftiMasker is to try to\ndetect the background.\n\nWith data that has already been masked, this will work well, as it lies\non a homogeneous background\n\n"
      ]
    },
    {
      "cell_type": "code",
      "execution_count": null,
      "metadata": {
        "collapsed": false
      },
      "outputs": [],
      "source": [
        "from nilearn import image\nfrom nilearn.datasets import fetch_development_fmri, fetch_miyawaki2008\nfrom nilearn.maskers import NiftiMasker\nfrom nilearn.plotting import plot_epi, plot_roi, show\n\nmiyawaki_dataset = fetch_miyawaki2008()\n\n# print basic information on the dataset\nprint(\n    \"First functional nifti image (4D) is located \"\n    f\"at: {miyawaki_dataset.func[0]}\"\n)\n\nmiyawaki_filename = miyawaki_dataset.func[0]\nmiyawaki_mean_img = image.mean_img(miyawaki_filename, copy_header=True)\nplot_epi(miyawaki_mean_img, title=\"Mean EPI image\")"
      ]
    },
    {
      "cell_type": "markdown",
      "metadata": {},
      "source": [
        "A NiftiMasker with the default strategy\n\n"
      ]
    },
    {
      "cell_type": "code",
      "execution_count": null,
      "metadata": {
        "collapsed": false
      },
      "outputs": [],
      "source": [
        "masker = NiftiMasker()\nmasker.fit(miyawaki_filename)\n\n# Plot the generated mask using the mask_img_ attribute\nplot_roi(\n    masker.mask_img_, miyawaki_mean_img, title=\"Mask from already masked data\"\n)"
      ]
    },
    {
      "cell_type": "markdown",
      "metadata": {},
      "source": [
        "Plot the generated mask using the .generate_report method\n\n"
      ]
    },
    {
      "cell_type": "code",
      "execution_count": null,
      "metadata": {
        "collapsed": false
      },
      "outputs": [],
      "source": [
        "report = masker.generate_report()\nreport"
      ]
    },
    {
      "cell_type": "markdown",
      "metadata": {},
      "source": [
        "## Computing a mask from raw :term:`EPI` data\n\nFrom raw :term:`EPI` data, there is no uniform background, and a different\nstrategy is necessary\n\n"
      ]
    },
    {
      "cell_type": "code",
      "execution_count": null,
      "metadata": {
        "collapsed": false
      },
      "outputs": [],
      "source": [
        "# Load movie watching based brain development fMRI dataset\ndataset = fetch_development_fmri(n_subjects=1)\nepi_filename = dataset.func[0]\n\n# Restrict to 100 frames to speed up computation\nfrom nilearn.image import index_img\n\nepi_img = index_img(epi_filename, slice(0, 100))\n\n# To display the background\nmean_img = image.mean_img(epi_img, copy_header=True)\nplot_epi(mean_img, title=\"Mean EPI image\")"
      ]
    },
    {
      "cell_type": "markdown",
      "metadata": {},
      "source": [
        "Simple mask extraction from :term:`EPI` images\nWe need to specify an 'epi' mask_strategy, as this is raw :term:`EPI` data\n\n"
      ]
    },
    {
      "cell_type": "code",
      "execution_count": null,
      "metadata": {
        "collapsed": false
      },
      "outputs": [],
      "source": [
        "masker = NiftiMasker(mask_strategy=\"epi\")\nmasker.fit(epi_img)\nreport = masker.generate_report()\nreport"
      ]
    },
    {
      "cell_type": "markdown",
      "metadata": {},
      "source": [
        "Generate mask with strong opening\n\nWe can fine-tune the outline of the mask by increasing the number of\nopening steps (`opening=10`) using the `mask_args` argument of the\nNiftiMasker.\nThis effectively performs :term:`erosion<Erosion>`\nand :term:`dilation<Dilation>` operations\non the outer voxel layers of the mask,\nwhich can for example remove remaining skull parts in the image.\n\n"
      ]
    },
    {
      "cell_type": "code",
      "execution_count": null,
      "metadata": {
        "collapsed": false
      },
      "outputs": [],
      "source": [
        "masker = NiftiMasker(mask_strategy=\"epi\", mask_args={\"opening\": 10})\nmasker.fit(epi_img)\nreport = masker.generate_report()\nreport"
      ]
    },
    {
      "cell_type": "markdown",
      "metadata": {},
      "source": [
        "Generate mask with a high lower cutoff\n\nThe NiftiMasker calls the nilearn.masking.compute_epi_mask function to\ncompute the mask from the EPI. It has two important parameters:\nlower_cutoff and upper_cutoff. These set the grey-value bounds in which\nthe masking algorithm will search for its threshold (0 being the\nminimum of the image and 1 the maximum). We will here increase the\nlower cutoff to enforce selection of those voxels that appear as bright\nin the :term:`EPI` image.\n\n"
      ]
    },
    {
      "cell_type": "code",
      "execution_count": null,
      "metadata": {
        "collapsed": false
      },
      "outputs": [],
      "source": [
        "masker = NiftiMasker(\n    mask_strategy=\"epi\",\n    mask_args={\"upper_cutoff\": 0.9, \"lower_cutoff\": 0.8, \"opening\": False},\n)\nmasker.fit(epi_img)\nreport = masker.generate_report()\nreport"
      ]
    },
    {
      "cell_type": "markdown",
      "metadata": {},
      "source": [
        "## Computing the mask from the :term:`MNI` template\n\nA mask can also be computed from the :term:`MNI` template.\nIn this case, it is resampled to the target image.\nThree options are available:\n'whole-brain-template', 'gm-template', and 'wm-template' depending on whether\nthe whole-brain, gray matter, or white matter template should be used.\n\n"
      ]
    },
    {
      "cell_type": "code",
      "execution_count": null,
      "metadata": {
        "collapsed": false
      },
      "outputs": [],
      "source": [
        "masker = NiftiMasker(mask_strategy=\"whole-brain-template\")\nmasker.fit(epi_img)\nreport = masker.generate_report()\nreport"
      ]
    },
    {
      "cell_type": "markdown",
      "metadata": {},
      "source": [
        "## Compute and resample a mask\n\nNiftiMasker also allows passing parameters directly to `image.resample_img`.\nWe can specify a `target_affine`, a `target_shape`, or both.\nFor more information on these arguments,\nsee :doc:`plot_affine_transformation`.\n\nThe NiftiMasker report allows us to see the mask before and after resampling.\nSimply hover over the report to see the mask from the original image.\n\n"
      ]
    },
    {
      "cell_type": "code",
      "execution_count": null,
      "metadata": {
        "collapsed": false
      },
      "outputs": [],
      "source": [
        "import numpy as np\n\nmasker = NiftiMasker(mask_strategy=\"epi\", target_affine=np.eye(3) * 8)\nmasker.fit(epi_img)\nreport = masker.generate_report()\nreport"
      ]
    },
    {
      "cell_type": "markdown",
      "metadata": {},
      "source": [
        "## After mask computation: extracting time series\n\nExtract time series\n\n"
      ]
    },
    {
      "cell_type": "code",
      "execution_count": null,
      "metadata": {
        "collapsed": false
      },
      "outputs": [],
      "source": [
        "# trended vs detrended\ntrended = NiftiMasker(mask_strategy=\"epi\")\ndetrended = NiftiMasker(mask_strategy=\"epi\", detrend=True)\ntrended_data = trended.fit_transform(epi_img)\ndetrended_data = detrended.fit_transform(epi_img)\n\n# The timeseries are numpy arrays, so we can manipulate them with numpy\n\nprint(\n    f\"Trended: mean {np.mean(trended_data):.2f}, \"\n    f\"std {np.std(trended_data):.2f}\"\n)\nprint(\n    f\"Detrended: mean {np.mean(detrended_data):.2f}, \"\n    f\"std {np.std(detrended_data):.2f}\"\n)\n\nshow()"
      ]
    }
  ],
  "metadata": {
    "kernelspec": {
      "display_name": "Python 3",
      "language": "python",
      "name": "python3"
    },
    "language_info": {
      "codemirror_mode": {
        "name": "ipython",
        "version": 3
      },
      "file_extension": ".py",
      "mimetype": "text/x-python",
      "name": "python",
      "nbconvert_exporter": "python",
      "pygments_lexer": "ipython3",
      "version": "3.9.22"
    }
  },
  "nbformat": 4,
  "nbformat_minor": 0
}