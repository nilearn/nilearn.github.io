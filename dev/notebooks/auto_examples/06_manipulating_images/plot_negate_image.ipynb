{
  "cells": [
    {
      "cell_type": "markdown",
      "metadata": {},
      "source": [
        "\n# Negating an image with math_img\n\nThe goal of this example is to illustrate the use of the function\n:func:`~nilearn.image.math_img` on T-maps.\nWe compute a negative image by multiplying its voxel values with -1.\n"
      ]
    },
    {
      "cell_type": "code",
      "execution_count": null,
      "metadata": {
        "collapsed": false
      },
      "outputs": [],
      "source": [
        "from nilearn import datasets, image, plotting"
      ]
    },
    {
      "cell_type": "markdown",
      "metadata": {},
      "source": [
        "Retrieve the data: a motor :term:`contrast` map.\n\n"
      ]
    },
    {
      "cell_type": "code",
      "execution_count": null,
      "metadata": {
        "collapsed": false
      },
      "outputs": [],
      "source": [
        "stat_img = datasets.load_sample_motor_activation_image()"
      ]
    },
    {
      "cell_type": "markdown",
      "metadata": {},
      "source": [
        "Multiply voxel values by -1.\n\n"
      ]
    },
    {
      "cell_type": "code",
      "execution_count": null,
      "metadata": {
        "collapsed": false
      },
      "outputs": [],
      "source": [
        "negative_stat_img = image.math_img(\"-img\", img=stat_img)\n\nplotting.plot_stat_map(\n    stat_img, cut_coords=(36, -27, 66), threshold=3, title=\"t-map\", vmax=9\n)\nplotting.plot_stat_map(\n    negative_stat_img,\n    cut_coords=(36, -27, 66),\n    threshold=3,\n    title=\"Negative t-map\",\n    vmax=9,\n)\nplotting.show()"
      ]
    }
  ],
  "metadata": {
    "kernelspec": {
      "display_name": "Python 3",
      "language": "python",
      "name": "python3"
    },
    "language_info": {
      "codemirror_mode": {
        "name": "ipython",
        "version": 3
      },
      "file_extension": ".py",
      "mimetype": "text/x-python",
      "name": "python",
      "nbconvert_exporter": "python",
      "pygments_lexer": "ipython3",
      "version": "3.9.21"
    }
  },
  "nbformat": 4,
  "nbformat_minor": 0
}