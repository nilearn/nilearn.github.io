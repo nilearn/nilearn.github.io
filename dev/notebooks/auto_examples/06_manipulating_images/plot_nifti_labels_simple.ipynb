{
  "cells": [
    {
      "cell_type": "markdown",
      "metadata": {},
      "source": [
        "\n# Extracting signals from brain regions using the NiftiLabelsMasker\n\nThis simple example shows how to extract signals from functional\n:term:`fMRI` data and brain regions defined through an atlas.\nMore precisely, this example shows how to use the\n:class:`~nilearn.maskers.NiftiLabelsMasker` object to perform this\noperation in just a few lines of code.\n\n.. include:: ../../../examples/masker_note.rst\n"
      ]
    },
    {
      "cell_type": "code",
      "execution_count": null,
      "metadata": {
        "collapsed": false
      },
      "outputs": [],
      "source": [
        "from nilearn._utils.helpers import check_matplotlib\n\ncheck_matplotlib()"
      ]
    },
    {
      "cell_type": "markdown",
      "metadata": {},
      "source": [
        "## Retrieve the brain development functional dataset\n\nWe start by fetching the brain development functional dataset\nand we restrict the example to one subject only.\n\n"
      ]
    },
    {
      "cell_type": "code",
      "execution_count": null,
      "metadata": {
        "collapsed": false
      },
      "outputs": [],
      "source": [
        "from nilearn.datasets import fetch_atlas_harvard_oxford, fetch_development_fmri\n\ndataset = fetch_development_fmri(n_subjects=1)\nfunc_filename = dataset.func[0]\n\n# print basic information on the dataset\nprint(f\"First functional nifti image (4D) is at: {func_filename}\")"
      ]
    },
    {
      "cell_type": "markdown",
      "metadata": {},
      "source": [
        "## Load an atlas\n\nWe then load the Harvard-Oxford atlas to define the brain regions\nand the first label correspond to the background.\n\n\n"
      ]
    },
    {
      "cell_type": "code",
      "execution_count": null,
      "metadata": {
        "collapsed": false
      },
      "outputs": [],
      "source": [
        "atlas = fetch_atlas_harvard_oxford(\"cort-maxprob-thr25-2mm\")\nprint(f\"The atlas contains {len(atlas.labels) - 1} non-overlapping regions\")"
      ]
    },
    {
      "cell_type": "markdown",
      "metadata": {},
      "source": [
        "## Instantiate the mask and visualize atlas\n\nInstantiate the masker with label image and label values\n\n\n"
      ]
    },
    {
      "cell_type": "code",
      "execution_count": null,
      "metadata": {
        "collapsed": false
      },
      "outputs": [],
      "source": [
        "from nilearn.maskers import NiftiLabelsMasker\n\nmasker = NiftiLabelsMasker(\n    atlas.maps, lut=atlas.lut, standardize=\"zscore_sample\", verbose=1\n)"
      ]
    },
    {
      "cell_type": "markdown",
      "metadata": {},
      "source": [
        "## Visualize the atlas\n\n<div class=\"alert alert-info\"><h4>Note</h4><p>We need to call fit prior to generating the mask.</p></div>\n\nAt this point, no functional image has been provided to the masker.\nWe can still generate a report which can be displayed in a Jupyter\nNotebook, opened in a browser using the .open_in_browser() method,\nor saved to a file using the .save_as_html(output_filepath) method.\n\n"
      ]
    },
    {
      "cell_type": "code",
      "execution_count": null,
      "metadata": {
        "collapsed": false
      },
      "outputs": [],
      "source": [
        "masker.fit()\n\nreport = masker.generate_report()\nreport"
      ]
    },
    {
      "cell_type": "markdown",
      "metadata": {},
      "source": [
        "## Fitting the masker on data and generating a report\n\nWe can again generate a report, but this time,\nthe provided functional image is displayed with the ROI of the atlas.\nThe report also contains a summary table giving the region sizes in mm3.\n\n\n"
      ]
    },
    {
      "cell_type": "code",
      "execution_count": null,
      "metadata": {
        "collapsed": false
      },
      "outputs": [],
      "source": [
        "masker.fit(func_filename)\n\nreport = masker.generate_report()\nreport"
      ]
    },
    {
      "cell_type": "markdown",
      "metadata": {},
      "source": [
        "## Process the data with the NiftiLablesMasker\n\nIn order to extract the signals, we need to call transform on the\nfunctional data.\n\n"
      ]
    },
    {
      "cell_type": "code",
      "execution_count": null,
      "metadata": {
        "collapsed": false
      },
      "outputs": [],
      "source": [
        "signals = masker.transform(func_filename)\n\n# signals is a 2D numpy array, (n_time_points x n_regions)\nprint(f\"{signals.shape=}\")"
      ]
    },
    {
      "cell_type": "markdown",
      "metadata": {},
      "source": [
        "## Output to dataframe and plot\n\nYou can use 'set_output()' to decide the output format of 'transform'.\nIf you want to output to a DataFrame, you an choose pandas and polars.\n\n\n"
      ]
    },
    {
      "cell_type": "code",
      "execution_count": null,
      "metadata": {
        "collapsed": false
      },
      "outputs": [],
      "source": [
        "masker.set_output(transform=\"pandas\")\nsignals_df = masker.transform(func_filename)\nprint(signals_df.head)\n\nsignals_df[[\"Frontal Pole\", \"Insular Cortex\", \"Superior Frontal Gyrus\"]].plot(\n    title=\"Signals from 3 regions\", figsize=(15, 5)\n)"
      ]
    }
  ],
  "metadata": {
    "kernelspec": {
      "display_name": "Python 3",
      "language": "python",
      "name": "python3"
    },
    "language_info": {
      "codemirror_mode": {
        "name": "ipython",
        "version": 3
      },
      "file_extension": ".py",
      "mimetype": "text/x-python",
      "name": "python",
      "nbconvert_exporter": "python",
      "pygments_lexer": "ipython3",
      "version": "3.10.18"
    }
  },
  "nbformat": 4,
  "nbformat_minor": 0
}