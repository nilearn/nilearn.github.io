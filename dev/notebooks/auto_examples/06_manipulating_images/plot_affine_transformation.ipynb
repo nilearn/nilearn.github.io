{
  "cells": [
    {
      "cell_type": "markdown",
      "metadata": {},
      "source": [
        "\n# Visualization of affine resamplings\n\nThis example shows how an affine resampling works.\n\nA Nifti image contains, along with its 3D or 4D data content, a 4x4 matrix\nencoding an affine transformation that maps the data array into millimeter\nspace. If (i, j, k) encodes an integer position (voxel) with the data array,\nthen adding 1 as a fourth entry, (i, j, k, 1), and multiplying by the affine\nmatrix yields (x, y, z, 1), a 4-vector containing the millimeter position of\nthe voxel.\n\nThe resampling procedure in :func:`~nilearn.image.resample_img` can attribute\na new affine matrix and a new shape to your Nifti image while keeping its\nrepresentation in millimeter space exactly the same (up to sampling error and\npossible clipping).\n\nThis example shows a 2D image in voxel space, and the position of the data in\nmillimeter space, as encoded by the affine matrix. The image is the resampled\nin 3 ways and displayed in millimeter space.\n\n1) 4x4 affine matrix and target shape given\n2) 3x3 transformation matrix (only new voxel axes, no offset)\n   given and no shape given\n3) 4x4 affine matrix given and no shape given\n\nWhile 1) needs no further explanation (it returns an image exactly as\nspecified, with a new view on the data in millimeter space), 2) and 3) are\nmissing some specification, which is subsequently inferred by `resample_img`:\nIf the affine offset is missing (3x3 transformation, case 2), then the new\nimage will be the closest bounding box possible around the data along the\nnew axes. If the affine offset is given, but no shape provided, the\nresulting image will be the closest bounding box around the union of the\ndata points and the affine offset.\n\nNote that specifying a shape without specifying a 3x3 transformation matrix\ncauses an error message, because `resample_img` will not know where to start\nthe bounding box (there is no intelligent way of inferring this given the\nbounding box shape).\n"
      ]
    },
    {
      "cell_type": "code",
      "execution_count": null,
      "metadata": {
        "collapsed": false
      },
      "outputs": [],
      "source": [
        "# Create the data with numpy\nimport numpy as np\n\nfrom nilearn.image import get_data\nfrom nilearn.plotting import show"
      ]
    },
    {
      "cell_type": "markdown",
      "metadata": {},
      "source": [
        "First make a simple synthetic image\n\n"
      ]
    },
    {
      "cell_type": "code",
      "execution_count": null,
      "metadata": {
        "collapsed": false
      },
      "outputs": [],
      "source": [
        "grid = np.mgrid[0:192, 0:128]\ncircle = (\n    np.sum(\n        (grid - np.array([32.0, 32.0])[:, np.newaxis, np.newaxis]) ** 2, axis=0\n    )\n    < 256\n)\ndiamond = (\n    np.sum(\n        np.abs(grid - np.array([128.0, 80.0])[:, np.newaxis, np.newaxis]),\n        axis=0,\n    )\n    < 16\n)\nrectangle = (\n    np.max(\n        np.abs(grid - np.array([64.0, 96.0])[:, np.newaxis, np.newaxis]),\n        axis=0,\n    )\n    < 16\n)\n\nimage = np.zeros_like(circle)\nimage[16:160, 16:120] = 1.0\nimage = image + 2 * circle + 3 * rectangle + 4 * diamond + 1\n\nvmax = image.max()\n\nsource_affine = np.eye(4)\n# Use canonical vectors for affine\n# Give the affine an offset\nsource_affine[:2, 3] = np.array([96, 64])\n\n# Rotate it slightly\nangle = np.pi / 180 * 15\nrotation_matrix = np.array(\n    [[np.cos(angle), -np.sin(angle)], [np.sin(angle), np.cos(angle)]]\n)\nsource_affine[:2, :2] = rotation_matrix * 2.0  # 2.0mm voxel size\n\n# We need to turn this data into a nibabel image\nfrom nibabel import Nifti1Image\n\nimg = Nifti1Image(\n    image[:, :, np.newaxis].astype(\"float32\"), affine=source_affine\n)"
      ]
    },
    {
      "cell_type": "markdown",
      "metadata": {},
      "source": [
        "Now resample the image\n\n"
      ]
    },
    {
      "cell_type": "code",
      "execution_count": null,
      "metadata": {
        "collapsed": false
      },
      "outputs": [],
      "source": [
        "from nilearn.image import resample_img\n\nimg_in_mm_space = resample_img(\n    img, target_affine=np.eye(4), target_shape=(512, 512, 1), copy_header=True\n)\n\ntarget_affine_3x3 = np.eye(3) * 2\ntarget_affine_4x4 = np.eye(4) * 2\ntarget_affine_4x4[3, 3] = 1.0\nimg_3d_affine = resample_img(\n    img, target_affine=target_affine_3x3, copy_header=True\n)\nimg_4d_affine = resample_img(\n    img, target_affine=target_affine_4x4, copy_header=True\n)\ntarget_affine_mm_space_offset_changed = np.eye(4)\ntarget_affine_mm_space_offset_changed[:3, 3] = img_3d_affine.affine[:3, 3]\n\nimg_3d_affine_in_mm_space = resample_img(\n    img_3d_affine,\n    target_affine=target_affine_mm_space_offset_changed,\n    target_shape=(np.array(img_3d_affine.shape) * 2).astype(int),\n    copy_header=True,\n)\n\nimg_4d_affine_in_mm_space = resample_img(\n    img_4d_affine,\n    target_affine=np.eye(4),\n    target_shape=(np.array(img_4d_affine.shape) * 2).astype(int),\n    copy_header=True,\n)"
      ]
    },
    {
      "cell_type": "markdown",
      "metadata": {},
      "source": [
        "Finally, visualize\n\n"
      ]
    },
    {
      "cell_type": "code",
      "execution_count": null,
      "metadata": {
        "collapsed": false
      },
      "outputs": [],
      "source": [
        "import matplotlib.pyplot as plt\n\nplt.figure()\nplt.imshow(image, interpolation=\"nearest\", vmin=0, vmax=vmax)\nplt.title(\"The original data in voxel space\")\n\nplt.figure()\nplt.imshow(get_data(img_in_mm_space)[:, :, 0], vmin=0, vmax=vmax)\nplt.title(\"The original data in mm space\")\n\nplt.figure()\nplt.imshow(get_data(img_3d_affine_in_mm_space)[:, :, 0], vmin=0, vmax=vmax)\nplt.title(\n    \"Transformed using a 3x3 affine -\\n leads to re-estimation of bounding box\"\n)\n\nplt.figure()\nplt.imshow(get_data(img_4d_affine_in_mm_space)[:, :, 0], vmin=0, vmax=vmax)\nplt.title(\n    \"Transformed using a 4x4 affine -\\n Uses affine anchor \"\n    \"and estimates bounding box size\"\n)\n\nshow()"
      ]
    }
  ],
  "metadata": {
    "kernelspec": {
      "display_name": "Python 3",
      "language": "python",
      "name": "python3"
    },
    "language_info": {
      "codemirror_mode": {
        "name": "ipython",
        "version": 3
      },
      "file_extension": ".py",
      "mimetype": "text/x-python",
      "name": "python",
      "nbconvert_exporter": "python",
      "pygments_lexer": "ipython3",
      "version": "3.10.18"
    }
  },
  "nbformat": 4,
  "nbformat_minor": 0
}