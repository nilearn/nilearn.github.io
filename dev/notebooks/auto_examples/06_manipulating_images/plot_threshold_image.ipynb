{
  "cells": [
    {
      "cell_type": "markdown",
      "metadata": {},
      "source": [
        "\n# Image thresholding\n\nThe goal of this example is to illustrate the use of the function\n:func:`~nilearn.image.threshold_img` together with ``threshold`` and\n``two_sided`` parameters to view certain values in image data.\n\nThe ``threshold`` parameter can take both positive and negative values.\n``two_sided`` parameter is complementary to ``threshold`` effecting its\nbehavior.\n"
      ]
    },
    {
      "cell_type": "markdown",
      "metadata": {},
      "source": [
        "## Image without threshold\n\nWe will first load the dataset and display the image without manipulation.\n\n"
      ]
    },
    {
      "cell_type": "code",
      "execution_count": null,
      "metadata": {
        "collapsed": false
      },
      "outputs": [],
      "source": [
        "from nilearn import datasets\nfrom nilearn.plotting import plot_stat_map\n\nimage = datasets.load_sample_motor_activation_image()\n\nplot_param = {\n    \"display_mode\": \"ortho\",\n    \"cut_coords\": [5, -26, 21],\n    \"draw_cross\": False,\n}\n\nplot_stat_map(image, title=\"image without threshold\", **plot_param)"
      ]
    },
    {
      "cell_type": "markdown",
      "metadata": {},
      "source": [
        "## Image thresholded at 2 when two_sided=True\n\nNow we will use ``threshold=2`` together with ``two_sided=True``\nto threshold the image.\nWhen ``two_sided=True``,\nwe can only use positive values for ``threshold``.\n\nThis will set all image values between -2 and 2 to 0.\n\n<div class=\"alert alert-info\"><h4>Note</h4><p>You can get a similar result by passing threshold\n  directly when plotting.\n  In this case the colorbar will adapt to show\n  which part of the image was masked.</p></div>\n\n\n"
      ]
    },
    {
      "cell_type": "code",
      "execution_count": null,
      "metadata": {
        "collapsed": false
      },
      "outputs": [],
      "source": [
        "import matplotlib.pyplot as plt\n\nfrom nilearn.image import threshold_img\n\nthresholded_img = threshold_img(\n    image,\n    threshold=2,\n    cluster_threshold=0,\n    two_sided=True,\n    copy=True,\n    copy_header=True,\n)\n\nfigure_width = 8\n\nfig, axes = plt.subplots(\n    3,\n    1,\n    figsize=(figure_width, 13),\n)\n\nplot_stat_map(\n    image, title=\"image without threshold\", axes=axes[0], **plot_param\n)\n\nplot_stat_map(\n    thresholded_img,\n    title=\"image thresholded at 2 before plotting with two_sided=True\",\n    axes=axes[1],\n    **plot_param,\n)\n\nplot_stat_map(\n    image,\n    title=\"image thresholded during plotting\",\n    threshold=2,\n    axes=axes[2],\n    **plot_param,\n)"
      ]
    },
    {
      "cell_type": "markdown",
      "metadata": {},
      "source": [
        "## Image thresholded at 2 when two_sided=False\n\nNow we will use ``threshold=2`` together with ``two_sided=False``\nto see the effect.\n\nThis will set all image values below 2 to 0.\n\n"
      ]
    },
    {
      "cell_type": "code",
      "execution_count": null,
      "metadata": {
        "collapsed": false
      },
      "outputs": [],
      "source": [
        "thresholded_img = threshold_img(\n    image,\n    threshold=2,\n    cluster_threshold=0,\n    two_sided=False,\n    copy=True,\n    copy_header=True,\n)\n\n\nfig, axes = plt.subplots(\n    2,\n    1,\n    figsize=(figure_width, 8),\n)\n\n\nplot_stat_map(\n    image, title=\"image without threshold\", axes=axes[0], **plot_param\n)\n\nplot_stat_map(\n    thresholded_img,\n    cmap=\"Reds\",\n    title=\"image thresholded at 2 with two_sided=False\",\n    axes=axes[1],\n    **plot_param,\n)"
      ]
    },
    {
      "cell_type": "markdown",
      "metadata": {},
      "source": [
        "## Image thresholded at -2 when two_sided=False\n\nNow we will use ``threshold=-2`` together with ``two_sided=False`` to\nsee the effect.\n\nThis will set all image values above -2 to 0.\n\n"
      ]
    },
    {
      "cell_type": "code",
      "execution_count": null,
      "metadata": {
        "collapsed": false
      },
      "outputs": [],
      "source": [
        "thresholded_img = threshold_img(\n    image,\n    threshold=-2,\n    cluster_threshold=0,\n    two_sided=False,\n    copy=True,\n    copy_header=True,\n)\n\n\nfig, axes = plt.subplots(\n    2,\n    1,\n    figsize=(figure_width, 8),\n)\n\nplot_stat_map(\n    image, title=\"image without threshold\", axes=axes[0], **plot_param\n)\n\nplot_stat_map(\n    thresholded_img,\n    cmap=\"Blues_r\",\n    title=\"image thresholded at -2 with two_sided=False\",\n    axes=axes[1],\n    **plot_param,\n)"
      ]
    }
  ],
  "metadata": {
    "kernelspec": {
      "display_name": "Python 3",
      "language": "python",
      "name": "python3"
    },
    "language_info": {
      "codemirror_mode": {
        "name": "ipython",
        "version": 3
      },
      "file_extension": ".py",
      "mimetype": "text/x-python",
      "name": "python",
      "nbconvert_exporter": "python",
      "pygments_lexer": "ipython3",
      "version": "3.9.22"
    }
  },
  "nbformat": 4,
  "nbformat_minor": 0
}