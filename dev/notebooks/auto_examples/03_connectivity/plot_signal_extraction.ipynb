{
  "cells": [
    {
      "cell_type": "markdown",
      "metadata": {},
      "source": [
        "\n# Extracting signals from a brain parcellation\n\nHere we show how to extract signals from a brain :term:`parcellation`\nand compute a correlation matrix.\n\nWe also show the importance of defining good confounds signals: the\nfirst correlation matrix is computed after regressing out simple\nconfounds signals: movement regressors, white matter and CSF signals, ...\nThe second one is without any confounds: all regions are connected to each\nother. Finally we demonstrated the functionality of\n:func:`~nilearn.interfaces.fmriprep.load_confounds` to flexibly select confound\nvariables from :term:`fMRIPrep` outputs while following some implementation\nguideline of :term:`fMRIPrep` confounds documentation\n[](https://fmriprep.org/en/stable/outputs.html#confounds).\n\nOne reference that discusses the importance of confounds\nis :footcite:t:`Varoquaux2013`.\n\nThis is just a code example, see the `corresponding section in the\ndocumentation <parcellation_time_series>` for more.\n\n.. include:: ../../../examples/masker_note.rst\n"
      ]
    },
    {
      "cell_type": "markdown",
      "metadata": {},
      "source": [
        "## Retrieve the atlas and the data\n\n"
      ]
    },
    {
      "cell_type": "code",
      "execution_count": null,
      "metadata": {
        "collapsed": false
      },
      "outputs": [],
      "source": [
        "from nilearn.datasets import fetch_atlas_harvard_oxford, fetch_development_fmri\n\ndataset = fetch_atlas_harvard_oxford(\"cort-maxprob-thr25-2mm\")\natlas_filename = dataset.maps\nlabels = dataset.labels\nlook_up_table = dataset.lut\n\nprint(f\"Atlas ROIs are located in nifti image (4D) at: {atlas_filename}\")\n\n# One subject of brain development fMRI data\ndata = fetch_development_fmri(n_subjects=1, reduce_confounds=True)\nfmri_filenames = data.func[0]\nreduced_confounds = data.confounds[0]  # This is a preselected set of confounds"
      ]
    },
    {
      "cell_type": "markdown",
      "metadata": {},
      "source": [
        "## Extract signals on a :term:`parcellation` defined by labels\nUsing the NiftiLabelsMasker\n\n"
      ]
    },
    {
      "cell_type": "code",
      "execution_count": null,
      "metadata": {
        "collapsed": false
      },
      "outputs": [],
      "source": [
        "from nilearn.maskers import NiftiLabelsMasker\n\nmasker = NiftiLabelsMasker(\n    labels_img=atlas_filename,\n    lut=look_up_table,\n    standardize=\"zscore_sample\",\n    standardize_confounds=True,\n    memory=\"nilearn_cache\",\n    verbose=1,\n)\n\n# Here we go from nifti files to the signal time series in a numpy\n# array. Note how we give confounds to be regressed out during signal\n# extraction\ntime_series = masker.fit_transform(fmri_filenames, confounds=reduced_confounds)"
      ]
    },
    {
      "cell_type": "markdown",
      "metadata": {},
      "source": [
        "## Compute and display a correlation matrix\n\n"
      ]
    },
    {
      "cell_type": "code",
      "execution_count": null,
      "metadata": {
        "collapsed": false
      },
      "outputs": [],
      "source": [
        "from nilearn.connectome import ConnectivityMeasure\n\ncorrelation_measure = ConnectivityMeasure(\n    kind=\"correlation\",\n    standardize=\"zscore_sample\",\n)\ncorrelation_matrix = correlation_measure.fit_transform([time_series])[0]\n\n# Plot the correlation matrix\nimport numpy as np\n\nfrom nilearn.plotting import plot_matrix, show\n\n# Make a large figure\n# Mask the main diagonal for visualization:\nnp.fill_diagonal(correlation_matrix, 0)\n# The labels we have start with the background (0), hence we skip the\n# first label\n# matrices are ordered for block-like representation\nplot_matrix(\n    correlation_matrix,\n    figure=(10, 8),\n    labels=labels[1:],\n    vmax=0.8,\n    vmin=-0.8,\n    title=\"Confounds\",\n    reorder=True,\n)"
      ]
    },
    {
      "cell_type": "markdown",
      "metadata": {},
      "source": [
        "## Extract signals and compute a connectivity matrix without confounds removal\nAfter covering the basic of signal extraction and functional connectivity\nmatrix presentation, let's look into the impact of confounds to :term:`fMRI`\nsignal and functional connectivity. Firstly let's find out what a functional\nconnectivity matrix looks like without confound removal.\n\n"
      ]
    },
    {
      "cell_type": "code",
      "execution_count": null,
      "metadata": {
        "collapsed": false
      },
      "outputs": [],
      "source": [
        "time_series = masker.fit_transform(fmri_filenames)\n# Note how we did not specify confounds above. This is bad!\n\ncorrelation_matrix = correlation_measure.fit_transform([time_series])[0]\n\nnp.fill_diagonal(correlation_matrix, 0)\n\nplot_matrix(\n    correlation_matrix,\n    figure=(10, 8),\n    labels=labels[1:],\n    vmax=0.8,\n    vmin=-0.8,\n    title=\"No confounds\",\n    reorder=True,\n)"
      ]
    },
    {
      "cell_type": "markdown",
      "metadata": {},
      "source": [
        "## Load confounds from file using a flexible strategy with fmriprep interface\nThe :func:`~nilearn.interfaces.fmriprep.load_confounds` function provides\nflexible  parameters to retrieve the relevant columns from the TSV file\ngenerated by :term:`fMRIPrep`.\n:func:`~nilearn.interfaces.fmriprep.load_confounds` ensures two things:\n\n1. The correct regressors are selected with provided strategy, and\n\n2. Volumes such as non-steady-state and/or high motion volumes are masked\n   out correctly.\n\nLet's try a simple strategy removing motion, white matter signal,\ncerebrospinal fluid signal with high-pass filtering.\n\n"
      ]
    },
    {
      "cell_type": "code",
      "execution_count": null,
      "metadata": {
        "collapsed": false
      },
      "outputs": [],
      "source": [
        "from nilearn.interfaces.fmriprep import load_confounds\n\nconfounds_simple, sample_mask = load_confounds(\n    fmri_filenames,\n    strategy=[\"high_pass\", \"motion\", \"wm_csf\"],\n    motion=\"basic\",\n    wm_csf=\"basic\",\n)\n\nprint(\"The shape of the confounds matrix is:\", confounds_simple.shape)\nprint(confounds_simple.columns)\n\ntime_series = masker.fit_transform(\n    fmri_filenames, confounds=confounds_simple, sample_mask=sample_mask\n)\n\ncorrelation_matrix = correlation_measure.fit_transform([time_series])[0]\n\nnp.fill_diagonal(correlation_matrix, 0)\n\nplot_matrix(\n    correlation_matrix,\n    figure=(10, 8),\n    labels=labels[1:],\n    vmax=0.8,\n    vmin=-0.8,\n    title=\"Motion, WM, CSF\",\n    reorder=True,\n)"
      ]
    },
    {
      "cell_type": "markdown",
      "metadata": {},
      "source": [
        "## Motion-based scrubbing\nWith a scrubbing-based strategy,\n:func:`~nilearn.interfaces.fmriprep.load_confounds` returns a `sample_mask`\nthat removes the index of volumes exceeding the framewise displacement and\nstandardized DVARS threshold, and all the continuous segment with less than\nfive volumes. Before applying scrubbing, it's important to access the\npercentage of volumns scrubbed. Scrubbing is not a suitable strategy for\ndatasets with too many high motion subjects.\nOn top of the simple strategy above, let's add scrubbing to our\nstrategy.\n\n"
      ]
    },
    {
      "cell_type": "code",
      "execution_count": null,
      "metadata": {
        "collapsed": false
      },
      "outputs": [],
      "source": [
        "confounds_scrub, sample_mask = load_confounds(\n    fmri_filenames,\n    strategy=[\"high_pass\", \"motion\", \"wm_csf\", \"scrub\"],\n    motion=\"basic\",\n    wm_csf=\"basic\",\n)\n\nprint(\n    f\"After scrubbing, {sample_mask.shape[0]} \"\n    f\"out of {confounds_scrub.shape[0]} volumes remains\"\n)\nprint(\"The shape of the confounds matrix is:\", confounds_simple.shape)\nprint(confounds_scrub.columns)\n\ntime_series = masker.fit_transform(\n    fmri_filenames, confounds=confounds_scrub, sample_mask=sample_mask\n)\n\ncorrelation_matrix = correlation_measure.fit_transform([time_series])[0]\n\nnp.fill_diagonal(correlation_matrix, 0)\n\nplot_matrix(\n    correlation_matrix,\n    figure=(10, 8),\n    labels=labels[1:],\n    vmax=0.8,\n    vmin=-0.8,\n    title=\"Motion, WM, CSF, Scrubbing\",\n    reorder=True,\n)"
      ]
    },
    {
      "cell_type": "markdown",
      "metadata": {},
      "source": [
        "## The impact of global signal removal\nGlobal signal removes the grand mean from your signal. The benefit is that\nit can remove impacts of physiological artifacts with minimal impact on the\ndegrees of freedom. The downside is that one cannot get insight into variance\nexplained by certain sources of noise. Now let's add global signal to the\nsimple strategy and see its impact.\n\n"
      ]
    },
    {
      "cell_type": "code",
      "execution_count": null,
      "metadata": {
        "collapsed": false
      },
      "outputs": [],
      "source": [
        "confounds_minimal_no_gsr, sample_mask = load_confounds(\n    fmri_filenames,\n    strategy=[\"high_pass\", \"motion\", \"wm_csf\", \"global_signal\"],\n    motion=\"basic\",\n    wm_csf=\"basic\",\n    global_signal=\"basic\",\n)\nprint(\"The shape of the confounds matrix is:\", confounds_minimal_no_gsr.shape)\nprint(confounds_minimal_no_gsr.columns)\n\ntime_series = masker.fit_transform(\n    fmri_filenames, confounds=confounds_minimal_no_gsr, sample_mask=sample_mask\n)\n\ncorrelation_matrix = correlation_measure.fit_transform([time_series])[0]\n\nnp.fill_diagonal(correlation_matrix, 0)\n\nplot_matrix(\n    correlation_matrix,\n    figure=(10, 8),\n    labels=labels[1:],\n    vmax=0.8,\n    vmin=-0.8,\n    title=\"Motion, WM, CSF, GSR\",\n    reorder=True,\n)"
      ]
    },
    {
      "cell_type": "markdown",
      "metadata": {},
      "source": [
        "## Using predefined strategies\nInstead of customizing the strategy through\n:func:`~nilearn.interfaces.fmriprep.load_confounds`, one can use a predefined\nstrategy with :func:`~nilearn.interfaces.fmriprep.load_confounds_strategy`.\nBased on the confound variables generated through :term:`fMRIPrep`, and past\nbenchmarks studies (:footcite:t:`Ciric2017`, :footcite:t:`Parker2018`):\n`simple`, `scrubbing`, `compcor`, `ica_aroma`.\nThe following examples shows how to use the `simple` strategy and overwrite\nthe motion default to basic.\n\n"
      ]
    },
    {
      "cell_type": "code",
      "execution_count": null,
      "metadata": {
        "collapsed": false
      },
      "outputs": [],
      "source": [
        "from nilearn.interfaces.fmriprep import load_confounds_strategy\n\n# use default parameters\nconfounds, sample_mask = load_confounds_strategy(\n    fmri_filenames, denoise_strategy=\"simple\", motion=\"basic\"\n)\ntime_series = masker.fit_transform(\n    fmri_filenames, confounds=confounds, sample_mask=sample_mask\n)\n\ncorrelation_matrix = correlation_measure.fit_transform([time_series])[0]\n\nnp.fill_diagonal(correlation_matrix, 0)\n\nplot_matrix(\n    correlation_matrix,\n    figure=(10, 8),\n    labels=labels[1:],\n    vmax=0.8,\n    vmin=-0.8,\n    title=\"simple\",\n    reorder=True,\n)\n\n# add optional parameter global signal\nconfounds, sample_mask = load_confounds_strategy(\n    fmri_filenames,\n    denoise_strategy=\"simple\",\n    motion=\"basic\",\n    global_signal=\"basic\",\n)\ntime_series = masker.fit_transform(\n    fmri_filenames, confounds=confounds, sample_mask=sample_mask\n)\n\ncorrelation_matrix = correlation_measure.fit_transform([time_series])[0]\n\nnp.fill_diagonal(correlation_matrix, 0)\n\nplot_matrix(\n    correlation_matrix,\n    figure=(10, 8),\n    labels=labels[1:],\n    vmax=0.8,\n    vmin=-0.8,\n    title=\"simple with global signal\",\n    reorder=True,\n)\n\nshow()"
      ]
    },
    {
      "cell_type": "markdown",
      "metadata": {},
      "source": [
        "## References\n\n.. footbibliography::\n\n"
      ]
    }
  ],
  "metadata": {
    "kernelspec": {
      "display_name": "Python 3",
      "language": "python",
      "name": "python3"
    },
    "language_info": {
      "codemirror_mode": {
        "name": "ipython",
        "version": 3
      },
      "file_extension": ".py",
      "mimetype": "text/x-python",
      "name": "python",
      "nbconvert_exporter": "python",
      "pygments_lexer": "ipython3",
      "version": "3.10.18"
    }
  },
  "nbformat": 4,
  "nbformat_minor": 0
}