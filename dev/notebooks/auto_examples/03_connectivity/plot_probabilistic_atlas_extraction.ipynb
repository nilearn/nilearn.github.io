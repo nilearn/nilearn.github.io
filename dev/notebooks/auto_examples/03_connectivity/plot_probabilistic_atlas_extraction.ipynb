{
  "cells": [
    {
      "cell_type": "markdown",
      "metadata": {},
      "source": [
        "\n# Extracting signals of a probabilistic atlas of functional regions\n\nThis example extracts the signal on regions defined via a probabilistic\natlas, to construct a functional connectome.\n\nWe use the [MSDL atlas](https://team.inria.fr/parietal/research/spatial_patterns/spatial-patterns-in-resting-state/)\nof functional regions in movie-watching.\n\nThe key to extract signals is to use the\n:class:`~nilearn.maskers.NiftiMapsMasker` that can transform nifti\nobjects to time series using a probabilistic atlas.\n\nAs the MSDL atlas comes with (x, y, z) :term:`MNI` coordinates for the\ndifferent regions, we can visualize the matrix as a graph of\ninteraction in a brain. To avoid having too dense a graph, we represent\nonly the 20% edges with the highest values.\n\n.. include:: ../../../examples/masker_note.rst\n"
      ]
    },
    {
      "cell_type": "markdown",
      "metadata": {},
      "source": [
        "## Retrieve the atlas and the data\n\n"
      ]
    },
    {
      "cell_type": "code",
      "execution_count": null,
      "metadata": {
        "collapsed": false
      },
      "outputs": [],
      "source": [
        "from nilearn.datasets import fetch_atlas_msdl, fetch_development_fmri\n\natlas = fetch_atlas_msdl()\n# Loading atlas image stored in 'maps'\natlas_filename = atlas[\"maps\"]\n# Loading atlas data stored in 'labels'\nlabels = atlas[\"labels\"]\n\n# Load the functional datasets\ndata = fetch_development_fmri(n_subjects=1)\n\nprint(\n    \"First subject resting-state nifti image (4D) is located \"\n    f\"at: {data.func[0]}\"\n)"
      ]
    },
    {
      "cell_type": "markdown",
      "metadata": {},
      "source": [
        "## Extract the time series\n\n"
      ]
    },
    {
      "cell_type": "code",
      "execution_count": null,
      "metadata": {
        "collapsed": false
      },
      "outputs": [],
      "source": [
        "from nilearn.maskers import NiftiMapsMasker\n\nmasker = NiftiMapsMasker(\n    maps_img=atlas_filename,\n    standardize=\"zscore_sample\",\n    standardize_confounds=True,\n    memory=\"nilearn_cache\",\n    verbose=5,\n)\ntime_series = masker.fit_transform(data.func[0], confounds=data.confounds)"
      ]
    },
    {
      "cell_type": "markdown",
      "metadata": {},
      "source": [
        "We can generate an HTML report and visualize the components of the\n:class:`~nilearn.maskers.NiftiMapsMasker`.\nYou can pass the indices of the spatial maps you want to include in the\nreport in the order you want them to appear.\nHere, we only include maps 2, 6, 7, 16, and 21 in the report:\n\n"
      ]
    },
    {
      "cell_type": "code",
      "execution_count": null,
      "metadata": {
        "collapsed": false
      },
      "outputs": [],
      "source": [
        "report = masker.generate_report(displayed_maps=[2, 6, 7, 16, 21])\nreport"
      ]
    },
    {
      "cell_type": "markdown",
      "metadata": {},
      "source": [
        "`time_series` is now a 2D matrix, of shape (number of time points x\nnumber of regions)\n\n"
      ]
    },
    {
      "cell_type": "code",
      "execution_count": null,
      "metadata": {
        "collapsed": false
      },
      "outputs": [],
      "source": [
        "print(time_series.shape)"
      ]
    },
    {
      "cell_type": "markdown",
      "metadata": {},
      "source": [
        "## Build and display a correlation matrix\n\n"
      ]
    },
    {
      "cell_type": "code",
      "execution_count": null,
      "metadata": {
        "collapsed": false
      },
      "outputs": [],
      "source": [
        "from nilearn.connectome import ConnectivityMeasure\n\ncorrelation_measure = ConnectivityMeasure(\n    kind=\"correlation\",\n    standardize=\"zscore_sample\",\n)\ncorrelation_matrix = correlation_measure.fit_transform([time_series])[0]\n\n# Display the correlation matrix\nimport numpy as np\n\nfrom nilearn.plotting import plot_connectome, plot_matrix, show\n\n# Mask out the major diagonal\nnp.fill_diagonal(correlation_matrix, 0)\nplot_matrix(correlation_matrix, labels=labels, vmax=0.8, vmin=-0.8)"
      ]
    },
    {
      "cell_type": "markdown",
      "metadata": {},
      "source": [
        "## And now display the corresponding graph\n\n"
      ]
    },
    {
      "cell_type": "code",
      "execution_count": null,
      "metadata": {
        "collapsed": false
      },
      "outputs": [],
      "source": [
        "coords = atlas.region_coords\n\n# We threshold to keep only the 20% of edges with the highest value\n# because the graph is very dense\nplot_connectome(correlation_matrix, coords, edge_threshold=\"80%\")\n\nshow()"
      ]
    },
    {
      "cell_type": "markdown",
      "metadata": {},
      "source": [
        "## 3D visualization in a web browser\nAn alternative to :func:`~nilearn.plotting.plot_connectome` is to use\n:func:`~nilearn.plotting.view_connectome` that gives more interactive\nvisualizations in a web browser. See `interactive-connectome-plotting`\nfor more details.\n\n"
      ]
    },
    {
      "cell_type": "code",
      "execution_count": null,
      "metadata": {
        "collapsed": false
      },
      "outputs": [],
      "source": [
        "from nilearn.plotting import view_connectome\n\nview = view_connectome(correlation_matrix, coords, edge_threshold=\"80%\")\n\n# In a Jupyter notebook, if ``view`` is the output of a cell, it will\n# be displayed below the cell\nview"
      ]
    },
    {
      "cell_type": "code",
      "execution_count": null,
      "metadata": {
        "collapsed": false
      },
      "outputs": [],
      "source": [
        "# uncomment this to open the plot in a web browser:\n# view.open_in_browser()"
      ]
    }
  ],
  "metadata": {
    "kernelspec": {
      "display_name": "Python 3",
      "language": "python",
      "name": "python3"
    },
    "language_info": {
      "codemirror_mode": {
        "name": "ipython",
        "version": 3
      },
      "file_extension": ".py",
      "mimetype": "text/x-python",
      "name": "python",
      "nbconvert_exporter": "python",
      "pygments_lexer": "ipython3",
      "version": "3.9.23"
    }
  },
  "nbformat": 4,
  "nbformat_minor": 0
}