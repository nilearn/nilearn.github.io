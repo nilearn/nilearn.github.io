{
  "cells": [
    {
      "cell_type": "markdown",
      "metadata": {},
      "source": [
        "\n# Glass brain plotting in nilearn (all options)\n\nThe first part of this example goes through different options of the\n:func:`~nilearn.plotting.plot_glass_brain` function (including plotting\nnegative values).\n\nThe second part goes through same options but selected of the same glass brain\nfunction but plotting is seen with contours.\n\nSee `plotting` for more plotting functionalities and\n`Section 4.3 <display_modules>` for more details about display objects\nin Nilearn.\n\nAlso, see :func:`~nilearn.datasets.fetch_neurovault_motor_task` for details\nabout the plotting data and associated meta-data.\n"
      ]
    },
    {
      "cell_type": "markdown",
      "metadata": {},
      "source": [
        "## Load the data\n\nWe will use a motor activation :term:`contrast` map distributed with Nilearn.\n\n"
      ]
    },
    {
      "cell_type": "code",
      "execution_count": null,
      "metadata": {
        "collapsed": false
      },
      "outputs": [],
      "source": [
        "from nilearn import datasets\n\nstat_img = datasets.load_sample_motor_activation_image()\n\n# stat_img is just the name of the image file\nstat_img"
      ]
    },
    {
      "cell_type": "markdown",
      "metadata": {},
      "source": [
        "## Demo glass brain plotting\n\nBy default, :func:`~nilearn.plotting.plot_glass_brain` uses a display mode\ncalled 'ortho' which results in three projections. It is equivalent to\nspecify ``display_mode='ortho'`` in\n:func:`~nilearn.plotting.plot_glass_brain`. Note that depending on the\nvalue of ``display_mode``, different display objects are returned. Here,\na :class:`~nilearn.plotting.displays.OrthoProjector` is returned.\n\n"
      ]
    },
    {
      "cell_type": "code",
      "execution_count": null,
      "metadata": {
        "collapsed": false
      },
      "outputs": [],
      "source": [
        "from nilearn.plotting import plot_glass_brain, show\n\n# Whole brain sagittal cuts and map is thresholded at 3\n\nplot_glass_brain(stat_img, threshold=3)"
      ]
    },
    {
      "cell_type": "markdown",
      "metadata": {},
      "source": [
        "The same figure, with a colorbar,\ncan be produced by setting ``colorbar=True``.\n\n"
      ]
    },
    {
      "cell_type": "code",
      "execution_count": null,
      "metadata": {
        "collapsed": false
      },
      "outputs": [],
      "source": [
        "plot_glass_brain(stat_img, threshold=3, colorbar=True)"
      ]
    },
    {
      "cell_type": "markdown",
      "metadata": {},
      "source": [
        "Here, we show how to set a black background, and we only view sagittal and\naxial projections by setting ``display_mode='xz'``, which returns a\n:class:`~nilearn.plotting.displays.XZProjector`.\n\n"
      ]
    },
    {
      "cell_type": "code",
      "execution_count": null,
      "metadata": {
        "collapsed": false
      },
      "outputs": [],
      "source": [
        "plot_glass_brain(\n    stat_img,\n    title=\"plot_glass_brain\",\n    black_bg=True,\n    display_mode=\"xz\",\n    threshold=3,\n)"
      ]
    },
    {
      "cell_type": "markdown",
      "metadata": {},
      "source": [
        "We can also plot the sign of the activation by setting ``plot_abs=False``.\nAdditionally, we only visualize coronal and axial projections by setting\n``display_mode='yz'`` which returns a\n:class:`~nilearn.plotting.displays.YZProjector`.\n\n"
      ]
    },
    {
      "cell_type": "code",
      "execution_count": null,
      "metadata": {
        "collapsed": false
      },
      "outputs": [],
      "source": [
        "plot_glass_brain(\n    stat_img, threshold=0, colorbar=True, plot_abs=False, display_mode=\"yz\"\n)"
      ]
    },
    {
      "cell_type": "markdown",
      "metadata": {},
      "source": [
        "Setting ``plot_abs=True`` and ``display_mode='yx'`` (returns a\n:class:`~nilearn.plotting.displays.YXProjector`).\n\n"
      ]
    },
    {
      "cell_type": "code",
      "execution_count": null,
      "metadata": {
        "collapsed": false
      },
      "outputs": [],
      "source": [
        "plot_glass_brain(\n    stat_img, threshold=3, colorbar=True, plot_abs=True, display_mode=\"yx\"\n)"
      ]
    },
    {
      "cell_type": "markdown",
      "metadata": {},
      "source": [
        "We can control the limits of the colormap and colorbar by setting ``vmin``\nand ``vmax``.\nNote that we use a non-diverging colormap here\nsince the colorbar will not be centered around zero.\n\n"
      ]
    },
    {
      "cell_type": "code",
      "execution_count": null,
      "metadata": {
        "collapsed": false
      },
      "outputs": [],
      "source": [
        "# only plot positive values\nplot_glass_brain(\n    stat_img,\n    colorbar=True,\n    plot_abs=False,\n    display_mode=\"yz\",\n    vmin=0,\n    threshold=2,\n    symmetric_cbar=False,\n    cmap=\"inferno\",\n    title=\"only plot positive values\",\n)"
      ]
    },
    {
      "cell_type": "markdown",
      "metadata": {},
      "source": [
        "Here we set ``vmin`` to the threshold to use the full color range instead of\nlosing colors due to the thresholding.\n\n"
      ]
    },
    {
      "cell_type": "code",
      "execution_count": null,
      "metadata": {
        "collapsed": false
      },
      "outputs": [],
      "source": [
        "plot_glass_brain(\n    stat_img,\n    colorbar=True,\n    plot_abs=False,\n    display_mode=\"yz\",\n    vmin=2,\n    threshold=2,\n    symmetric_cbar=False,\n    cmap=\"inferno\",\n    title=\"vmin == threshold\",\n)"
      ]
    },
    {
      "cell_type": "markdown",
      "metadata": {},
      "source": [
        "## Different projections for the left and right hemispheres\n\nIn the previous section we saw a few projection modes, which are controlled\nby setting the argument ``display_mode`` of\n:func:`~nilearn.plotting.plot_glass_brain`. In this section, we will show\nsome additional possibilities. For example, setting ``display_mode='lzr'``\nenables an hemispheric sagittal view. The display object returned is then a\n:class:`~nilearn.plotting.displays.LZRProjector`.\n\n"
      ]
    },
    {
      "cell_type": "code",
      "execution_count": null,
      "metadata": {
        "collapsed": false
      },
      "outputs": [],
      "source": [
        "plot_glass_brain(\n    stat_img,\n    title='plot_glass_brain with display_mode=\"lzr\"',\n    black_bg=True,\n    display_mode=\"lzr\",\n    threshold=3,\n)"
      ]
    },
    {
      "cell_type": "markdown",
      "metadata": {},
      "source": [
        "``display_mode='lyrz'`` returns a\n:class:`~nilearn.plotting.displays.LYRZProjector` object.\n\n"
      ]
    },
    {
      "cell_type": "code",
      "execution_count": null,
      "metadata": {
        "collapsed": false
      },
      "outputs": [],
      "source": [
        "plot_glass_brain(\n    stat_img,\n    threshold=0,\n    colorbar=True,\n    title='plot_glass_brain with display_mode=\"lyrz\"',\n    plot_abs=False,\n    display_mode=\"lyrz\",\n)"
      ]
    },
    {
      "cell_type": "markdown",
      "metadata": {},
      "source": [
        "If you are only interested in single projections, you can set\n``display_mode`` to 'x' (returns a\n:class:`~nilearn.plotting.displays.XProjector`), 'y' (returns a\n:class:`~nilearn.plotting.displays.YProjector`), 'z' (returns a\n:class:`~nilearn.plotting.displays.ZProjector`), 'l' (returns a\n:class:`~nilearn.plotting.displays.LProjector`), or 'r' (returns a\n:class:`~nilearn.plotting.displays.RProjector`).\n\n"
      ]
    },
    {
      "cell_type": "code",
      "execution_count": null,
      "metadata": {
        "collapsed": false
      },
      "outputs": [],
      "source": [
        "plot_glass_brain(\n    stat_img,\n    threshold=0,\n    colorbar=True,\n    title='display_mode=\"x\"',\n    plot_abs=True,\n    display_mode=\"x\",\n)"
      ]
    },
    {
      "cell_type": "markdown",
      "metadata": {},
      "source": [
        "## Demo glass brain plotting with contours and with fillings\n\nThe display objects returned by :func:`~nilearn.plotting.plot_glass_brain`\nall inherit from the :class:`~nilearn.plotting.displays.OrthoProjector`\nand enable further customization of the figures.\n\nIn this example, we focus on using methods\n:meth:`~nilearn.plotting.displays.OrthoProjector.add_contours` and\n:meth:`~nilearn.plotting.displays.OrthoProjector.title`. First, we\nsave the display object (here a\n:class:`~nilearn.plotting.displays.LZRYProjector`) into a variable named\n``display``. Note that we set the first argument to ``None`` since we\nwant an empty glass brain to plot the statistical maps with\n:meth:`~nilearn.plotting.displays.OrthoProjector.add_contours`.\n\n"
      ]
    },
    {
      "cell_type": "code",
      "execution_count": null,
      "metadata": {
        "collapsed": false
      },
      "outputs": [],
      "source": [
        "display = plot_glass_brain(None, display_mode=\"lzry\")\n# Here, we project statistical maps\ndisplay.add_contours(stat_img)\n# and add a title\ndisplay.title('\"stat_img\" on glass brain without threshold')"
      ]
    },
    {
      "cell_type": "markdown",
      "metadata": {},
      "source": [
        "We can fill the contours by setting ``filled=True``. Note that we are not\nspecifying levels here\n\n"
      ]
    },
    {
      "cell_type": "code",
      "execution_count": null,
      "metadata": {
        "collapsed": false
      },
      "outputs": [],
      "source": [
        "display = plot_glass_brain(None, display_mode=\"lzry\")\n# Here, we project statistical maps with filled=True\ndisplay.add_contours(stat_img, filled=True)\n# and add a title\ndisplay.title(\"Same map but with fillings in the contours\")"
      ]
    },
    {
      "cell_type": "markdown",
      "metadata": {},
      "source": [
        "Here, we input a specific level (cut-off) in the statistical map.\nIn other words, we are thresholding our statistical map.\n\nWe set the threshold using a parameter of method\n:meth:`~nilearn.plotting.displays.OrthoProjector.add_contours` called\n``levels`` which value is given as a list and we choose the color to be red.\n\n"
      ]
    },
    {
      "cell_type": "code",
      "execution_count": null,
      "metadata": {
        "collapsed": false
      },
      "outputs": [],
      "source": [
        "display = plot_glass_brain(None, display_mode=\"lzry\")\ndisplay.add_contours(stat_img, levels=[3.0], colors=\"r\")\ndisplay.title('\"stat_img\" on glass brain with threshold')"
      ]
    },
    {
      "cell_type": "markdown",
      "metadata": {},
      "source": [
        "Plotting with same demonstration but fill the contours (by setting\n``filled=True``).\n\n"
      ]
    },
    {
      "cell_type": "code",
      "execution_count": null,
      "metadata": {
        "collapsed": false
      },
      "outputs": [],
      "source": [
        "display = plot_glass_brain(None, display_mode=\"lzry\")\ndisplay.add_contours(stat_img, filled=True, levels=[3.0], colors=\"r\")\ndisplay.title(\"Same demonstration but using fillings inside contours\")"
      ]
    },
    {
      "cell_type": "markdown",
      "metadata": {},
      "source": [
        "Plotting with black background, ``black_bg`` should be set to ``True``\nthrough :func:`~nilearn.plotting.plot_glass_brain`.\n\n"
      ]
    },
    {
      "cell_type": "code",
      "execution_count": null,
      "metadata": {
        "collapsed": false
      },
      "outputs": [],
      "source": [
        "# We can set black background using black_bg=True\ndisplay = plot_glass_brain(None, black_bg=True)\ndisplay.add_contours(stat_img, levels=[3.0], colors=\"g\")\ndisplay.title('\"stat_img\" on glass brain with black background')"
      ]
    },
    {
      "cell_type": "markdown",
      "metadata": {},
      "source": [
        "Black background plotting with filled in contours.\n\n"
      ]
    },
    {
      "cell_type": "code",
      "execution_count": null,
      "metadata": {
        "collapsed": false
      },
      "outputs": [],
      "source": [
        "display = plot_glass_brain(None, black_bg=True)\ndisplay.add_contours(stat_img, filled=True, levels=[3.0], colors=\"g\")\ndisplay.title(\"Glass brain with black background and filled in contours\")"
      ]
    },
    {
      "cell_type": "markdown",
      "metadata": {},
      "source": [
        "## Display contour projections in both hemispheres\n\nThe key argument to vary here is ``display_mode`` for hemispheric plotting.\nHere, we set ``display_mode='lr'`` for both hemispheric plots. Note that a\n:class:`~nilearn.plotting.displays.LRProjector` is returned.\n\n"
      ]
    },
    {
      "cell_type": "code",
      "execution_count": null,
      "metadata": {
        "collapsed": false
      },
      "outputs": [],
      "source": [
        "display = plot_glass_brain(None, display_mode=\"lr\")\ndisplay.add_contours(stat_img, levels=[3.0], colors=\"r\")\ndisplay.title('\"stat_img\" on glass brain only\\n\"l\" \"r\" hemispheres')"
      ]
    },
    {
      "cell_type": "markdown",
      "metadata": {},
      "source": [
        "Filled contours in both hemispheric plotting, by adding ``filled=True``.\n\n"
      ]
    },
    {
      "cell_type": "code",
      "execution_count": null,
      "metadata": {
        "collapsed": false
      },
      "outputs": [],
      "source": [
        "display = plot_glass_brain(None, display_mode=\"lr\")\ndisplay.add_contours(stat_img, filled=True, levels=[3.0], colors=\"r\")\ndisplay.title('Filled contours on glass brain only\\n\"l\" \"r\" hemispheres')"
      ]
    },
    {
      "cell_type": "markdown",
      "metadata": {},
      "source": [
        "With positive and negative signs of activations with ``plot_abs`` in\n:func:`~nilearn.plotting.plot_glass_brain`.\n\nBy default parameter ``plot_abs`` is ``True`` and sign of activations\ncan be displayed by changing ``plot_abs`` to ``False``. Note that we also\nspecify ``display_mode='lyr'`` which returns a\n:class:`~nilearn.plotting.displays.LYRProjector` display object.\n\n"
      ]
    },
    {
      "cell_type": "code",
      "execution_count": null,
      "metadata": {
        "collapsed": false
      },
      "outputs": [],
      "source": [
        "display = plot_glass_brain(None, plot_abs=False, display_mode=\"lyr\")\ndisplay.add_contours(stat_img)\ndisplay.title(\"Contours with both sign of activations without threshold\")"
      ]
    },
    {
      "cell_type": "markdown",
      "metadata": {},
      "source": [
        "Now, adding ``filled=True`` to get positive and negative sign activations\nwith fillings in the contours.\n\n"
      ]
    },
    {
      "cell_type": "code",
      "execution_count": null,
      "metadata": {
        "collapsed": false
      },
      "outputs": [],
      "source": [
        "display = plot_glass_brain(None, plot_abs=False, display_mode=\"lyr\")\ndisplay.add_contours(stat_img, filled=True)\ndisplay.title(\n    \"Filled contours with both sign of activations without threshold\"\n)"
      ]
    },
    {
      "cell_type": "markdown",
      "metadata": {},
      "source": [
        "Displaying both signs (positive and negative) of activations with threshold\nmeaning thresholding by adding an argument ``levels`` in method\n:meth:`~nilearn.plotting.displays.OrthoProjector.add_contours`.\n\nWe give two values through the argument ``levels`` which corresponds to the\nthresholds of the contour we want to draw: One is positive and the other one\nis negative. We give a list of ``colors`` as argument to associate a\ndifferent color to each contour. Additionally, we also choose to plot\ncontours with thick line widths. For ``linewidths``, one value would be\nenough so that same value is used for both contours.\n\n"
      ]
    },
    {
      "cell_type": "code",
      "execution_count": null,
      "metadata": {
        "collapsed": false
      },
      "outputs": [],
      "source": [
        "import numpy as np\n\ndisplay = plot_glass_brain(None, plot_abs=False, display_mode=\"lzry\")\ndisplay.add_contours(\n    stat_img, levels=[-2.8, 3.0], colors=[\"b\", \"r\"], linewidths=4.0\n)\ndisplay.title(\"Contours with sign of activations with threshold\")"
      ]
    },
    {
      "cell_type": "markdown",
      "metadata": {},
      "source": [
        "Same display demonstration as above but adding ``filled=True`` to get\nfillings inside the contours.\n\nUnlike in previous plot, here we specify each sign at a time. We call\nnegative values display first followed by positive values display.\n\nFirst, we fetch our display object with same parameters used as above.\nThen, we plot negative sign of activation with levels given as negative\nactivation value in a list. Upper bound should be kept to -infinity.\nNext, using the same display object, we plot positive sign of activation.\n\n"
      ]
    },
    {
      "cell_type": "code",
      "execution_count": null,
      "metadata": {
        "collapsed": false
      },
      "outputs": [],
      "source": [
        "display = plot_glass_brain(None, plot_abs=False, display_mode=\"lzry\")\ndisplay.add_contours(stat_img, filled=True, levels=[-np.inf, -2.8], colors=\"b\")\ndisplay.add_contours(stat_img, filled=True, levels=[3.0], colors=\"r\")\ndisplay.title(\"Now same plotting but with filled contours\")\n# Finally, displaying them\nshow()"
      ]
    }
  ],
  "metadata": {
    "kernelspec": {
      "display_name": "Python 3",
      "language": "python",
      "name": "python3"
    },
    "language_info": {
      "codemirror_mode": {
        "name": "ipython",
        "version": 3
      },
      "file_extension": ".py",
      "mimetype": "text/x-python",
      "name": "python",
      "nbconvert_exporter": "python",
      "pygments_lexer": "ipython3",
      "version": "3.9.21"
    }
  },
  "nbformat": 4,
  "nbformat_minor": 0
}