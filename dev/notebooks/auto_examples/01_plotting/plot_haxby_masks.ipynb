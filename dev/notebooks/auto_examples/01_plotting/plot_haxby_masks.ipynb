{
  "cells": [
    {
      "cell_type": "markdown",
      "metadata": {},
      "source": [
        "\n# Plot Haxby masks\n\nSmall script to plot the masks of the Haxby dataset.\n"
      ]
    },
    {
      "cell_type": "markdown",
      "metadata": {},
      "source": [
        "## Load Haxby dataset\n\n"
      ]
    },
    {
      "cell_type": "code",
      "execution_count": null,
      "metadata": {
        "collapsed": false
      },
      "outputs": [],
      "source": [
        "from nilearn import datasets\nfrom nilearn.plotting import plot_anat, show\n\nhaxby_dataset = datasets.fetch_haxby()\n\n# print basic information on the dataset\nprint(\n    f\"First subject anatomical nifti image (3D) is at: {haxby_dataset.anat[0]}\"\n)\nprint(\n    f\"First subject functional nifti image (4D) is at: {haxby_dataset.func[0]}\"\n)\n\n# Build the mean image because we have no anatomic data\nfrom nilearn import image\n\nfunc_filename = haxby_dataset.func[0]\nmean_img = image.mean_img(func_filename, copy_header=True)\n\nz_slice = -14"
      ]
    },
    {
      "cell_type": "markdown",
      "metadata": {},
      "source": [
        "## Plot the masks\n\n"
      ]
    },
    {
      "cell_type": "code",
      "execution_count": null,
      "metadata": {
        "collapsed": false
      },
      "outputs": [],
      "source": [
        "import matplotlib.pyplot as plt\n\nfig = plt.figure(figsize=(4, 5.4), facecolor=\"k\")\n\ndisplay = plot_anat(\n    mean_img, display_mode=\"z\", cut_coords=[z_slice], figure=fig\n)\nmask_vt_filename = haxby_dataset.mask_vt[0]\nmask_house_filename = haxby_dataset.mask_house[0]\nmask_face_filename = haxby_dataset.mask_face[0]\nmasks = [mask_vt_filename, mask_house_filename, mask_face_filename]\ncolors = [\"red\", \"blue\", \"limegreen\"]\nfor mask, color in zip(masks, colors):\n    display.add_contours(\n        mask,\n        contours=1,\n        antialiased=False,\n        linewidth=4.0,\n        levels=[0],\n        colors=[color],\n    )\n\n# We generate a legend using the trick described on\n# https://matplotlib.org/2.0.2/users/legend_guide.html\nfrom matplotlib.patches import Rectangle\n\np_v = Rectangle((0, 0), 1, 1, fc=\"red\")\np_h = Rectangle((0, 0), 1, 1, fc=\"blue\")\np_f = Rectangle((0, 0), 1, 1, fc=\"limegreen\")\nplt.legend([p_v, p_h, p_f], [\"vt\", \"house\", \"face\"], loc=\"lower right\")\n\nshow()"
      ]
    }
  ],
  "metadata": {
    "kernelspec": {
      "display_name": "Python 3",
      "language": "python",
      "name": "python3"
    },
    "language_info": {
      "codemirror_mode": {
        "name": "ipython",
        "version": 3
      },
      "file_extension": ".py",
      "mimetype": "text/x-python",
      "name": "python",
      "nbconvert_exporter": "python",
      "pygments_lexer": "ipython3",
      "version": "3.9.21"
    }
  },
  "nbformat": 4,
  "nbformat_minor": 0
}