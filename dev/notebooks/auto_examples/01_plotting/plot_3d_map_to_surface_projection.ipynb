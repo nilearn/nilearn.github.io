{
  "cells": [
    {
      "cell_type": "markdown",
      "metadata": {},
      "source": [
        "\n# Making a surface plot of a 3D statistical map\n\nIn this example, we will project a 3D statistical map onto a cortical mesh\nusing :class:`~nilearn.surface.SurfaceImage`,\ndisplay a surface plot of the projected map\nusing :func:`~nilearn.plotting.plot_surf_stat_map`\nwith different plotting engines,\nand add contours of regions of interest using\n:func:`~nilearn.plotting.plot_surf_contours`.\n"
      ]
    },
    {
      "cell_type": "markdown",
      "metadata": {},
      "source": [
        "## Sample the 3D data around each node of the mesh\nYou can create a :obj:`~nilearn.surface.SurfaceImage` object\nfrom a nifti image by using the ``from_volume`` class method.\nthat will call indirectly :func:`~nilearn.surface.vol_to_surf`.\n\n"
      ]
    },
    {
      "cell_type": "markdown",
      "metadata": {},
      "source": [
        "Get a statistical map as nifti\n\n"
      ]
    },
    {
      "cell_type": "code",
      "execution_count": null,
      "metadata": {
        "collapsed": false
      },
      "outputs": [],
      "source": [
        "from nilearn.datasets import load_sample_motor_activation_image\n\nstat_img = load_sample_motor_activation_image()"
      ]
    },
    {
      "cell_type": "markdown",
      "metadata": {},
      "source": [
        "Get a cortical mesh\n\n"
      ]
    },
    {
      "cell_type": "code",
      "execution_count": null,
      "metadata": {
        "collapsed": false
      },
      "outputs": [],
      "source": [
        "from nilearn.datasets import load_fsaverage\n\nfsaverage_meshes = load_fsaverage()"
      ]
    },
    {
      "cell_type": "markdown",
      "metadata": {},
      "source": [
        "Construct a surface image from a volume.\n\n"
      ]
    },
    {
      "cell_type": "code",
      "execution_count": null,
      "metadata": {
        "collapsed": false
      },
      "outputs": [],
      "source": [
        "from nilearn.surface import SurfaceImage\n\nsurface_image = SurfaceImage.from_volume(\n    mesh=fsaverage_meshes[\"pial\"],\n    volume_img=stat_img,\n)"
      ]
    },
    {
      "cell_type": "markdown",
      "metadata": {},
      "source": [
        "Here, we load the curvature map\nto use as background map some plots.\nWe define a surface map whose value for a given :term:`vertex`\nis 1 if the curvature is positive,\n-1 if the curvature is negative.\n\n"
      ]
    },
    {
      "cell_type": "code",
      "execution_count": null,
      "metadata": {
        "collapsed": false
      },
      "outputs": [],
      "source": [
        "import numpy as np\n\nfrom nilearn.datasets import load_fsaverage_data\n\ncurv_sign = load_fsaverage_data(data_type=\"curvature\")\nfor hemi, data in curv_sign.data.parts.items():\n    curv_sign.data.parts[hemi] = np.sign(data)"
      ]
    },
    {
      "cell_type": "markdown",
      "metadata": {},
      "source": [
        "## Plot the surface image\nYou can visualize the surface image using the function\n:func:`~nilearn.plotting.plot_surf_stat_map` which uses ``matplotlib``\nas the default plotting engine.\n\n"
      ]
    },
    {
      "cell_type": "code",
      "execution_count": null,
      "metadata": {
        "collapsed": false
      },
      "outputs": [],
      "source": [
        "from nilearn.plotting import plot_surf_stat_map\n\n# In this example we will plot both hemispheres, but you can choose one of\n# \"left\", \"right\" or \"both\".\nhemi = \"both\"\n\nfig = plot_surf_stat_map(\n    stat_map=surface_image,\n    surf_mesh=fsaverage_meshes[\"inflated\"],\n    hemi=hemi,\n    title=\"Surface with matplotlib\",\n    threshold=1.0,\n    bg_map=curv_sign,\n    darkness=None,\n)\nfig.show()"
      ]
    },
    {
      "cell_type": "markdown",
      "metadata": {},
      "source": [
        "If you have a recent version of Nilearn (>=0.8.2),\nand if you have ``plotly`` installed,\nyou can easily configure :func:`~nilearn.plotting.plot_surf_stat_map`\nto use ``plotly`` instead of ``matplotlib``:\n\n"
      ]
    },
    {
      "cell_type": "code",
      "execution_count": null,
      "metadata": {
        "collapsed": false
      },
      "outputs": [],
      "source": [
        "engine = \"matplotlib\"\n\n# uncomment the following line if you use plotly\n# in the rest of this example\n\n# engine = \"plotly\"\n\nprint(f\"Using plotting engine {engine}.\")\n\nfigure = plot_surf_stat_map(\n    stat_map=surface_image,\n    surf_mesh=fsaverage_meshes[\"inflated\"],\n    hemi=hemi,\n    title=f\"Surface with {engine}\",\n    threshold=1.0,\n    bg_map=curv_sign,\n    bg_on_data=True,\n    engine=engine,  # Specify the plotting engine here\n    darkness=None,\n)\n\n# Uncomment the line below\n# to view the figure in browser.\nfigure.show()"
      ]
    },
    {
      "cell_type": "markdown",
      "metadata": {},
      "source": [
        "When using ``matplolib`` as the plotting engine, a standard\n:class:`matplotlib.figure.Figure` is returned.\nWith ``plotly`` as the plotting engine,\na custom :class:`~nilearn.plotting.displays.PlotlySurfaceFigure`\nis returned which provides a similar API\nto the :class:`~matplotlib.figure.Figure`.\nFor example, you can save a static version of the figure to file\n(this option requires to have ``kaleido`` installed):\n\n"
      ]
    },
    {
      "cell_type": "code",
      "execution_count": null,
      "metadata": {
        "collapsed": false
      },
      "outputs": [],
      "source": [
        "# Save the figure as we would do with a matplotlib figure.\n# Uncomment the following line to save the previous figure to file\n# fig.savefig(\"both_hemisphere.png\")"
      ]
    },
    {
      "cell_type": "markdown",
      "metadata": {},
      "source": [
        "## Plot 3D image for comparison\n\n"
      ]
    },
    {
      "cell_type": "code",
      "execution_count": null,
      "metadata": {
        "collapsed": false
      },
      "outputs": [],
      "source": [
        "from nilearn.plotting import plot_glass_brain, plot_stat_map, show\n\nplot_glass_brain(\n    stat_map_img=stat_img,\n    display_mode=\"r\",\n    plot_abs=False,\n    title=\"Glass brain\",\n    threshold=2.0,\n)\n\nplot_stat_map(\n    stat_map_img=stat_img,\n    display_mode=\"x\",\n    threshold=1.0,\n    cut_coords=range(0, 51, 10),\n    title=\"Slices\",\n)"
      ]
    },
    {
      "cell_type": "markdown",
      "metadata": {},
      "source": [
        "## Use an atlas and choose regions to outline\n\n"
      ]
    },
    {
      "cell_type": "code",
      "execution_count": null,
      "metadata": {
        "collapsed": false
      },
      "outputs": [],
      "source": [
        "from nilearn.datasets import fetch_atlas_surf_destrieux\n\nfsaverage = load_fsaverage(\"fsaverage5\")\ndestrieux = fetch_atlas_surf_destrieux()\ndestrieux_atlas = SurfaceImage(\n    mesh=fsaverage[\"inflated\"],\n    data={\n        \"left\": destrieux[\"map_left\"],\n        \"right\": destrieux[\"map_right\"],\n    },\n)\n\n# these are the regions we want to outline\nregions_dict = {\n    \"G_postcentral\": \"Postcentral gyrus\",\n    \"G_precentral\": \"Precentral gyrus\",\n}\n\n# get indices in atlas for these labels\nregions_indices = [\n    np.where(np.array(destrieux.labels) == region)[0][0]\n    for region in regions_dict\n]\n\nlabels = list(regions_dict.values())"
      ]
    },
    {
      "cell_type": "markdown",
      "metadata": {},
      "source": [
        "## Display outlines of the regions of interest on top of a statistical map\n\n"
      ]
    },
    {
      "cell_type": "code",
      "execution_count": null,
      "metadata": {
        "collapsed": false
      },
      "outputs": [],
      "source": [
        "from nilearn.plotting import plot_surf_contours\n\nfsaverage_sulcal = load_fsaverage_data(data_type=\"sulcal\", mesh_type=\"pial\")\n\nfigure = plot_surf_stat_map(\n    stat_map=surface_image,\n    surf_mesh=fsaverage_meshes[\"inflated\"],\n    hemi=hemi,\n    title=\"ROI outlines on surface\",\n    threshold=1.0,\n    bg_map=fsaverage_sulcal,\n    engine=engine,\n    darkness=None,\n)\nif engine == \"matplotlib\":\n    plot_surf_contours(\n        roi_map=destrieux_atlas,\n        hemi=hemi,\n        labels=labels,\n        levels=regions_indices,\n        figure=figure,\n        legend=True,\n        colors=[\"g\", \"k\"],\n    )\n    show()\nelif engine == \"plotly\":\n    figure.add_contours(\n        roi_map=destrieux_atlas,\n        levels=regions_indices,\n        labels=labels,\n        lines=[{\"width\": 5}],\n    )\n    # view the contours in a browser\n    figure.show()"
      ]
    },
    {
      "cell_type": "markdown",
      "metadata": {},
      "source": [
        "## Plot with higher-resolution mesh\n:func:`~nilearn.datasets.load_fsaverage`\nand :func:`~nilearn.datasets.load_fsaverage_data`\ntake a ``mesh`` argument\nwhich specifies whether to fetch\nthe low-resolution ``fsaverage5`` mesh,\nor another mesh\nlike the high-resolution fsaverage mesh.\nUsing ``mesh=\"fsaverage\"`` will result\nin more memory usage and computation time,\nbut finer visualizations.\n\n"
      ]
    },
    {
      "cell_type": "code",
      "execution_count": null,
      "metadata": {
        "collapsed": false
      },
      "outputs": [],
      "source": [
        "big_fsaverage_meshes = load_fsaverage(mesh=\"fsaverage\")\n\nbig_fsaverage_sulcal = load_fsaverage_data(\n    mesh=\"fsaverage\",\n    data_type=\"sulcal\",\n    mesh_type=\"inflated\",\n)\n\nbig_img = SurfaceImage.from_volume(\n    mesh=big_fsaverage_meshes[\"pial\"],\n    volume_img=stat_img,\n)\n\nplot_surf_stat_map(\n    stat_map=big_img,\n    surf_mesh=big_fsaverage_meshes[\"inflated\"],\n    hemi=hemi,\n    title=\"Surface fine mesh\",\n    threshold=1.0,\n    bg_map=big_fsaverage_sulcal,\n    darkness=None,\n)\nshow()"
      ]
    },
    {
      "cell_type": "markdown",
      "metadata": {},
      "source": [
        "## Plot multiple views of the 3D volume on a surface\n:func:`~nilearn.plotting.plot_img_on_surf`\ntakes a nifti statistical map\nand projects it onto a surface.\nIt supports multiple choices of orientations,\nand can plot either one or both hemispheres.\nIf no ``surf_mesh`` is given,\n:func:`~nilearn.plotting.plot_img_on_surf` projects the images onto\n[FreeSurfer](https://surfer.nmr.mgh.harvard.edu/)\\'s fsaverage5.\n\n"
      ]
    },
    {
      "cell_type": "code",
      "execution_count": null,
      "metadata": {
        "collapsed": false
      },
      "outputs": [],
      "source": [
        "from nilearn.plotting import plot_img_on_surf\n\nplot_img_on_surf(\n    stat_map=stat_img,\n    views=[\"lateral\", \"medial\"],\n    hemispheres=[\"left\", \"right\"],\n    title=\"multiple views of the 3D volume\",\n    bg_on_data=True,\n    darkness=None,\n    symmetric_cmap=None,\n)\nshow()"
      ]
    },
    {
      "cell_type": "markdown",
      "metadata": {},
      "source": [
        "## 3D visualization in a web browser\nAn alternative to :func:`~nilearn.plotting.plot_surf_stat_map` is to use\n:func:`~nilearn.plotting.view_surf` or\n:func:`~nilearn.plotting.view_img_on_surf` that give\nmore interactive visualizations in a web browser.\nSee `interactive-surface-plotting` for more details.\n\n"
      ]
    },
    {
      "cell_type": "code",
      "execution_count": null,
      "metadata": {
        "collapsed": false
      },
      "outputs": [],
      "source": [
        "from nilearn.plotting import view_surf\n\nview = view_surf(\n    surf_mesh=fsaverage_meshes[\"inflated\"],\n    surf_map=surface_image,\n    threshold=\"90%\",\n    bg_map=fsaverage_sulcal,\n    hemi=hemi,\n    title=\"3D visualization in a web browser\",\n    darkness=None,\n)\n\n# In a Jupyter notebook, if ``view`` is the output of a cell,\n# it will be displayed below the cell\nview\n# view.open_in_browser()\n\n# We don't need to do the projection ourselves, we can use\n# :func:`~nilearn.plotting.view_img_on_surf`:\nfrom nilearn.plotting import view_img_on_surf\n\nview = view_img_on_surf(stat_img, threshold=\"90%\", darkness=None)\n\nview\n# view.open_in_browser()"
      ]
    },
    {
      "cell_type": "markdown",
      "metadata": {},
      "source": [
        "## Impact of plot parameters on visualization\nYou can specify arguments to be passed on to the function\n:func:`~nilearn.surface.vol_to_surf` using `vol_to_surf_kwargs`\nThis allows fine-grained control of how the input 3D image\nis resampled and interpolated -\nfor example if you are viewing a volumetric atlas,\nyou would want to avoid averaging the labels between neighboring regions.\nUsing nearest-neighbor interpolation with zero radius will achieve this.\n\n"
      ]
    },
    {
      "cell_type": "code",
      "execution_count": null,
      "metadata": {
        "collapsed": false
      },
      "outputs": [],
      "source": [
        "from nilearn.datasets import fetch_atlas_destrieux_2009\n\ndestrieux = fetch_atlas_destrieux_2009()\n\nview = view_img_on_surf(\n    stat_map_img=destrieux.maps,\n    surf_mesh=\"fsaverage\",\n    cmap=\"tab20\",\n    vol_to_surf_kwargs={\n        \"n_samples\": 1,\n        \"radius\": 0.0,\n        \"interpolation\": \"nearest_most_frequent\",\n    },\n    symmetric_cmap=False,\n    colorbar=False,\n    darkness=None,\n)\n\nview\n# view.open_in_browser()"
      ]
    }
  ],
  "metadata": {
    "kernelspec": {
      "display_name": "Python 3",
      "language": "python",
      "name": "python3"
    },
    "language_info": {
      "codemirror_mode": {
        "name": "ipython",
        "version": 3
      },
      "file_extension": ".py",
      "mimetype": "text/x-python",
      "name": "python",
      "nbconvert_exporter": "python",
      "pygments_lexer": "ipython3",
      "version": "3.10.18"
    }
  },
  "nbformat": 4,
  "nbformat_minor": 0
}