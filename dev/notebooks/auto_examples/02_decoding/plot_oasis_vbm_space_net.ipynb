{
  "cells": [
    {
      "cell_type": "markdown",
      "metadata": {},
      "source": [
        "\n# Voxel-Based Morphometry on Oasis dataset with Space-Net prior\n\nPredicting age from gray-matter concentration maps from OASIS\ndataset. Note that age is a continuous variable, we use the regressor\nhere, and not the classification object.\n\n.. seealso::\n\n    The documentation: `space_net`.\n\n    For more information\n    see the `dataset description <oasis_maps>`.\n"
      ]
    },
    {
      "cell_type": "markdown",
      "metadata": {},
      "source": [
        "## Load the Oasis :term:`VBM` dataset\n\n"
      ]
    },
    {
      "cell_type": "code",
      "execution_count": null,
      "metadata": {
        "collapsed": false
      },
      "outputs": [],
      "source": [
        "import numpy as np\n\nfrom nilearn import datasets\n\nn_subjects = 200\ndataset_files = datasets.fetch_oasis_vbm(n_subjects=n_subjects)\nage = dataset_files.ext_vars[\"age\"].astype(float)\nage = np.array(age)\ngm_imgs = np.array(dataset_files.gray_matter_maps)\n\n\n# Split data into training set and test set\nfrom sklearn.model_selection import train_test_split\nfrom sklearn.utils import check_random_state\n\nrng = check_random_state(42)\ngm_imgs_train, gm_imgs_test, age_train, age_test = train_test_split(\n    gm_imgs, age, train_size=0.6, random_state=rng\n)\n\n# Sort test data for better visualization (trend, etc.)\nperm = np.argsort(age_test)[::-1]\nage_test = age_test[perm]\ngm_imgs_test = gm_imgs_test[perm]"
      ]
    },
    {
      "cell_type": "markdown",
      "metadata": {},
      "source": [
        "## Fit the SpaceNet and predict with it\nTo save time (because these are anat images with many voxels), we include\nonly the 5-percent voxels most correlated with the age variable to fit.\nAlso, we set memory_level=2 so that more of the intermediate computations\nare cached. We used a graph-net penalty here but more beautiful results can\nbe obtained using the TV-l1 penalty, at the expense of longer runtimes.\nAlso, you may pass and n_jobs=<some_high_value> to the\nSpaceNetRegressor class, to take advantage of a multi-core system.\n\n\n"
      ]
    },
    {
      "cell_type": "code",
      "execution_count": null,
      "metadata": {
        "collapsed": false
      },
      "outputs": [],
      "source": [
        "from nilearn.decoding import SpaceNetRegressor\n\ndecoder = SpaceNetRegressor(\n    memory=\"nilearn_cache\",\n    penalty=\"graph-net\",\n    screening_percentile=5.0,\n    memory_level=2,\n    standardize=\"zscore_sample\",\n    n_jobs=2,\n)\ndecoder.fit(gm_imgs_train, age_train)  # fit\ncoef_img = decoder.coef_img_\ny_pred = decoder.predict(gm_imgs_test).ravel()  # predict\nmse = np.mean(np.abs(age_test - y_pred))\nprint(f\"Mean square error (MSE) on the predicted age: {mse:.2f}\")"
      ]
    },
    {
      "cell_type": "markdown",
      "metadata": {},
      "source": [
        "## Visualize the decoding maps and quality of predictions\n\n"
      ]
    },
    {
      "cell_type": "code",
      "execution_count": null,
      "metadata": {
        "collapsed": false
      },
      "outputs": [],
      "source": [
        "import matplotlib.pyplot as plt\n\nfrom nilearn.plotting import plot_stat_map, show\n\n# weights map\nbackground_img = gm_imgs[0]\nplot_stat_map(\n    coef_img,\n    background_img,\n    title=\"graph-net weights\",\n    display_mode=\"z\",\n    cut_coords=1,\n    cmap=\"cold_hot\",\n)\n\n# Plot the prediction errors.\nplt.figure()\nplt.suptitle(f\"graph-net: Mean Absolute Error {mse:.2f} years\")\nlinewidth = 3\nax1 = plt.subplot(211)\nax1.plot(age_test, label=\"True age\", linewidth=linewidth)\nax1.plot(y_pred, \"--\", c=\"g\", label=\"Predicted age\", linewidth=linewidth)\nax1.set_ylabel(\"age\")\nplt.legend(loc=\"best\")\nax2 = plt.subplot(212)\nax2.plot(\n    age_test - y_pred, label=\"True age - predicted age\", linewidth=linewidth\n)\nax2.set_xlabel(\"subject\")\nplt.legend(loc=\"best\")\n\nshow()"
      ]
    }
  ],
  "metadata": {
    "kernelspec": {
      "display_name": "Python 3",
      "language": "python",
      "name": "python3"
    },
    "language_info": {
      "codemirror_mode": {
        "name": "ipython",
        "version": 3
      },
      "file_extension": ".py",
      "mimetype": "text/x-python",
      "name": "python",
      "nbconvert_exporter": "python",
      "pygments_lexer": "ipython3",
      "version": "3.9.23"
    }
  },
  "nbformat": 4,
  "nbformat_minor": 0
}