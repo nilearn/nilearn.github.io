{
  "cells": [
    {
      "cell_type": "markdown",
      "metadata": {},
      "source": [
        "\n# Decoding with FREM: face vs house vs chair object recognition\n\nThis example uses fast ensembling of regularized models (FREM) to decode\na face vs house vs chair discrimination task\nfrom :footcite:t:`Haxby2001` study.\n:term:`FREM` uses an implicit spatial regularization\nthrough fast clustering and aggregates a high number of estimators\ntrained on various splits of the training set,\nthus returning a very robust decoder\nat a lower computational cost than other spatially regularized methods.\n\nTo have more details, see: `frem`.\n"
      ]
    },
    {
      "cell_type": "markdown",
      "metadata": {},
      "source": [
        "## Load the Haxby dataset\n\n"
      ]
    },
    {
      "cell_type": "code",
      "execution_count": null,
      "metadata": {
        "collapsed": false
      },
      "outputs": [],
      "source": [
        "from nilearn.datasets import fetch_haxby\n\ndata_files = fetch_haxby()"
      ]
    },
    {
      "cell_type": "markdown",
      "metadata": {},
      "source": [
        "Load behavioral data\n\n"
      ]
    },
    {
      "cell_type": "code",
      "execution_count": null,
      "metadata": {
        "collapsed": false
      },
      "outputs": [],
      "source": [
        "import pandas as pd\n\nbehavioral = pd.read_csv(data_files.session_target[0], sep=\" \")"
      ]
    },
    {
      "cell_type": "markdown",
      "metadata": {},
      "source": [
        "Restrict to face, house, and chair conditions\n\n"
      ]
    },
    {
      "cell_type": "code",
      "execution_count": null,
      "metadata": {
        "collapsed": false
      },
      "outputs": [],
      "source": [
        "conditions = behavioral[\"labels\"]\ncondition_mask = conditions.isin([\"face\", \"house\", \"chair\"])"
      ]
    },
    {
      "cell_type": "markdown",
      "metadata": {},
      "source": [
        "Split data into train and test samples, using the chunks\n\n"
      ]
    },
    {
      "cell_type": "code",
      "execution_count": null,
      "metadata": {
        "collapsed": false
      },
      "outputs": [],
      "source": [
        "condition_mask_train = (condition_mask) & (behavioral[\"chunks\"] <= 6)\ncondition_mask_test = (condition_mask) & (behavioral[\"chunks\"] > 6)"
      ]
    },
    {
      "cell_type": "markdown",
      "metadata": {},
      "source": [
        "Apply this sample mask to X (fMRI data) and y (behavioral labels)\nBecause the data is in one single large 4D image, we need to use\nindex_img to do the split easily\n\n"
      ]
    },
    {
      "cell_type": "code",
      "execution_count": null,
      "metadata": {
        "collapsed": false
      },
      "outputs": [],
      "source": [
        "from nilearn.image import index_img\n\nfunc_filenames = data_files.func[0]\nX_train = index_img(func_filenames, condition_mask_train)\nX_test = index_img(func_filenames, condition_mask_test)\ny_train = conditions[condition_mask_train].to_numpy()\ny_test = conditions[condition_mask_test].to_numpy()"
      ]
    },
    {
      "cell_type": "markdown",
      "metadata": {},
      "source": [
        "Compute the mean EPI to be used for the background of the plotting\n\n"
      ]
    },
    {
      "cell_type": "code",
      "execution_count": null,
      "metadata": {
        "collapsed": false
      },
      "outputs": [],
      "source": [
        "from nilearn.image import mean_img\n\nbackground_img = mean_img(func_filenames)"
      ]
    },
    {
      "cell_type": "markdown",
      "metadata": {},
      "source": [
        "## Fit FREM\n\n"
      ]
    },
    {
      "cell_type": "code",
      "execution_count": null,
      "metadata": {
        "collapsed": false
      },
      "outputs": [],
      "source": [
        "from nilearn.decoding import FREMClassifier"
      ]
    },
    {
      "cell_type": "markdown",
      "metadata": {},
      "source": [
        "Restrict analysis to within the brain mask\n\n"
      ]
    },
    {
      "cell_type": "code",
      "execution_count": null,
      "metadata": {
        "collapsed": false
      },
      "outputs": [],
      "source": [
        "mask = data_files.mask\n\ndecoder = FREMClassifier(\n    mask=mask, cv=10, standardize=\"zscore_sample\", n_jobs=2, verbose=1\n)"
      ]
    },
    {
      "cell_type": "markdown",
      "metadata": {},
      "source": [
        "Fit model on train data and predict on test data\n\n"
      ]
    },
    {
      "cell_type": "code",
      "execution_count": null,
      "metadata": {
        "collapsed": false
      },
      "outputs": [],
      "source": [
        "decoder.fit(X_train, y_train)\ny_pred = decoder.predict(X_test)\naccuracy = (y_pred == y_test).mean() * 100.0\nprint(f\"FREM classification accuracy : {accuracy:g}%\")"
      ]
    },
    {
      "cell_type": "markdown",
      "metadata": {},
      "source": [
        "## Plot confusion matrix\n\n"
      ]
    },
    {
      "cell_type": "code",
      "execution_count": null,
      "metadata": {
        "collapsed": false
      },
      "outputs": [],
      "source": [
        "import numpy as np\nfrom sklearn.metrics import confusion_matrix\n\nfrom nilearn.plotting import plot_matrix, plot_stat_map, show"
      ]
    },
    {
      "cell_type": "markdown",
      "metadata": {},
      "source": [
        "Calculate the confusion matrix\n\n"
      ]
    },
    {
      "cell_type": "code",
      "execution_count": null,
      "metadata": {
        "collapsed": false
      },
      "outputs": [],
      "source": [
        "matrix = confusion_matrix(\n    y_test,\n    y_pred,\n    normalize=\"true\",\n)"
      ]
    },
    {
      "cell_type": "markdown",
      "metadata": {},
      "source": [
        "Plot the confusion matrix\n\n"
      ]
    },
    {
      "cell_type": "code",
      "execution_count": null,
      "metadata": {
        "collapsed": false
      },
      "outputs": [],
      "source": [
        "im = plot_matrix(\n    matrix,\n    labels=sorted(np.unique(y_test)),\n    vmin=0,\n    cmap=\"inferno\",\n)\n\n# Add x/y-axis labels\nax = im.axes\nax.set_ylabel(\"True label\")\nax.set_xlabel(\"Predicted label\")\n\nshow()"
      ]
    },
    {
      "cell_type": "markdown",
      "metadata": {},
      "source": [
        "## Visualization of :term:`FREM` weights\n\n"
      ]
    },
    {
      "cell_type": "code",
      "execution_count": null,
      "metadata": {
        "collapsed": false
      },
      "outputs": [],
      "source": [
        "plot_stat_map(\n    decoder.coef_img_[\"face\"],\n    background_img,\n    title=f\"FREM: accuracy {accuracy:g}%, 'face coefs'\",\n    cut_coords=(-50, -4),\n    display_mode=\"yz\",\n)\nshow()"
      ]
    },
    {
      "cell_type": "markdown",
      "metadata": {},
      "source": [
        ":term:`FREM` ensembling procedure\nyields an important improvement of decoding\naccuracy on this simple example compared to fitting only one model per\nfold and the clustering mechanism keeps its computational cost reasonable\neven on heavier examples. Here we ensembled several instances of l2-SVC,\nbut FREMClassifier also works with ridge or logistic.\nFREMRegressor object is also available to solve regression problems.\n\n"
      ]
    },
    {
      "cell_type": "markdown",
      "metadata": {},
      "source": [
        "## References\n\n.. footbibliography::\n\n"
      ]
    }
  ],
  "metadata": {
    "kernelspec": {
      "display_name": "Python 3",
      "language": "python",
      "name": "python3"
    },
    "language_info": {
      "codemirror_mode": {
        "name": "ipython",
        "version": 3
      },
      "file_extension": ".py",
      "mimetype": "text/x-python",
      "name": "python",
      "nbconvert_exporter": "python",
      "pygments_lexer": "ipython3",
      "version": "3.10.18"
    }
  },
  "nbformat": 4,
  "nbformat_minor": 0
}