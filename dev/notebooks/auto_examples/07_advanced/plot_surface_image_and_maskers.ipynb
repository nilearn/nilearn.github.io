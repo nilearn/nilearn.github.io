{
  "cells": [
    {
      "cell_type": "markdown",
      "metadata": {},
      "source": [
        "\n# A short demo of the surface images & maskers\n\nThis example shows some more 'advanced' features\nto work with surface images.\n\nThis shows:\n\n-   how to use :class:`~nilearn.maskers.SurfaceMasker`\n    and to plot :class:`~nilearn.surface.SurfaceImage`\n\n-   how to use :class:`~nilearn.maskers.SurfaceLabelsMasker`\n    and to compute a connectome with surface data.\n\n-   how to use run some decoding directly on surface data.\n\nSee the `dataset description <nki_dataset>`\nfor more information on the data used in this example.\n"
      ]
    },
    {
      "cell_type": "code",
      "execution_count": null,
      "metadata": {
        "collapsed": false
      },
      "outputs": [],
      "source": [
        "from nilearn._utils.helpers import check_matplotlib\n\ncheck_matplotlib()"
      ]
    },
    {
      "cell_type": "markdown",
      "metadata": {},
      "source": [
        "## Masking and plotting surface images\nHere we load the NKI dataset\nas a list of :class:`~nilearn.surface.SurfaceImage`.\nThen we extract data with a masker and\ncompute the mean image across time points for the first subject.\nWe then plot the the mean image.\n\n"
      ]
    },
    {
      "cell_type": "code",
      "execution_count": null,
      "metadata": {
        "collapsed": false
      },
      "outputs": [],
      "source": [
        "import matplotlib.pyplot as plt\nimport numpy as np\n\nfrom nilearn.datasets import (\n    load_fsaverage_data,\n    load_nki,\n)\nfrom nilearn.image import threshold_img\nfrom nilearn.maskers import SurfaceMasker\nfrom nilearn.plotting import plot_matrix, plot_surf, show\n\nsurf_img_nki = load_nki()[0]\nprint(f\"NKI image: {surf_img_nki}\")\n\nmasker = SurfaceMasker()\nmasked_data = masker.fit_transform(surf_img_nki)\nprint(f\"Masked data shape: {masked_data.shape}\")\n\nmean_data = masked_data.mean(axis=0)\nmean_img = masker.inverse_transform(mean_data)\nprint(f\"Image mean: {mean_img}\")"
      ]
    },
    {
      "cell_type": "markdown",
      "metadata": {},
      "source": [
        "let's create a figure with several views for both hemispheres\n\n"
      ]
    },
    {
      "cell_type": "code",
      "execution_count": null,
      "metadata": {
        "collapsed": false
      },
      "outputs": [],
      "source": [
        "views = [\n    \"lateral\",\n    \"dorsal\",\n]\nhemispheres = [\"left\", \"right\", \"both\"]"
      ]
    },
    {
      "cell_type": "markdown",
      "metadata": {},
      "source": [
        "for our plots we will be using the fsaverage sulcal data as background map\n\n"
      ]
    },
    {
      "cell_type": "code",
      "execution_count": null,
      "metadata": {
        "collapsed": false
      },
      "outputs": [],
      "source": [
        "fsaverage_sulcal = load_fsaverage_data(data_type=\"sulcal\")\n\nmean_img = threshold_img(mean_img, threshold=1e-08, copy=False, two_sided=True)"
      ]
    },
    {
      "cell_type": "markdown",
      "metadata": {},
      "source": [
        "Let's ensure that we have the same range\ncentered on 0 for all subplots.\n\n"
      ]
    },
    {
      "cell_type": "code",
      "execution_count": null,
      "metadata": {
        "collapsed": false
      },
      "outputs": [],
      "source": [
        "vmax = max(np.absolute(hemi).max() for hemi in mean_img.data.parts.values())\nvmin = -vmax\n\nfig, axes = plt.subplots(\n    nrows=len(views),\n    ncols=len(hemispheres),\n    subplot_kw={\"projection\": \"3d\"},\n    figsize=(4 * len(hemispheres), 4),\n)\naxes = np.atleast_2d(axes)\n\nfor view, ax_row in zip(views, axes, strict=False):\n    for ax, hemi in zip(ax_row, hemispheres, strict=False):\n        if hemi == \"both\" and view == \"lateral\":\n            view = \"left\"\n        elif hemi == \"both\" and view == \"medial\":\n            view = \"right\"\n        plot_surf(\n            surf_map=mean_img,\n            hemi=hemi,\n            view=view,\n            figure=fig,\n            axes=ax,\n            title=f\"{hemi} - {view}\",\n            colorbar=False,\n            symmetric_cmap=None,\n            bg_on_data=True,\n            vmin=vmin,\n            vmax=vmax,\n            bg_map=fsaverage_sulcal,\n            cmap=\"seismic\",\n            darkness=None,\n        )\nfig.set_size_inches(12, 8)\n\nshow()"
      ]
    },
    {
      "cell_type": "markdown",
      "metadata": {},
      "source": [
        "## Connectivity with a surface atlas and SurfaceLabelsMasker\nHere we first get the mean time serie\nfor each label of the destrieux atlas\nfor our NKI data.\nWe then compute and\nplot the connectome of these time series.\n\n"
      ]
    },
    {
      "cell_type": "code",
      "execution_count": null,
      "metadata": {
        "collapsed": false
      },
      "outputs": [],
      "source": [
        "from nilearn.connectome import ConnectivityMeasure\nfrom nilearn.datasets import (\n    fetch_atlas_surf_destrieux,\n    load_fsaverage,\n)\nfrom nilearn.maskers import SurfaceLabelsMasker\nfrom nilearn.surface import SurfaceImage\n\nfsaverage = load_fsaverage(\"fsaverage5\")\ndestrieux = fetch_atlas_surf_destrieux()"
      ]
    },
    {
      "cell_type": "markdown",
      "metadata": {},
      "source": [
        "Let's create a surface image\nfor this atlas.\n\n"
      ]
    },
    {
      "cell_type": "code",
      "execution_count": null,
      "metadata": {
        "collapsed": false
      },
      "outputs": [],
      "source": [
        "labels_img = SurfaceImage(\n    mesh=fsaverage[\"pial\"],\n    data={\n        \"left\": destrieux[\"map_left\"],\n        \"right\": destrieux[\"map_right\"],\n    },\n)\n\nlabels_masker = SurfaceLabelsMasker(\n    labels_img=labels_img,\n    lut=destrieux.lut,\n).fit()\n\nmasked_data = labels_masker.transform(surf_img_nki)\nprint(f\"Masked data shape: {masked_data.shape}\")"
      ]
    },
    {
      "cell_type": "markdown",
      "metadata": {},
      "source": [
        "## Plot connectivity matrix\n\n"
      ]
    },
    {
      "cell_type": "code",
      "execution_count": null,
      "metadata": {
        "collapsed": false
      },
      "outputs": [],
      "source": [
        "connectome_measure = ConnectivityMeasure(\n    kind=\"correlation\", standardize=\"zscore_sample\"\n)\nconnectome = connectome_measure.fit([masked_data])\n\nvmax = np.absolute(connectome.mean_).max()\nvmin = -vmax"
      ]
    },
    {
      "cell_type": "markdown",
      "metadata": {},
      "source": [
        "We only print every 3rd label\nfor a more legible figure.\n\n"
      ]
    },
    {
      "cell_type": "code",
      "execution_count": null,
      "metadata": {
        "collapsed": false
      },
      "outputs": [],
      "source": [
        "labels = []\nfor i, label in enumerate(labels_masker.region_names_.values()):\n    if i % 3 == 1:\n        labels.append(label)\n    else:\n        labels.append(\"\")\n\nplot_matrix(\n    connectome.mean_,\n    labels=labels,\n    vmax=vmax,\n    vmin=vmin,\n)\n\nshow()"
      ]
    },
    {
      "cell_type": "markdown",
      "metadata": {},
      "source": [
        "## Using the decoder\nNow using the appropriate masker\nwe can use a ``Decoder`` on surface data\njust as we do for volume images.\n\n<div class=\"alert alert-info\"><h4>Note</h4><p>Here we are given dummy 0 or 1 labels\n  to each time point of the time series.\n  We then decode at each time point.\n  In this sense,\n  the results do not show anything meaningful\n  in a biological sense.</p></div>\n\n\n"
      ]
    },
    {
      "cell_type": "code",
      "execution_count": null,
      "metadata": {
        "collapsed": false
      },
      "outputs": [],
      "source": [
        "from nilearn.decoding import Decoder\n\n# create some random labels\nrng = np.random.RandomState(0)\nn_time_points = surf_img_nki.shape[1]\ny = rng.choice(\n    [0, 1],\n    replace=True,\n    size=n_time_points,\n)\n\ndecoder = Decoder(\n    mask=SurfaceMasker(),\n    param_grid={\"C\": [0.01, 0.1]},\n    cv=3,\n    screening_percentile=1,\n)\ndecoder.fit(surf_img_nki, y)\nprint(\"CV scores:\", decoder.cv_scores_)\n\nplot_surf(\n    surf_map=decoder.coef_img_[0],\n    threshold=1e-6,\n    bg_map=fsaverage_sulcal,\n    bg_on_data=True,\n    cmap=\"inferno\",\n    vmin=0,\n    darkness=None,\n)\nshow()"
      ]
    },
    {
      "cell_type": "markdown",
      "metadata": {},
      "source": [
        "## Decoding with a scikit-learn `Pipeline`\n\n"
      ]
    },
    {
      "cell_type": "code",
      "execution_count": null,
      "metadata": {
        "collapsed": false
      },
      "outputs": [],
      "source": [
        "from sklearn import feature_selection, linear_model, pipeline, preprocessing\n\ndecoder = pipeline.make_pipeline(\n    SurfaceMasker(),\n    preprocessing.StandardScaler(),\n    feature_selection.SelectKBest(\n        score_func=feature_selection.f_regression, k=500\n    ),\n    linear_model.Ridge(),\n)\ndecoder.fit(surf_img_nki, y)\n\ncoef_img = decoder[:-1].inverse_transform(np.atleast_2d(decoder[-1].coef_))\n\nvmax = max(np.absolute(hemi).max() for hemi in coef_img.data.parts.values())\nplot_surf(\n    surf_map=coef_img,\n    cmap=\"RdBu_r\",\n    vmin=-vmax,\n    vmax=vmax,\n    threshold=1e-6,\n    bg_map=fsaverage_sulcal,\n    bg_on_data=True,\n    darkness=None,\n)\nshow()"
      ]
    }
  ],
  "metadata": {
    "kernelspec": {
      "display_name": "Python 3",
      "language": "python",
      "name": "python3"
    },
    "language_info": {
      "codemirror_mode": {
        "name": "ipython",
        "version": 3
      },
      "file_extension": ".py",
      "mimetype": "text/x-python",
      "name": "python",
      "nbconvert_exporter": "python",
      "pygments_lexer": "ipython3",
      "version": "3.10.18"
    }
  },
  "nbformat": 4,
  "nbformat_minor": 0
}