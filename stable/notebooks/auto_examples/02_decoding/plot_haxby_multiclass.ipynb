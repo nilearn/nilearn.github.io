{
  "cells": [
    {
      "cell_type": "markdown",
      "metadata": {},
      "source": [
        "\n# The haxby dataset: different multi-class strategies\n\nWe compare one vs all and one vs one multi-class strategies: the overall\ncross-validated accuracy and the confusion matrix.\n\n.. include:: ../../../examples/masker_note.rst\n"
      ]
    },
    {
      "cell_type": "code",
      "execution_count": null,
      "metadata": {
        "collapsed": false
      },
      "outputs": [],
      "source": [
        "import numpy as np\nimport pandas as pd\n\nfrom nilearn import datasets\nfrom nilearn.plotting import plot_matrix, show"
      ]
    },
    {
      "cell_type": "markdown",
      "metadata": {},
      "source": [
        "## Load the Haxby data dataset\n\n"
      ]
    },
    {
      "cell_type": "code",
      "execution_count": null,
      "metadata": {
        "collapsed": false
      },
      "outputs": [],
      "source": [
        "# By default 2nd subject from haxby datasets will be fetched.\nhaxby_dataset = datasets.fetch_haxby()\n\n# Print basic information on the dataset\nprint(f\"Mask nifti images are located at: {haxby_dataset.mask}\")\nprint(f\"Functional nifti images are located at: {haxby_dataset.func[0]}\")\n\nfunc_filename = haxby_dataset.func[0]\nmask_filename = haxby_dataset.mask\n\n# Load the behavioral data that we will predict\nlabels = pd.read_csv(haxby_dataset.session_target[0], sep=\" \")\ny = labels[\"labels\"]\nrun = labels[\"chunks\"]\n\n# Remove the rest condition, it is not very interesting\nnon_rest = y != \"rest\"\ny = y[non_rest]\n\n# Get the labels of the numerical conditions represented by the vector y\nunique_conditions, order = np.unique(y, return_index=True)\n# Sort the conditions by the order of appearance\nunique_conditions = unique_conditions[np.argsort(order)]"
      ]
    },
    {
      "cell_type": "markdown",
      "metadata": {},
      "source": [
        "## Prepare the :term:`fMRI` data\n\n"
      ]
    },
    {
      "cell_type": "code",
      "execution_count": null,
      "metadata": {
        "collapsed": false
      },
      "outputs": [],
      "source": [
        "from nilearn.maskers import NiftiMasker\n\n# For decoding, standardizing is often very important\nnifti_masker = NiftiMasker(\n    mask_img=mask_filename,\n    standardize=\"zscore_sample\",\n    runs=run,\n    smoothing_fwhm=4,\n    memory=\"nilearn_cache\",\n    memory_level=1,\n)\nX = nifti_masker.fit_transform(func_filename)\n\n# Remove the \"rest\" condition\nX = X[non_rest]\nrun = run[non_rest]"
      ]
    },
    {
      "cell_type": "markdown",
      "metadata": {},
      "source": [
        "## Build the decoders, using scikit-learn\nHere we use a Support Vector Classification, with a linear kernel,\nand a simple feature selection step\n\n"
      ]
    },
    {
      "cell_type": "code",
      "execution_count": null,
      "metadata": {
        "collapsed": false
      },
      "outputs": [],
      "source": [
        "from sklearn.feature_selection import SelectKBest, f_classif\nfrom sklearn.multiclass import OneVsOneClassifier, OneVsRestClassifier\nfrom sklearn.pipeline import Pipeline\nfrom sklearn.svm import SVC\n\nsvc_ovo = OneVsOneClassifier(\n    Pipeline(\n        [\n            (\"anova\", SelectKBest(f_classif, k=500)),\n            (\"svc\", SVC(kernel=\"linear\")),\n        ]\n    )\n)\n\nsvc_ova = OneVsRestClassifier(\n    Pipeline(\n        [\n            (\"anova\", SelectKBest(f_classif, k=500)),\n            (\"svc\", SVC(kernel=\"linear\")),\n        ]\n    )\n)"
      ]
    },
    {
      "cell_type": "markdown",
      "metadata": {},
      "source": [
        "## Now we compute cross-validation scores\n\n"
      ]
    },
    {
      "cell_type": "code",
      "execution_count": null,
      "metadata": {
        "collapsed": false
      },
      "outputs": [],
      "source": [
        "from sklearn.model_selection import cross_val_score\n\ncv_scores_ovo = cross_val_score(svc_ovo, X, y, cv=5, verbose=1)\n\ncv_scores_ova = cross_val_score(svc_ova, X, y, cv=5, verbose=1)\n\nprint(\"OvO:\", cv_scores_ovo.mean())\nprint(\"OvA:\", cv_scores_ova.mean())"
      ]
    },
    {
      "cell_type": "markdown",
      "metadata": {},
      "source": [
        "## Plot barplots of the prediction scores\n\n"
      ]
    },
    {
      "cell_type": "code",
      "execution_count": null,
      "metadata": {
        "collapsed": false
      },
      "outputs": [],
      "source": [
        "from matplotlib import pyplot as plt\n\nplt.figure(figsize=(4, 3))\nplt.boxplot([cv_scores_ova, cv_scores_ovo])\nplt.xticks([1, 2], [\"One vs All\", \"One vs One\"])\nplt.title(\"Prediction: accuracy score\")"
      ]
    },
    {
      "cell_type": "markdown",
      "metadata": {},
      "source": [
        "## Plot a confusion matrix\nWe fit on the first 10 runs and plot a confusion matrix on the\nlast 2 runs\n\n"
      ]
    },
    {
      "cell_type": "code",
      "execution_count": null,
      "metadata": {
        "collapsed": false
      },
      "outputs": [],
      "source": [
        "from sklearn.metrics import confusion_matrix\n\nsvc_ovo.fit(X[run < 10], y[run < 10])\ny_pred_ovo = svc_ovo.predict(X[run >= 10])\n\nplot_matrix(\n    confusion_matrix(y_pred_ovo, y[run >= 10]),\n    labels=unique_conditions,\n    title=\"Confusion matrix: One vs One\",\n    cmap=\"inferno\",\n)\n\nsvc_ova.fit(X[run < 10], y[run < 10])\ny_pred_ova = svc_ova.predict(X[run >= 10])\n\nplot_matrix(\n    confusion_matrix(y_pred_ova, y[run >= 10]),\n    labels=unique_conditions,\n    title=\"Confusion matrix: One vs All\",\n    cmap=\"inferno\",\n)\n\nshow()"
      ]
    }
  ],
  "metadata": {
    "kernelspec": {
      "display_name": "Python 3",
      "language": "python",
      "name": "python3"
    },
    "language_info": {
      "codemirror_mode": {
        "name": "ipython",
        "version": 3
      },
      "file_extension": ".py",
      "mimetype": "text/x-python",
      "name": "python",
      "nbconvert_exporter": "python",
      "pygments_lexer": "ipython3",
      "version": "3.9.23"
    }
  },
  "nbformat": 4,
  "nbformat_minor": 0
}