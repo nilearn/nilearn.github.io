{
  "cells": [
    {
      "cell_type": "markdown",
      "metadata": {},
      "source": [
        "\n# NeuroImaging volumes visualization\n\nSimple example to show Nifti data visualization.\n"
      ]
    },
    {
      "cell_type": "markdown",
      "metadata": {},
      "source": [
        "## Fetch data\n\n"
      ]
    },
    {
      "cell_type": "code",
      "execution_count": null,
      "metadata": {
        "collapsed": false
      },
      "outputs": [],
      "source": [
        "from nilearn import datasets\n\n# By default 2nd subject will be fetched\nhaxby_dataset = datasets.fetch_haxby()\n\n# print basic information on the dataset\nprint(\n    f\"First anatomical nifti image (3D) located is at: {haxby_dataset.anat[0]}\"\n)\nprint(\n    f\"First functional nifti image (4D) is located at: {haxby_dataset.func[0]}\"\n)"
      ]
    },
    {
      "cell_type": "markdown",
      "metadata": {},
      "source": [
        "## Visualization\n\n"
      ]
    },
    {
      "cell_type": "code",
      "execution_count": null,
      "metadata": {
        "collapsed": false
      },
      "outputs": [],
      "source": [
        "from nilearn.image.image import mean_img\n\n# Compute the mean EPI: we do the mean along the axis 3, which is time\nfunc_filename = haxby_dataset.func[0]\nmean_haxby = mean_img(func_filename, copy_header=True)\n\nfrom nilearn.plotting import plot_epi, show\n\nplot_epi(mean_haxby, colorbar=True, cbar_tick_format=\"%i\")"
      ]
    },
    {
      "cell_type": "markdown",
      "metadata": {},
      "source": [
        "## Extracting a brain mask\nSimple computation of a mask from the :term:`fMRI` data\n\n"
      ]
    },
    {
      "cell_type": "code",
      "execution_count": null,
      "metadata": {
        "collapsed": false
      },
      "outputs": [],
      "source": [
        "from nilearn.masking import compute_epi_mask\n\nmask_img = compute_epi_mask(func_filename)\n\n# Visualize it as an ROI\nfrom nilearn.plotting import plot_roi\n\nplot_roi(mask_img, mean_haxby)"
      ]
    },
    {
      "cell_type": "markdown",
      "metadata": {},
      "source": [
        "## Applying the mask to extract the corresponding time series\n\n"
      ]
    },
    {
      "cell_type": "code",
      "execution_count": null,
      "metadata": {
        "collapsed": false
      },
      "outputs": [],
      "source": [
        "from nilearn.masking import apply_mask\n\nmasked_data = apply_mask(func_filename, mask_img)\n\n# masked_data shape is (timepoints, voxels). We can plot the first 150\n# timepoints from two voxels\n\n# And now plot a few of these\nimport matplotlib.pyplot as plt\n\nplt.figure(figsize=(7, 5))\nplt.plot(masked_data[:150, :2])\nplt.xlabel(\"Time [TRs]\", fontsize=16)\nplt.ylabel(\"Intensity\", fontsize=16)\nplt.xlim(0, 150)\nplt.subplots_adjust(bottom=0.12, top=0.95, right=0.95, left=0.12)\n\nshow()"
      ]
    }
  ],
  "metadata": {
    "kernelspec": {
      "display_name": "Python 3",
      "language": "python",
      "name": "python3"
    },
    "language_info": {
      "codemirror_mode": {
        "name": "ipython",
        "version": 3
      },
      "file_extension": ".py",
      "mimetype": "text/x-python",
      "name": "python",
      "nbconvert_exporter": "python",
      "pygments_lexer": "ipython3",
      "version": "3.9.19"
    }
  },
  "nbformat": 4,
  "nbformat_minor": 0
}
