{
  "cells": [
    {
      "cell_type": "markdown",
      "metadata": {},
      "source": [
        "\n# Breaking an atlas of labels in separated regions\n\nThis example shows how to use\n:class:`~nilearn.regions.connected_label_regions`\nto assign each spatially-separated region of the atlas a unique label.\n\nIndeed, often in a given atlas of labels, the same label (number) may\nbe used in different connected regions, for instance a region in each\nhemisphere. If we want to operate on regions and not networks (for\ninstance in signal extraction), it is useful to assign a different\nlabel to each region. We end up with a new atlas that has more labels,\nbut each one points to a single region.\n\nWe use the Yeo atlas as an example for labeling regions,\n:func:`~nilearn.datasets.fetch_atlas_yeo_2011`\n"
      ]
    },
    {
      "cell_type": "markdown",
      "metadata": {},
      "source": [
        "## The original Yeo atlas\n\n"
      ]
    },
    {
      "cell_type": "code",
      "execution_count": null,
      "metadata": {
        "collapsed": false
      },
      "outputs": [],
      "source": [
        "# First we fetch the Yeo atlas\n\nfrom nilearn.datasets import fetch_atlas_yeo_2011\nfrom nilearn.plotting import plot_roi, show\n\natlas_yeo_2011 = fetch_atlas_yeo_2011(thickness=\"thick\", n_networks=7)\n\natlas_yeo = atlas_yeo_2011.maps\n\n# Let's now plot it\nplot_roi(\n    atlas_yeo,\n    title=\"Original Yeo atlas\",\n    cut_coords=(8, -4, 9),\n    cmap=\"Paired\",\n)\n\nshow()"
      ]
    },
    {
      "cell_type": "markdown",
      "metadata": {},
      "source": [
        "The original Yeo atlas has 7 labels, that is indicated in the colorbar.\nThe colorbar also shows the correspondence between the color and the label\n\nNote that these 7 labels correspond actually to networks that comprise\nseveral regions. We are going to split them up.\n\n"
      ]
    },
    {
      "cell_type": "markdown",
      "metadata": {},
      "source": [
        "## Relabeling the atlas into separated regions\n\nNow we use the connected_label_regions to break apart the networks\nof the Yeo atlas into separated regions\n\n"
      ]
    },
    {
      "cell_type": "code",
      "execution_count": null,
      "metadata": {
        "collapsed": false
      },
      "outputs": [],
      "source": [
        "from nilearn.regions import connected_label_regions\n\nregion_labels = connected_label_regions(atlas_yeo)"
      ]
    },
    {
      "cell_type": "markdown",
      "metadata": {},
      "source": [
        "Plotting the new regions\n\n"
      ]
    },
    {
      "cell_type": "code",
      "execution_count": null,
      "metadata": {
        "collapsed": false
      },
      "outputs": [],
      "source": [
        "plot_roi(\n    region_labels,\n    title=\"Relabeled Yeo atlas\",\n    cut_coords=(8, -4, 9),\n    cmap=\"Paired\",\n)\n\nshow()"
      ]
    },
    {
      "cell_type": "markdown",
      "metadata": {},
      "source": [
        "Note that the same cluster in original and labeled atlas could have\ndifferent color, so, you cannot directly compare colors.\n\nHowever, you can see that the regions in the left and right hemispheres\nnow have different colors. For some regions it is difficult to tell\napart visually, as the colors are too close on the colormap (eg in the\nblue: regions labeled around 3).\n\nAlso, we can see that there are many more labels: the colorbar goes up\nto 49. The 7 networks of the Yeo atlas are now broken up into 49\nROIs.\n\nYou can save the new atlas to a nifti file using to_filename method.\n\n"
      ]
    },
    {
      "cell_type": "code",
      "execution_count": null,
      "metadata": {
        "collapsed": false
      },
      "outputs": [],
      "source": [
        "from pathlib import Path\n\noutput_dir = Path.cwd() / \"results\" / \"plot_extract_regions_labels_image\"\noutput_dir.mkdir(exist_ok=True, parents=True)\nprint(f\"Output will be saved to: {output_dir}\")\n\nregion_labels.to_filename(output_dir / \"relabeled_yeo_atlas.nii.gz\")"
      ]
    },
    {
      "cell_type": "markdown",
      "metadata": {},
      "source": [
        "## Different connectivity modes\n\nUsing the parameter connect_diag=False we separate in addition two regions\nthat are connected only along the diagonal.\n\n"
      ]
    },
    {
      "cell_type": "code",
      "execution_count": null,
      "metadata": {
        "collapsed": false
      },
      "outputs": [],
      "source": [
        "region_labels_not_diag = connected_label_regions(atlas_yeo, connect_diag=False)\n\nplot_roi(\n    region_labels_not_diag,\n    title=\"Relabeling and connect_diag=False\",\n    cut_coords=(8, -4, 9),\n    cmap=\"Paired\",\n)\n\nshow()"
      ]
    },
    {
      "cell_type": "markdown",
      "metadata": {},
      "source": [
        "A consequence of using connect_diag=False is that we can get a lot of\nsmall regions, around 110 judging from the colorbar.\n\nHence we suggest use connect_diag=True\n\n"
      ]
    },
    {
      "cell_type": "markdown",
      "metadata": {},
      "source": [
        "## Parameter min_size\n\nIn the above, we get around 110 regions, but many of these are very\nsmall. We can remove them with the min_size parameter, keeping only the\nregions larger than 100mm^3.\n\n"
      ]
    },
    {
      "cell_type": "code",
      "execution_count": null,
      "metadata": {
        "collapsed": false
      },
      "outputs": [],
      "source": [
        "region_labels_min_size = connected_label_regions(\n    atlas_yeo, min_size=100, connect_diag=False\n)\n\nplot_roi(\n    region_labels_min_size,\n    title=\"Relabeling and min_size\",\n    cut_coords=(8, -4, 9),\n    cmap=\"Paired\",\n)\n\nshow()"
      ]
    }
  ],
  "metadata": {
    "kernelspec": {
      "display_name": "Python 3",
      "language": "python",
      "name": "python3"
    },
    "language_info": {
      "codemirror_mode": {
        "name": "ipython",
        "version": 3
      },
      "file_extension": ".py",
      "mimetype": "text/x-python",
      "name": "python",
      "nbconvert_exporter": "python",
      "pygments_lexer": "ipython3",
      "version": "3.9.23"
    }
  },
  "nbformat": 4,
  "nbformat_minor": 0
}