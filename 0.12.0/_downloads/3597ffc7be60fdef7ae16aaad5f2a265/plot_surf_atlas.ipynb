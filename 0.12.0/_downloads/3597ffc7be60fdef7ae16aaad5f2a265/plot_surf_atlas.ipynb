{
  "cells": [
    {
      "cell_type": "markdown",
      "metadata": {},
      "source": [
        "\n# Loading and plotting of a cortical surface atlas\n\nThe Destrieux :term:`parcellation` (:footcite:t:`Destrieux2010`)\nin fsaverage5 space as distributed with Freesurfer is used as the chosen atlas.\n\nThe :func:`~nilearn.plotting.plot_surf_roi` function is used\nto plot the :term:`parcellation` on the pial surface.\n\nSee `plotting` for more details.\n"
      ]
    },
    {
      "cell_type": "markdown",
      "metadata": {},
      "source": [
        "## Data fetcher\nRetrieve destrieux parcellation in fsaverage5 space from nilearn\nand create a :obj:`~nilearn.surface.SurfaceImage` instance with it.\n\n"
      ]
    },
    {
      "cell_type": "code",
      "execution_count": null,
      "metadata": {
        "collapsed": false
      },
      "outputs": [],
      "source": [
        "from nilearn.datasets import (\n    fetch_atlas_surf_destrieux,\n    load_fsaverage,\n    load_fsaverage_data,\n)\nfrom nilearn.surface import SurfaceImage\n\nfsaverage = load_fsaverage(\"fsaverage5\")\ndestrieux = fetch_atlas_surf_destrieux()\ndestrieux_atlas = SurfaceImage(\n    mesh=fsaverage[\"pial\"],\n    data={\n        \"left\": destrieux[\"map_left\"],\n        \"right\": destrieux[\"map_right\"],\n    },\n)\n\n# Retrieve fsaverage5 surface dataset for the plotting background.\n# It contains the surface template as pial and inflated version.\nfsaverage_meshes = load_fsaverage()\n\n# The fsaverage meshes contains the FileMesh objects:\nprint(f\"{fsaverage_meshes['pial'].parts['left']=}\")\nprint(f\"{fsaverage_meshes['inflated'].parts['left']=}\")\n\n# The fsaverage data contains file names pointing to the file locations\n# The sulcal depth maps will be is used for shading.\nfsaverage_sulcal = load_fsaverage_data(data_type=\"sulcal\")\nprint(f\"{fsaverage_sulcal=}\")"
      ]
    },
    {
      "cell_type": "markdown",
      "metadata": {},
      "source": [
        "## Visualization\n\n"
      ]
    },
    {
      "cell_type": "markdown",
      "metadata": {},
      "source": [
        "### Destrieux parcellation on pial surface\n\n"
      ]
    },
    {
      "cell_type": "code",
      "execution_count": null,
      "metadata": {
        "collapsed": false
      },
      "outputs": [],
      "source": [
        "from nilearn.plotting import plot_surf_roi, show\n\nplot_surf_roi(\n    roi_map=destrieux_atlas,\n    hemi=\"left\",\n    view=\"lateral\",\n    bg_map=fsaverage_sulcal,\n    bg_on_data=True,\n    title=\"Destrieux parcellation on sulcal surface\",\n    darkness=None,\n)"
      ]
    },
    {
      "cell_type": "markdown",
      "metadata": {},
      "source": [
        "### Destrieux parcellation on inflated surface with different views\n\n"
      ]
    },
    {
      "cell_type": "code",
      "execution_count": null,
      "metadata": {
        "collapsed": false
      },
      "outputs": [],
      "source": [
        "for view in [\"lateral\", \"posterior\", \"ventral\"]:\n    plot_surf_roi(\n        surf_mesh=fsaverage_meshes[\"inflated\"],\n        roi_map=destrieux_atlas,\n        hemi=\"left\",\n        view=view,\n        bg_map=fsaverage_sulcal,\n        bg_on_data=True,\n        title=f\"Destrieux parcellation on inflated surface\\n{view} view\",\n        darkness=None,\n    )\n\nshow()"
      ]
    },
    {
      "cell_type": "markdown",
      "metadata": {},
      "source": [
        "### Destrieux parcellation with custom view: explicitly set angle\n\n"
      ]
    },
    {
      "cell_type": "code",
      "execution_count": null,
      "metadata": {
        "collapsed": false
      },
      "outputs": [],
      "source": [
        "elev, azim = 210.0, 90.0  # appropriate for visualizing, e.g., the OTS\nplot_surf_roi(\n    surf_mesh=fsaverage_meshes[\"inflated\"],\n    roi_map=destrieux_atlas,\n    hemi=\"left\",\n    view=(elev, azim),\n    bg_map=fsaverage_sulcal,\n    bg_on_data=True,\n    darkness=None,\n    title=\"Arbitrary view of Destrieux parcellation\",\n)"
      ]
    },
    {
      "cell_type": "markdown",
      "metadata": {},
      "source": [
        "### Display connectome from surface parcellation\nThe following code extracts 3D coordinates of surface parcels\n(also known as labels in the Freesurfer naming convention).\nTo do so we get the pial surface of fsaverage subject,\nget the :term:`vertices<vertex>` contained in each parcel\nand compute the mean location to obtain the coordinates.\n\n"
      ]
    },
    {
      "cell_type": "code",
      "execution_count": null,
      "metadata": {
        "collapsed": false
      },
      "outputs": [],
      "source": [
        "import numpy as np\n\nfrom nilearn.plotting import plot_connectome, view_connectome\n\ncoordinates = []\nfor hemi in [\"left\", \"right\"]:\n    data = destrieux_atlas.data.parts[hemi]\n    mesh_coordinates = destrieux_atlas.mesh.parts[hemi].coordinates\n    coordinates.extend(\n        np.mean(mesh_coordinates[data == k], axis=0)\n        for k, label in enumerate(destrieux.labels)\n        if \"Unknown\" not in str(label)\n    )\n# 3D coordinates of parcels\ncoordinates = np.array(coordinates)\n\n# We now make a synthetic connectivity matrix that connects labels\n# between left and right hemispheres.\nn_parcels = len(coordinates)\ncorr = np.zeros((n_parcels, n_parcels))\nn_parcels_hemi = n_parcels // 2\ncorr[np.arange(n_parcels_hemi), np.arange(n_parcels_hemi) + n_parcels_hemi] = 1\ncorr = corr + corr.T\n\nplot_connectome(\n    adjacency_matrix=corr,\n    node_coords=coordinates,\n    edge_threshold=\"90%\",\n    title=\"Connectome Destrieux atlas\",\n)\nshow()"
      ]
    },
    {
      "cell_type": "markdown",
      "metadata": {},
      "source": [
        "## 3D visualization in a web browser\nAn alternative to :func:`~nilearn.plotting.plot_surf_roi` is to use\n:func:`~nilearn.plotting.view_surf`\nfor more interactive visualizations in a web browser.\nSee `interactive-surface-plotting` for more details.\n\n"
      ]
    },
    {
      "cell_type": "code",
      "execution_count": null,
      "metadata": {
        "collapsed": false
      },
      "outputs": [],
      "source": [
        "from nilearn.plotting import view_surf\n\nview = view_surf(\n    surf_mesh=fsaverage_meshes[\"inflated\"],\n    surf_map=destrieux_atlas,\n    cmap=\"gist_ncar\",\n    symmetric_cmap=False,\n    darkness=None,\n)\n# In a Jupyter notebook, if ``view`` is the output of a cell,\n# it will be displayed below the cell\nview\n\n# uncomment this to open the plot in a web browser:\n# view.open_in_browser()"
      ]
    },
    {
      "cell_type": "markdown",
      "metadata": {},
      "source": [
        "you can also use :func:`~nilearn.plotting.view_connectome`\nto open an interactive view of the connectome.\n\n"
      ]
    },
    {
      "cell_type": "code",
      "execution_count": null,
      "metadata": {
        "collapsed": false
      },
      "outputs": [],
      "source": [
        "view = view_connectome(\n    corr,\n    coordinates,\n    edge_threshold=\"90%\",\n)\n\n# uncomment this to open the plot in a web browser:\n# view.open_in_browser()\nview"
      ]
    },
    {
      "cell_type": "markdown",
      "metadata": {},
      "source": [
        "## References\n\n.. footbibliography::\n\n"
      ]
    }
  ],
  "metadata": {
    "kernelspec": {
      "display_name": "Python 3",
      "language": "python",
      "name": "python3"
    },
    "language_info": {
      "codemirror_mode": {
        "name": "ipython",
        "version": 3
      },
      "file_extension": ".py",
      "mimetype": "text/x-python",
      "name": "python",
      "nbconvert_exporter": "python",
      "pygments_lexer": "ipython3",
      "version": "3.9.23"
    }
  },
  "nbformat": 4,
  "nbformat_minor": 0
}