{
  "cells": [
    {
      "cell_type": "markdown",
      "metadata": {},
      "source": [
        "\n# Massively univariate analysis of face vs house recognition\n\nA permuted Ordinary Least Squares algorithm is run at each voxel in\norder to determine whether or not it behaves differently under a \"face\nviewing\" condition and a \"house viewing\" condition.\nWe consider the mean image per run and per condition.\nOtherwise, the observations cannot be exchanged at random because\na time dependence exists between observations within a same run\n(see :footcite:t:`Winkler2014` for more detailed explanations).\n\nThe example shows the small differences that exist between\nBonferroni-corrected p-values and family-wise corrected p-values obtained\nfrom a permutation test combined\nwith a max-type procedure (:footcite:t:`Anderson2001`).\nBonferroni correction is a bit conservative, as revealed by the presence of\na few false negative.\n\n.. include:: ../../../examples/masker_note.rst\n\n..\n    Original authors:\n\n    - Virgile Fritsch, Feb. 2014\n"
      ]
    },
    {
      "cell_type": "markdown",
      "metadata": {},
      "source": [
        "Load Haxby dataset\n\n"
      ]
    },
    {
      "cell_type": "code",
      "execution_count": null,
      "metadata": {
        "collapsed": false
      },
      "outputs": [],
      "source": [
        "from nilearn import datasets, image\nfrom nilearn.plotting import plot_stat_map, show\n\nhaxby_dataset = datasets.fetch_haxby(subjects=[2])\n\n# print basic information on the dataset\nprint(f\"Mask nifti image (3D) is located at: {haxby_dataset.mask}\")\nprint(f\"Functional nifti image (4D) is located at: {haxby_dataset.func[0]}\")"
      ]
    },
    {
      "cell_type": "markdown",
      "metadata": {},
      "source": [
        "Restrict to faces and houses\n\n"
      ]
    },
    {
      "cell_type": "code",
      "execution_count": null,
      "metadata": {
        "collapsed": false
      },
      "outputs": [],
      "source": [
        "import numpy as np\nimport pandas as pd\n\nlabels = pd.read_csv(haxby_dataset.session_target[0], sep=\" \")\nconditions = labels[\"labels\"]\ncategories = conditions.unique()\nconditions_encoded = np.zeros_like(conditions)\nfor c, category in enumerate(categories):\n    conditions_encoded[conditions == category] = c\nruns = labels[\"chunks\"]\ncondition_mask = conditions.isin([\"face\", \"house\"])\nconditions_encoded = conditions_encoded[condition_mask]"
      ]
    },
    {
      "cell_type": "markdown",
      "metadata": {},
      "source": [
        "Mask data\n\n"
      ]
    },
    {
      "cell_type": "code",
      "execution_count": null,
      "metadata": {
        "collapsed": false
      },
      "outputs": [],
      "source": [
        "from nilearn.image import index_img\nfrom nilearn.maskers import NiftiMasker\n\nmask_filename = haxby_dataset.mask\n\nnifti_masker = NiftiMasker(\n    smoothing_fwhm=8,\n    mask_img=mask_filename,\n    memory=\"nilearn_cache\",  # cache options\n    memory_level=1,\n)\nfunc_filename = haxby_dataset.func[0]\nfunc_reduced = index_img(func_filename, condition_mask)\nfmri_masked = nifti_masker.fit_transform(func_reduced)\n\n# We consider the mean image per run and per condition.\n# Otherwise, the observations cannot be exchanged at random because\n# a time dependence exists between observations within a same run.\nn_runs = np.unique(runs).size\nconditions_per_run = 2\ngrouped_fmri_masked = np.empty(\n    (conditions_per_run * n_runs, fmri_masked.shape[1])\n)\ngrouped_conditions_encoded = np.empty((conditions_per_run * n_runs, 1))\n\nfor s in range(n_runs):\n    run_mask = runs[condition_mask] == s\n    run_house_mask = np.logical_and(\n        run_mask, conditions[condition_mask] == \"house\"\n    )\n    run_face_mask = np.logical_and(\n        run_mask, conditions[condition_mask] == \"face\"\n    )\n    grouped_fmri_masked[2 * s] = fmri_masked[run_house_mask].mean(0)\n    grouped_fmri_masked[2 * s + 1] = fmri_masked[run_face_mask].mean(0)\n    grouped_conditions_encoded[2 * s] = conditions_encoded[run_house_mask][0]\n    grouped_conditions_encoded[2 * s + 1] = conditions_encoded[run_face_mask][\n        0\n    ]"
      ]
    },
    {
      "cell_type": "markdown",
      "metadata": {},
      "source": [
        "Perform massively univariate analysis with permuted OLS\n\nWe use a two-sided t-test to compute p-values, but we keep trace of the\neffect sign to add it back at the end and thus observe the signed effect\n\n"
      ]
    },
    {
      "cell_type": "code",
      "execution_count": null,
      "metadata": {
        "collapsed": false
      },
      "outputs": [],
      "source": [
        "from nilearn.mass_univariate import permuted_ols\n\n# Note that an intercept as a covariate is used by default\nneg_log_pvals, t_scores_original_data, _ = permuted_ols(\n    grouped_conditions_encoded,\n    grouped_fmri_masked,\n    n_perm=10000,\n    two_sided_test=True,\n    verbose=1,  # display progress bar\n    n_jobs=2,  # can be changed to use more CPUs\n)\nsigned_neg_log_pvals = neg_log_pvals * np.sign(t_scores_original_data)\nsigned_neg_log_pvals_unmasked = nifti_masker.inverse_transform(\n    signed_neg_log_pvals\n)"
      ]
    },
    {
      "cell_type": "markdown",
      "metadata": {},
      "source": [
        "scikit-learn F-scores for comparison\n\nF-test does not allow to observe the effect sign (pure two-sided test)\n\n"
      ]
    },
    {
      "cell_type": "code",
      "execution_count": null,
      "metadata": {
        "collapsed": false
      },
      "outputs": [],
      "source": [
        "from sklearn.feature_selection import f_regression\n\n# f_regression implicitly adds intercept\n_, pvals_bonferroni = f_regression(\n    grouped_fmri_masked,\n    grouped_conditions_encoded.ravel(),\n)\npvals_bonferroni *= fmri_masked.shape[1]\npvals_bonferroni[np.isnan(pvals_bonferroni)] = 1\npvals_bonferroni[pvals_bonferroni > 1] = 1\nneg_log_pvals_bonferroni = -np.log10(pvals_bonferroni)\nneg_log_pvals_bonferroni_unmasked = nifti_masker.inverse_transform(\n    neg_log_pvals_bonferroni\n)"
      ]
    },
    {
      "cell_type": "markdown",
      "metadata": {},
      "source": [
        "Visualization\n\n"
      ]
    },
    {
      "cell_type": "code",
      "execution_count": null,
      "metadata": {
        "collapsed": false
      },
      "outputs": [],
      "source": [
        "import matplotlib.pyplot as plt\n\nfrom nilearn.image import get_data\n\n# Use the fMRI mean image as a surrogate of anatomical data\nmean_fmri_img = image.mean_img(func_filename, copy_header=True)\n\nthreshold = -np.log10(0.1)  # 10% corrected\n\nvmax = min(signed_neg_log_pvals.max(), neg_log_pvals_bonferroni.max())\n\n# Plot thresholded p-values map corresponding to F-scores\ndisplay = plot_stat_map(\n    neg_log_pvals_bonferroni_unmasked,\n    mean_fmri_img,\n    threshold=threshold,\n    cmap=plt.cm.RdBu_r,\n    display_mode=\"z\",\n    cut_coords=[-1],\n    vmax=vmax,\n)\n\nneg_log_pvals_bonferroni_data = get_data(neg_log_pvals_bonferroni_unmasked)\nn_detections = (neg_log_pvals_bonferroni_data > threshold).sum()\ntitle = (\n    \"Negative $\\\\log_{10}$ p-values\"\n    \"\\n(Parametric two-sided F-test\"\n    \"\\n+ Bonferroni correction)\"\n    f\"\\n{n_detections} detections\"\n)\n\ndisplay.title(title, size=10)\n\n# Plot permutation p-values map\ndisplay = plot_stat_map(\n    signed_neg_log_pvals_unmasked,\n    mean_fmri_img,\n    threshold=threshold,\n    cmap=plt.cm.RdBu_r,\n    display_mode=\"z\",\n    cut_coords=[-1],\n    vmax=vmax,\n)\n\nn_detections = (np.abs(signed_neg_log_pvals) > threshold).sum()\ntitle = (\n    \"Negative $\\\\log_{10}$ p-values\"\n    \"\\n(Non-parametric two-sided test\"\n    \"\\n+ max-type correction)\"\n    f\"\\n{n_detections} detections\"\n)\n\ndisplay.title(title, size=10)\n\nshow()"
      ]
    },
    {
      "cell_type": "markdown",
      "metadata": {},
      "source": [
        "## References\n\n .. footbibliography::\n\n"
      ]
    }
  ],
  "metadata": {
    "kernelspec": {
      "display_name": "Python 3",
      "language": "python",
      "name": "python3"
    },
    "language_info": {
      "codemirror_mode": {
        "name": "ipython",
        "version": 3
      },
      "file_extension": ".py",
      "mimetype": "text/x-python",
      "name": "python",
      "nbconvert_exporter": "python",
      "pygments_lexer": "ipython3",
      "version": "3.9.19"
    }
  },
  "nbformat": 4,
  "nbformat_minor": 0
}
