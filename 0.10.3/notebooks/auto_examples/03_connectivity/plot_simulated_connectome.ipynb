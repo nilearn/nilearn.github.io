{
  "cells": [
    {
      "cell_type": "markdown",
      "metadata": {},
      "source": [
        "\n# Connectivity structure estimation on simulated data\n\nThis example shows a comparison of graph lasso and group-sparse covariance\nestimation of connectivity structure for a synthetic dataset.\n"
      ]
    },
    {
      "cell_type": "code",
      "execution_count": null,
      "metadata": {
        "collapsed": false
      },
      "outputs": [],
      "source": [
        "from nilearn import plotting"
      ]
    },
    {
      "cell_type": "markdown",
      "metadata": {},
      "source": [
        "Generate synthetic data\n\n"
      ]
    },
    {
      "cell_type": "code",
      "execution_count": null,
      "metadata": {
        "collapsed": false
      },
      "outputs": [],
      "source": [
        "from nilearn._utils.data_gen import generate_group_sparse_gaussian_graphs\n\nn_subjects = 20\nn_displayed = 3\nsubjects, precisions, _ = generate_group_sparse_gaussian_graphs(\n    n_subjects=n_subjects,\n    n_features=10,\n    min_n_samples=30,\n    max_n_samples=50,\n    density=0.1,\n)"
      ]
    },
    {
      "cell_type": "markdown",
      "metadata": {},
      "source": [
        "Run connectome estimations and plot the results\n\n"
      ]
    },
    {
      "cell_type": "code",
      "execution_count": null,
      "metadata": {
        "collapsed": false
      },
      "outputs": [],
      "source": [
        "import matplotlib.pyplot as plt\n\nfig = plt.figure(figsize=(10, 7))\nplt.subplots_adjust(hspace=0.4)\nfor n in range(n_displayed):\n    ax = plt.subplot(n_displayed, 4, 4 * n + 1)\n    max_precision = precisions[n].max()\n    plotting.plot_matrix(\n        precisions[n],\n        vmin=-max_precision,\n        vmax=max_precision,\n        axes=ax,\n        colorbar=False,\n    )\n\n    if n == 0:\n        plt.title(\"ground truth\")\n    plt.ylabel(f\"subject {int(n)}\")\n\n\n# Run group-sparse covariance on all subjects\nfrom nilearn.connectome import GroupSparseCovarianceCV\n\ngsc = GroupSparseCovarianceCV(max_iter=50, verbose=1)\ngsc.fit(subjects)\n\nfor n in range(n_displayed):\n    ax = plt.subplot(n_displayed, 4, 4 * n + 2)\n    max_precision = gsc.precisions_[..., n].max()\n    plotting.plot_matrix(\n        gsc.precisions_[..., n],\n        axes=ax,\n        vmin=-max_precision,\n        vmax=max_precision,\n        colorbar=False,\n    )\n    if n == 0:\n        plt.title(f\"group-sparse\\n$\\\\alpha={gsc.alpha_:.2f}$\")\n\n\n# Fit one graph lasso per subject\ntry:\n    from sklearn.covariance import GraphicalLassoCV\nexcept ImportError:\n    # for Scitkit-Learn < v0.20.0\n    from sklearn.covariance import GraphLassoCV as GraphicalLassoCV\n\ngl = GraphicalLassoCV(verbose=1)\n\nfor n, subject in enumerate(subjects[:n_displayed]):\n    gl.fit(subject)\n\n    ax = plt.subplot(n_displayed, 4, 4 * n + 3)\n    max_precision = gl.precision_.max()\n    plotting.plot_matrix(\n        gl.precision_,\n        axes=ax,\n        vmin=-max_precision,\n        vmax=max_precision,\n        colorbar=False,\n    )\n    if n == 0:\n        plt.title(\"graph lasso\")\n    plt.ylabel(f\"$\\\\alpha={gl.alpha_:.2f}$\")\n\n\n# Fit one graph lasso for all subjects at once\nimport numpy as np\n\ngl.fit(np.concatenate(subjects))\n\nax = plt.subplot(n_displayed, 4, 4)\nmax_precision = gl.precision_.max()\nplotting.plot_matrix(\n    gl.precision_,\n    axes=ax,\n    vmin=-max_precision,\n    vmax=max_precision,\n    colorbar=False,\n)\nplt.title(f\"graph lasso, all subjects\\n$\\\\alpha={gl.alpha_:.2f}$\")\n\nplotting.show()"
      ]
    }
  ],
  "metadata": {
    "kernelspec": {
      "display_name": "Python 3",
      "language": "python",
      "name": "python3"
    },
    "language_info": {
      "codemirror_mode": {
        "name": "ipython",
        "version": 3
      },
      "file_extension": ".py",
      "mimetype": "text/x-python",
      "name": "python",
      "nbconvert_exporter": "python",
      "pygments_lexer": "ipython3",
      "version": "3.11.3"
    }
  },
  "nbformat": 4,
  "nbformat_minor": 0
}
