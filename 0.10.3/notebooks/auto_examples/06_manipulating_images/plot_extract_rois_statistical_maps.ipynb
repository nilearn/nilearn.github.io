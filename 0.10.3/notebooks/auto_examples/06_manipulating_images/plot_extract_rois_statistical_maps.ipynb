{
  "cells": [
    {
      "cell_type": "markdown",
      "metadata": {},
      "source": [
        "\n# Region Extraction using a t-statistical map (3D)\n\nThis example shows how to extract regions or separate the regions\nfrom a statistical map.\n\nWe use localizer t-statistic maps from\n:func:`nilearn.datasets.fetch_neurovault_auditory_computation_task`\nas an input image.\n\nThe idea is to threshold an image to get foreground objects using a\nfunction :func:`nilearn.image.threshold_img` and\nextract objects using a function\n:func:`nilearn.regions.connected_regions`.\n"
      ]
    },
    {
      "cell_type": "markdown",
      "metadata": {},
      "source": [
        "Fetching t-statistic image of localizer contrasts by loading from datasets\nutilities\n\n"
      ]
    },
    {
      "cell_type": "code",
      "execution_count": null,
      "metadata": {
        "collapsed": false
      },
      "outputs": [],
      "source": [
        "from nilearn import datasets\n\nlocalizer = datasets.fetch_neurovault_auditory_computation_task()\ntmap_filename = localizer.images[0]"
      ]
    },
    {
      "cell_type": "markdown",
      "metadata": {},
      "source": [
        "Threshold the t-statistic image by importing threshold function\n\n"
      ]
    },
    {
      "cell_type": "code",
      "execution_count": null,
      "metadata": {
        "collapsed": false
      },
      "outputs": [],
      "source": [
        "from nilearn.image import threshold_img\n\n# Two types of strategies can be used from this threshold function\n# Type 1: strategy used will be based on scoreatpercentile\nthreshold_percentile_img = threshold_img(\n    tmap_filename, threshold=\"97%\", copy=False\n)\n\n\n# Type 2: threshold strategy used will be based on image intensity\n# Here, threshold value should be within the limits i.e. less than max value.\nthreshold_value_img = threshold_img(tmap_filename, threshold=3.0, copy=False)"
      ]
    },
    {
      "cell_type": "markdown",
      "metadata": {},
      "source": [
        "Visualization\nShowing thresholding results by importing plotting modules and its utilities\n\n"
      ]
    },
    {
      "cell_type": "code",
      "execution_count": null,
      "metadata": {
        "collapsed": false
      },
      "outputs": [],
      "source": [
        "from nilearn import plotting\n\n# Showing percentile threshold image\nplotting.plot_stat_map(\n    threshold_percentile_img,\n    display_mode=\"z\",\n    cut_coords=5,\n    title=\"Threshold image with string percentile\",\n    colorbar=False,\n)\n\n# Showing intensity threshold image\nplotting.plot_stat_map(\n    threshold_value_img,\n    display_mode=\"z\",\n    cut_coords=5,\n    title=\"Threshold image with intensity value\",\n    colorbar=False,\n)"
      ]
    },
    {
      "cell_type": "markdown",
      "metadata": {},
      "source": [
        "Extracting the regions by importing connected regions function\n\n"
      ]
    },
    {
      "cell_type": "code",
      "execution_count": null,
      "metadata": {
        "collapsed": false
      },
      "outputs": [],
      "source": [
        "from nilearn.regions import connected_regions\n\nregions_percentile_img, index = connected_regions(\n    threshold_percentile_img, min_region_size=1500\n)\n\nregions_value_img, index = connected_regions(\n    threshold_value_img, min_region_size=1500\n)"
      ]
    },
    {
      "cell_type": "markdown",
      "metadata": {},
      "source": [
        "Visualizing region extraction results\n\n"
      ]
    },
    {
      "cell_type": "code",
      "execution_count": null,
      "metadata": {
        "collapsed": false
      },
      "outputs": [],
      "source": [
        "images = [regions_percentile_img, regions_value_img]\nfor image, strategy in zip(images, [\"percentile\", \"image intensity\"]):\n    title = (\n        f\"ROIs using {strategy} thresholding. \"\n        \"Each ROI in same color is an extracted region\"\n    )\n    plotting.plot_prob_atlas(\n        image,\n        bg_img=tmap_filename,\n        view_type=\"contours\",\n        display_mode=\"z\",\n        cut_coords=5,\n        title=title,\n    )\nplotting.show()"
      ]
    }
  ],
  "metadata": {
    "kernelspec": {
      "display_name": "Python 3",
      "language": "python",
      "name": "python3"
    },
    "language_info": {
      "codemirror_mode": {
        "name": "ipython",
        "version": 3
      },
      "file_extension": ".py",
      "mimetype": "text/x-python",
      "name": "python",
      "nbconvert_exporter": "python",
      "pygments_lexer": "ipython3",
      "version": "3.11.3"
    }
  },
  "nbformat": 4,
  "nbformat_minor": 0
}
