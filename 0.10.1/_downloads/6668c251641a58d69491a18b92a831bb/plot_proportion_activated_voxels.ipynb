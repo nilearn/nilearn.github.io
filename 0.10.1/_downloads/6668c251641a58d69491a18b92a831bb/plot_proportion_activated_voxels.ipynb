{
  "cells": [
    {
      "cell_type": "markdown",
      "metadata": {},
      "source": [
        "\n# Second-level fMRI model: true positive proportion in clusters\n\nThis script showcases the so-called \"All resolution inference\" procedure, in\nwhich the proportion of true discoveries in arbitrary clusters is estimated.\nThe clusters can be defined from the input image, i.e. in a circular way, as\nthe error control accounts for arbitrary cluster selection.\n\nRosenblatt JD, Finos L, Weeda WD, Solari A, Goeman JJ. All-Resolutions\nInference for brain imaging. Neuroimage. 2018 Nov 1;181:786-796. doi:\n10.1016/j.neuroimage.2018.07.060\n"
      ]
    },
    {
      "cell_type": "markdown",
      "metadata": {},
      "source": [
        "## Fetch dataset\nWe download a list of left vs right button press contrasts from a\nlocalizer dataset. Note that we fetch individual t-maps that represent the\nBOLD activity estimate divided by the uncertainty about this estimate.\n\n"
      ]
    },
    {
      "cell_type": "code",
      "execution_count": null,
      "metadata": {
        "collapsed": false
      },
      "outputs": [],
      "source": [
        "from nilearn.datasets import fetch_localizer_contrasts\n\nn_subjects = 16\ndata = fetch_localizer_contrasts(\n    [\"left vs right button press\"],\n    n_subjects,\n    get_tmaps=True,\n    legacy_format=False,\n)"
      ]
    },
    {
      "cell_type": "markdown",
      "metadata": {},
      "source": [
        "## Estimate second level model\nWe define the input maps and the design matrix for the second level model\nand fit it.\n\n"
      ]
    },
    {
      "cell_type": "code",
      "execution_count": null,
      "metadata": {
        "collapsed": false
      },
      "outputs": [],
      "source": [
        "import pandas as pd\n\nsecond_level_input = data[\"cmaps\"]\ndesign_matrix = pd.DataFrame(\n    [1] * len(second_level_input), columns=[\"intercept\"]\n)"
      ]
    },
    {
      "cell_type": "markdown",
      "metadata": {},
      "source": [
        "Model specification and fit\n\n"
      ]
    },
    {
      "cell_type": "code",
      "execution_count": null,
      "metadata": {
        "collapsed": false
      },
      "outputs": [],
      "source": [
        "from nilearn.glm.second_level import SecondLevelModel\n\nsecond_level_model = SecondLevelModel(smoothing_fwhm=8.0)\nsecond_level_model = second_level_model.fit(\n    second_level_input, design_matrix=design_matrix\n)"
      ]
    },
    {
      "cell_type": "markdown",
      "metadata": {},
      "source": [
        "To estimate the contrast is very simple. We can just provide the column\nname of the design matrix.\n\n"
      ]
    },
    {
      "cell_type": "code",
      "execution_count": null,
      "metadata": {
        "collapsed": false
      },
      "outputs": [],
      "source": [
        "z_map = second_level_model.compute_contrast(output_type=\"z_score\")"
      ]
    },
    {
      "cell_type": "markdown",
      "metadata": {},
      "source": [
        "We threshold the second level contrast at uncorrected p < 0.001 and plot\n\n"
      ]
    },
    {
      "cell_type": "code",
      "execution_count": null,
      "metadata": {
        "collapsed": false
      },
      "outputs": [],
      "source": [
        "from scipy.stats import norm\n\np_val = 0.001\np001_uncorrected = norm.isf(p_val)\n\nfrom nilearn.glm import cluster_level_inference\n\nproportion_true_discoveries_img = cluster_level_inference(\n    z_map, threshold=[3, 4, 5], alpha=0.05\n)\n\nfrom nilearn import plotting\n\nplotting.plot_stat_map(\n    proportion_true_discoveries_img,\n    threshold=0.0,\n    display_mode=\"z\",\n    vmax=1,\n    colorbar=True,\n    title=\"group left-right button press, proportion true positives\",\n)\n\nplotting.plot_stat_map(\n    z_map,\n    threshold=p001_uncorrected,\n    colorbar=True,\n    display_mode=\"z\",\n    title=\"group left-right button press (uncorrected p < 0.001)\",\n)\n\nplotting.show()"
      ]
    }
  ],
  "metadata": {
    "kernelspec": {
      "display_name": "Python 3",
      "language": "python",
      "name": "python3"
    },
    "language_info": {
      "codemirror_mode": {
        "name": "ipython",
        "version": 3
      },
      "file_extension": ".py",
      "mimetype": "text/x-python",
      "name": "python",
      "nbconvert_exporter": "python",
      "pygments_lexer": "ipython3",
      "version": "3.10.4"
    }
  },
  "nbformat": 4,
  "nbformat_minor": 0
}
