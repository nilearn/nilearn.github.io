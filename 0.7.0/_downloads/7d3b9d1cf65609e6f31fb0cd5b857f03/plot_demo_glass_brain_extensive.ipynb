{
  "cells": [
    {
      "cell_type": "code",
      "execution_count": null,
      "metadata": {
        "collapsed": false
      },
      "outputs": [],
      "source": [
        "%matplotlib inline"
      ]
    },
    {
      "cell_type": "markdown",
      "metadata": {},
      "source": [
        "\nGlass brain plotting in nilearn (all options)\n=============================================\n\nFirst part of this example goes through different options of the\n:func:`nilearn.plotting.plot_glass_brain` function (including plotting\nnegative values).\n\nSecond part, goes through same options but selected of the same glass brain\nfunction but plotting is seen with contours.\n\nSee `plotting` for more plotting functionalities and\n`Section 4.3 <display_modules>` for more details about display objects\nin Nilearn.\n\nAlso, see :func:`nilearn.datasets.fetch_neurovault_motor_task` for details\nabout the plotting data and associated meta-data.\n"
      ]
    },
    {
      "cell_type": "markdown",
      "metadata": {},
      "source": [
        "Retrieve the data\n------------------\n\nNilearn comes with set of functions that download public data from Internet\n\nLet us first see where the data will be downloded and stored on our disk:\n\n\n"
      ]
    },
    {
      "cell_type": "code",
      "execution_count": null,
      "metadata": {
        "collapsed": false
      },
      "outputs": [],
      "source": [
        "from nilearn import datasets\nprint('Datasets shipped with nilearn are stored in: %r' % datasets.get_data_dirs())"
      ]
    },
    {
      "cell_type": "markdown",
      "metadata": {},
      "source": [
        "Let us now retrieve a motor task contrast map\n\u00a0corresponding to a group one-sample t-test\n\n"
      ]
    },
    {
      "cell_type": "code",
      "execution_count": null,
      "metadata": {
        "collapsed": false
      },
      "outputs": [],
      "source": [
        "motor_images = datasets.fetch_neurovault_motor_task()\nstat_img = motor_images.images[0]\n# stat_img is just the name of the file that we downloded\nstat_img"
      ]
    },
    {
      "cell_type": "markdown",
      "metadata": {},
      "source": [
        "Demo glass brain plotting\n--------------------------\n\n"
      ]
    },
    {
      "cell_type": "code",
      "execution_count": null,
      "metadata": {
        "collapsed": false
      },
      "outputs": [],
      "source": [
        "from nilearn import plotting\n\n# Whole brain sagittal cuts and map is thresholded at 3\nplotting.plot_glass_brain(stat_img, threshold=3)"
      ]
    },
    {
      "cell_type": "markdown",
      "metadata": {},
      "source": [
        "With a colorbar\n\n"
      ]
    },
    {
      "cell_type": "code",
      "execution_count": null,
      "metadata": {
        "collapsed": false
      },
      "outputs": [],
      "source": [
        "plotting.plot_glass_brain(stat_img, threshold=3, colorbar=True)"
      ]
    },
    {
      "cell_type": "markdown",
      "metadata": {},
      "source": [
        "Black background, and only the (x, z) cuts\n\n"
      ]
    },
    {
      "cell_type": "code",
      "execution_count": null,
      "metadata": {
        "collapsed": false
      },
      "outputs": [],
      "source": [
        "plotting.plot_glass_brain(stat_img, title='plot_glass_brain',\n                          black_bg=True, display_mode='xz', threshold=3)"
      ]
    },
    {
      "cell_type": "markdown",
      "metadata": {},
      "source": [
        "Plotting the sign of the activation with plot_abs to False\n\n"
      ]
    },
    {
      "cell_type": "code",
      "execution_count": null,
      "metadata": {
        "collapsed": false
      },
      "outputs": [],
      "source": [
        "plotting.plot_glass_brain(stat_img, threshold=0, colorbar=True,\n                          plot_abs=False)"
      ]
    },
    {
      "cell_type": "markdown",
      "metadata": {},
      "source": [
        "The sign of the activation and a colorbar\n\n"
      ]
    },
    {
      "cell_type": "code",
      "execution_count": null,
      "metadata": {
        "collapsed": false
      },
      "outputs": [],
      "source": [
        "plotting.plot_glass_brain(stat_img, threshold=3,\n                          colorbar=True, plot_abs=False)"
      ]
    },
    {
      "cell_type": "markdown",
      "metadata": {},
      "source": [
        "Different projections for the left and right hemispheres\n---------------------------------------------------------\n\nHemispheric sagittal cuts\n\n"
      ]
    },
    {
      "cell_type": "code",
      "execution_count": null,
      "metadata": {
        "collapsed": false
      },
      "outputs": [],
      "source": [
        "plotting.plot_glass_brain(stat_img,\n                          title='plot_glass_brain with display_mode=\"lzr\"',\n                          black_bg=True, display_mode='lzr', threshold=3)"
      ]
    },
    {
      "cell_type": "code",
      "execution_count": null,
      "metadata": {
        "collapsed": false
      },
      "outputs": [],
      "source": [
        "plotting.plot_glass_brain(stat_img, threshold=0, colorbar=True,\n                          title='plot_glass_brain with display_mode=\"lyrz\"',\n                          plot_abs=False, display_mode='lyrz')"
      ]
    },
    {
      "cell_type": "markdown",
      "metadata": {},
      "source": [
        "Demo glass brain plotting with contours and with fillings\n---------------------------------------------------------\nTo plot maps with contours, we call the plotting function into variable from\nwhich we can use specific display features which are inherited automatically.\nIn this case, we focus on using add_contours\nFirst, we initialize the plotting function into \"display\" and first\nargument set to None since we want an empty glass brain to plotting the\nstatistical maps with \"add_contours\"\n\n"
      ]
    },
    {
      "cell_type": "code",
      "execution_count": null,
      "metadata": {
        "collapsed": false
      },
      "outputs": [],
      "source": [
        "display = plotting.plot_glass_brain(None)\n# Here, we project statistical maps\ndisplay.add_contours(stat_img)\n# and a title\ndisplay.title('\"stat_img\" on glass brain without threshold')"
      ]
    },
    {
      "cell_type": "markdown",
      "metadata": {},
      "source": [
        "Plotting with `filled=True` implies contours with fillings. Here, we are not\nspecifying levels\n\n"
      ]
    },
    {
      "cell_type": "code",
      "execution_count": null,
      "metadata": {
        "collapsed": false
      },
      "outputs": [],
      "source": [
        "display = plotting.plot_glass_brain(None)\n# Here, we project statistical maps with filled=True\ndisplay.add_contours(stat_img, filled=True)\n# and a title\ndisplay.title('Same map but with fillings in the contours')"
      ]
    },
    {
      "cell_type": "markdown",
      "metadata": {},
      "source": [
        "Here, we input specific level (cut-off) in the statistical map. In other way,\nwe are thresholding our statistical map\n\n"
      ]
    },
    {
      "cell_type": "code",
      "execution_count": null,
      "metadata": {
        "collapsed": false
      },
      "outputs": [],
      "source": [
        "# Here, we set the threshold using parameter called `levels` with value given\n# in a list and choosing color to Red.\ndisplay = plotting.plot_glass_brain(None)\ndisplay.add_contours(stat_img, levels=[3.], colors='r')\ndisplay.title('\"stat_img\" on glass brain with threshold')"
      ]
    },
    {
      "cell_type": "markdown",
      "metadata": {},
      "source": [
        "Plotting with same demonstration but inlcudes now filled=True\n\n"
      ]
    },
    {
      "cell_type": "code",
      "execution_count": null,
      "metadata": {
        "collapsed": false
      },
      "outputs": [],
      "source": [
        "display = plotting.plot_glass_brain(None)\ndisplay.add_contours(stat_img, filled=True, levels=[3.], colors='r')\ndisplay.title('Same demonstration but using fillings inside contours')"
      ]
    },
    {
      "cell_type": "markdown",
      "metadata": {},
      "source": [
        "Plotting with black background, `black_bg` should be set with\n`plot_glass_brain`\n\n"
      ]
    },
    {
      "cell_type": "code",
      "execution_count": null,
      "metadata": {
        "collapsed": false
      },
      "outputs": [],
      "source": [
        "# We can set black background using black_bg=True\ndisplay = plotting.plot_glass_brain(None, black_bg=True)\ndisplay.add_contours(stat_img, levels=[3.], colors='g')\ndisplay.title('\"stat_img\" on glass brain with black background')"
      ]
    },
    {
      "cell_type": "markdown",
      "metadata": {},
      "source": [
        "Black background plotting with filled in contours\n\n"
      ]
    },
    {
      "cell_type": "code",
      "execution_count": null,
      "metadata": {
        "collapsed": false
      },
      "outputs": [],
      "source": [
        "display = plotting.plot_glass_brain(None, black_bg=True)\ndisplay.add_contours(stat_img, filled=True, levels=[3.], colors='g')\ndisplay.title('Glass brain with black background and filled in contours')"
      ]
    },
    {
      "cell_type": "markdown",
      "metadata": {},
      "source": [
        "Display contour projections in both hemispheres\n-------------------------------------------------\nKey argument to vary here is `display_mode` for hemispheric plotting\n\n"
      ]
    },
    {
      "cell_type": "code",
      "execution_count": null,
      "metadata": {
        "collapsed": false
      },
      "outputs": [],
      "source": [
        "# Now, display_mode is chosen as 'lr' for both hemispheric plots\ndisplay = plotting.plot_glass_brain(None, display_mode='lr')\ndisplay.add_contours(stat_img, levels=[3.], colors='r')\ndisplay.title('\"stat_img\" on glass brain only \"l\" \"r\" hemispheres')"
      ]
    },
    {
      "cell_type": "markdown",
      "metadata": {},
      "source": [
        "Filled contours in both hemispheric plotting, just by adding filled=True\n\n"
      ]
    },
    {
      "cell_type": "code",
      "execution_count": null,
      "metadata": {
        "collapsed": false
      },
      "outputs": [],
      "source": [
        "display = plotting.plot_glass_brain(None, display_mode='lr')\ndisplay.add_contours(stat_img, filled=True, levels=[3.], colors='r')\ndisplay.title('Filled contours on glass brain only \"l\" \"r\" hemispheres')"
      ]
    },
    {
      "cell_type": "markdown",
      "metadata": {},
      "source": [
        "With positive and negative sign of activations with `plot_abs` in\n`plot_glass_brain`\n\n"
      ]
    },
    {
      "cell_type": "code",
      "execution_count": null,
      "metadata": {
        "collapsed": false
      },
      "outputs": [],
      "source": [
        "# By default parameter `plot_abs` is True and sign of activations can be\n# displayed by changing `plot_abs` to False\ndisplay = plotting.plot_glass_brain(None, plot_abs=False, display_mode='lzry')\ndisplay.add_contours(stat_img)\ndisplay.title(\"Contours with both sign of activations without threshold\")"
      ]
    },
    {
      "cell_type": "markdown",
      "metadata": {},
      "source": [
        "Now, adding just filled=True to get positive and negative sign activations\nwith fillings in the contours\n\n"
      ]
    },
    {
      "cell_type": "code",
      "execution_count": null,
      "metadata": {
        "collapsed": false
      },
      "outputs": [],
      "source": [
        "display = plotting.plot_glass_brain(None, plot_abs=False, display_mode='lzry')\ndisplay.add_contours(stat_img, filled=True)\ndisplay.title(\"Filled contours with both sign of activations without threshold\")"
      ]
    },
    {
      "cell_type": "markdown",
      "metadata": {},
      "source": [
        "Displaying both signs (positive and negative) of activations with threshold\nmeaning thresholding by adding an argument `levels` in add_contours.\n\n"
      ]
    },
    {
      "cell_type": "code",
      "execution_count": null,
      "metadata": {
        "collapsed": false
      },
      "outputs": [],
      "source": [
        "import numpy as np\ndisplay = plotting.plot_glass_brain(None, plot_abs=False, display_mode='lzry')\n\n# In add_contours,\n# we give two values through the argument `levels` which corresponds to the\n# thresholds of the contour we want to draw: One is positive and the other one\n# is negative. We give a list of `colors` as argument to associate a different\n# color to each contour. Additionally, we also choose to plot contours with\n# thick line widths, For linewidths one value would be enough so that same\n# value is used for both contours.\ndisplay.add_contours(stat_img, levels=[-2.8, 3.], colors=['b', 'r'],\n                     linewidths=4.)\ndisplay.title('Contours with sign of activations with threshold')"
      ]
    },
    {
      "cell_type": "markdown",
      "metadata": {},
      "source": [
        "Same display demonstration as above but just adding filled=True to get\nfillings inside the contours.\n\n"
      ]
    },
    {
      "cell_type": "code",
      "execution_count": null,
      "metadata": {
        "collapsed": false
      },
      "outputs": [],
      "source": [
        "# Unlike in previous plot, here we specify each sign at a time. We call negative\n# values display first followed by positive values display.\n\n# First, we fetch our display object with same parametes used as above\ndisplay = plotting.plot_glass_brain(None, plot_abs=False, display_mode='lzry')\n\n# Second, we plot negative sign of activation with levels given as negative\n# activation value in a list. Upper bound should be kept to -infinity\ndisplay.add_contours(stat_img, filled=True, levels=[-np.inf, -2.8],\n                     colors='b')\n# Next, within same plotting object we plot positive sign of activation\ndisplay.add_contours(stat_img, filled=True, levels=[3.], colors='r')\ndisplay.title('Now same plotting but with filled contours')\n\n# Finally, displaying them\nplotting.show()"
      ]
    }
  ],
  "metadata": {
    "kernelspec": {
      "display_name": "Python 3",
      "language": "python",
      "name": "python3"
    },
    "language_info": {
      "codemirror_mode": {
        "name": "ipython",
        "version": 3
      },
      "file_extension": ".py",
      "mimetype": "text/x-python",
      "name": "python",
      "nbconvert_exporter": "python",
      "pygments_lexer": "ipython3",
      "version": "3.8.5"
    }
  },
  "nbformat": 4,
  "nbformat_minor": 0
}