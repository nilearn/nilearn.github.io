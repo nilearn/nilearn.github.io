{
  "cells": [
    {
      "cell_type": "code",
      "execution_count": null,
      "metadata": {
        "collapsed": false
      },
      "outputs": [],
      "source": [
        "%matplotlib inline"
      ]
    },
    {
      "cell_type": "markdown",
      "metadata": {},
      "source": [
        "\nSecond-level fMRI model: one sample test\n========================================\n\nFull step-by-step example of fitting a GLM to perform a second-level analysis\n(one-sample test) and visualizing the results.\n\nMore specifically:\n\n1. A sequence of subject fMRI button press contrasts is downloaded.\n2. A mask of the useful brain volume is computed.\n3. A one-sample t-test is applied to the brain maps.\n\nWe focus on a given contrast of the localizer dataset: the motor response to\nleft versus right button press. Both at the individual and group level, this is\nexpected to elicit activity in the motor cortex (positive in the right\nhemisphere, negative in the left hemisphere).\n"
      ]
    },
    {
      "cell_type": "markdown",
      "metadata": {},
      "source": [
        "Fetch dataset\n--------------\nWe download a list of left vs right button press contrasts from a localizer\ndataset. Note that we fetch individual t-maps that represent the Bold\nactivity estimate divided by the uncertainty about this estimate.\n\n"
      ]
    },
    {
      "cell_type": "code",
      "execution_count": null,
      "metadata": {
        "collapsed": false
      },
      "outputs": [],
      "source": [
        "from nilearn.datasets import fetch_localizer_contrasts\nn_subjects = 16\ndata = fetch_localizer_contrasts([\"left vs right button press\"], n_subjects,\n                                 get_tmaps=True)"
      ]
    },
    {
      "cell_type": "markdown",
      "metadata": {},
      "source": [
        "Display subject t_maps\n----------------------\nWe plot a grid with all the subjects t-maps thresholded at t = 2 for simple\nvisualization purposes. The button press effect is visible among all\nsubjects.\n\n"
      ]
    },
    {
      "cell_type": "code",
      "execution_count": null,
      "metadata": {
        "collapsed": false
      },
      "outputs": [],
      "source": [
        "from nilearn import plotting\nimport matplotlib.pyplot as plt\nsubjects = [subject_data[0] for subject_data in data['ext_vars']]\nfig, axes = plt.subplots(nrows=4, ncols=4)\nfor cidx, tmap in enumerate(data['tmaps']):\n    plotting.plot_glass_brain(tmap, colorbar=False, threshold=2.0,\n                              title=subjects[cidx],\n                              axes=axes[int(cidx / 4), int(cidx % 4)],\n                              plot_abs=False, display_mode='z')\nfig.suptitle('subjects t_map left-right button press')\nplt.show()"
      ]
    },
    {
      "cell_type": "markdown",
      "metadata": {},
      "source": [
        "Estimate second level model\n---------------------------\nWe define the input maps and the design matrix for the second level model\nand fit it.\n\n"
      ]
    },
    {
      "cell_type": "code",
      "execution_count": null,
      "metadata": {
        "collapsed": false
      },
      "outputs": [],
      "source": [
        "import pandas as pd\nsecond_level_input = data['cmaps']\ndesign_matrix = pd.DataFrame([1] * len(second_level_input),\n                             columns=['intercept'])"
      ]
    },
    {
      "cell_type": "markdown",
      "metadata": {},
      "source": [
        "Model specification and fit.\n\n"
      ]
    },
    {
      "cell_type": "code",
      "execution_count": null,
      "metadata": {
        "collapsed": false
      },
      "outputs": [],
      "source": [
        "from nilearn.glm.second_level import SecondLevelModel\nsecond_level_model = SecondLevelModel(smoothing_fwhm=8.0)\nsecond_level_model = second_level_model.fit(second_level_input,\n                                            design_matrix=design_matrix)"
      ]
    },
    {
      "cell_type": "markdown",
      "metadata": {},
      "source": [
        "To estimate the contrast is very simple. We can just provide the column\nname of the design matrix.\n\n"
      ]
    },
    {
      "cell_type": "code",
      "execution_count": null,
      "metadata": {
        "collapsed": false
      },
      "outputs": [],
      "source": [
        "z_map = second_level_model.compute_contrast(output_type='z_score')"
      ]
    },
    {
      "cell_type": "markdown",
      "metadata": {},
      "source": [
        "We threshold the second level contrast at uncorrected p < 0.001 and plot it.\n\n"
      ]
    },
    {
      "cell_type": "code",
      "execution_count": null,
      "metadata": {
        "collapsed": false
      },
      "outputs": [],
      "source": [
        "from scipy.stats import norm\np_val = 0.001\np001_unc = norm.isf(p_val)\ndisplay = plotting.plot_glass_brain(\n    z_map, threshold=p001_unc, colorbar=True, display_mode='z', plot_abs=False,\n    title='group left-right button press (unc p<0.001)')\nplotting.show()"
      ]
    },
    {
      "cell_type": "markdown",
      "metadata": {},
      "source": [
        "As expected, we find the motor cortex.\n\n"
      ]
    },
    {
      "cell_type": "markdown",
      "metadata": {},
      "source": [
        "Next, we compute the (corrected) p-values with a parametric test to compare\nthem with the results from a nonparametric test.\n\n"
      ]
    },
    {
      "cell_type": "code",
      "execution_count": null,
      "metadata": {
        "collapsed": false
      },
      "outputs": [],
      "source": [
        "import numpy as np\nfrom nilearn.image import get_data, math_img\n\np_val = second_level_model.compute_contrast(output_type='p_value')\nn_voxels = np.sum(get_data(second_level_model.masker_.mask_img_))\n# Correcting the p-values for multiple testing and taking negative logarithm\nneg_log_pval = math_img(\"-np.log10(np.minimum(1, img * {}))\"\n                        .format(str(n_voxels)),\n                        img=p_val)"
      ]
    },
    {
      "cell_type": "markdown",
      "metadata": {},
      "source": [
        "Let us plot the (corrected) negative log p-values for the parametric test.\n\n"
      ]
    },
    {
      "cell_type": "code",
      "execution_count": null,
      "metadata": {
        "collapsed": false
      },
      "outputs": [],
      "source": [
        "cut_coords = [0]\n# Since we are plotting negative log p-values and using a threshold equal to 1,\n# it corresponds to corrected p-values lower than 10%, meaning that there is\n# less than 10% probability to make a single false discovery (90% chance that\n# we make no false discovery at all).  This threshold is much more conservative\n# than the previous one.\nthreshold = 1\ntitle = ('Group left-right button press: \\n'\n         'parametric test (FWER < 10%)')\ndisplay = plotting.plot_glass_brain(\n    neg_log_pval, colorbar=True, display_mode='z', plot_abs=False, vmax=3,\n    cut_coords=cut_coords, threshold=threshold, title=title)\nplotting.show()"
      ]
    },
    {
      "cell_type": "markdown",
      "metadata": {},
      "source": [
        "Now, we compute the (corrected) p-values with a permutation test.\n\n"
      ]
    },
    {
      "cell_type": "code",
      "execution_count": null,
      "metadata": {
        "collapsed": false
      },
      "outputs": [],
      "source": [
        "from nilearn.glm.second_level import non_parametric_inference\nneg_log_pvals_permuted_ols_unmasked = \\\n    non_parametric_inference(second_level_input,\n                             design_matrix=design_matrix,\n                             model_intercept=True, n_perm=1000,\n                             two_sided_test=False,\n                             smoothing_fwhm=8.0, n_jobs=1)"
      ]
    },
    {
      "cell_type": "markdown",
      "metadata": {},
      "source": [
        "Let us plot the (corrected) negative log p-values for the nonparametric test.\n\n"
      ]
    },
    {
      "cell_type": "code",
      "execution_count": null,
      "metadata": {
        "collapsed": false
      },
      "outputs": [],
      "source": [
        "title = ('Group left-right button press: \\n'\n         'permutation test (FWER < 10%)')\ndisplay = plotting.plot_glass_brain(\n    neg_log_pvals_permuted_ols_unmasked, colorbar=True, vmax=3,\n    display_mode='z', plot_abs=False, cut_coords=cut_coords,\n    threshold=threshold, title=title)\nplotting.show()\n\n# The neg-log p-values obtained with nonparametric testing are capped at 3\n# since the number of permutations is 1e3.\n# The nonparametric test yields many more discoveries and is more powerful than\n# the usual parametric procedure."
      ]
    }
  ],
  "metadata": {
    "kernelspec": {
      "display_name": "Python 3",
      "language": "python",
      "name": "python3"
    },
    "language_info": {
      "codemirror_mode": {
        "name": "ipython",
        "version": 3
      },
      "file_extension": ".py",
      "mimetype": "text/x-python",
      "name": "python",
      "nbconvert_exporter": "python",
      "pygments_lexer": "ipython3",
      "version": "3.8.5"
    }
  },
  "nbformat": 4,
  "nbformat_minor": 0
}