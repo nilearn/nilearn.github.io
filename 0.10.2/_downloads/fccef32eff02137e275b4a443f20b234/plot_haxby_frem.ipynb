{
  "cells": [
    {
      "cell_type": "markdown",
      "metadata": {},
      "source": [
        "\n# Decoding with FREM: face vs house vs chair object recognition\n\nThis example uses fast ensembling of regularized models (FREM) to decode\na face vs house vs chair discrimination task from Haxby 2001 study.\nFREM uses an implicit spatial regularization\nthrough fast clustering and aggregates a high number of estimators\ntrained on various splits of the training set,\nthus returning a very robust decoder\nat a lower computational cost than other spatially regularized methods.\n\nTo have more details, see: `frem`.\n"
      ]
    },
    {
      "cell_type": "markdown",
      "metadata": {},
      "source": [
        "## Load the Haxby dataset\n\n"
      ]
    },
    {
      "cell_type": "code",
      "execution_count": null,
      "metadata": {
        "collapsed": false
      },
      "outputs": [],
      "source": [
        "from nilearn.datasets import fetch_haxby\n\ndata_files = fetch_haxby()\n\n# Load behavioral data\nimport pandas as pd\n\nbehavioral = pd.read_csv(data_files.session_target[0], sep=\" \")\n\n# Restrict to face, house, and chair conditions\nconditions = behavioral[\"labels\"]\ncondition_mask = conditions.isin([\"face\", \"house\", \"chair\"])\n\n# Split data into train and test samples, using the chunks\ncondition_mask_train = (condition_mask) & (behavioral[\"chunks\"] <= 6)\ncondition_mask_test = (condition_mask) & (behavioral[\"chunks\"] > 6)\n\n# Apply this sample mask to X (fMRI data) and y (behavioral labels)\n# Because the data is in one single large 4D image, we need to use\n# index_img to do the split easily\nfrom nilearn.image import index_img\n\nfunc_filenames = data_files.func[0]\nX_train = index_img(func_filenames, condition_mask_train)\nX_test = index_img(func_filenames, condition_mask_test)\ny_train = conditions[condition_mask_train].values\ny_test = conditions[condition_mask_test].values\n\n\n# Compute the mean epi to be used for the background of the plotting\nfrom nilearn.image import mean_img\n\nbackground_img = mean_img(func_filenames)"
      ]
    },
    {
      "cell_type": "markdown",
      "metadata": {},
      "source": [
        "## Fit FREM\n\n"
      ]
    },
    {
      "cell_type": "code",
      "execution_count": null,
      "metadata": {
        "collapsed": false
      },
      "outputs": [],
      "source": [
        "from nilearn.decoding import FREMClassifier\n\ndecoder = FREMClassifier(cv=10, standardize=\"zscore_sample\")\n# Fit model on train data and predict on test data\ndecoder.fit(X_train, y_train)\ny_pred = decoder.predict(X_test)\naccuracy = (y_pred == y_test).mean() * 100.0\nprint(f\"FREM classification accuracy : {accuracy:g}%\")"
      ]
    },
    {
      "cell_type": "markdown",
      "metadata": {},
      "source": [
        "## Plot confusion matrix\n\n"
      ]
    },
    {
      "cell_type": "code",
      "execution_count": null,
      "metadata": {
        "collapsed": false
      },
      "outputs": [],
      "source": [
        "import numpy as np\nfrom sklearn.metrics import confusion_matrix\n\nfrom nilearn import plotting\n\n# Calculate the confusion matrix\nmatrix = confusion_matrix(\n    y_test,\n    y_pred,\n    normalize=\"true\",\n)\n\n# Plot the confusion matrix\nim = plotting.plot_matrix(\n    matrix,\n    labels=sorted(np.unique(y_test)),\n    vmin=0,\n    cmap=\"hot_r\",\n)\n\n# Add x/y-axis labels\nax = im.axes\nax.set_ylabel(\"True label\")\nax.set_xlabel(\"Predicted label\")\n\n# Adjust figure to make labels fit\nax.get_figure().tight_layout()\n\nplotting.show()"
      ]
    },
    {
      "cell_type": "markdown",
      "metadata": {},
      "source": [
        "## Visualization of FREM weights\n\n"
      ]
    },
    {
      "cell_type": "code",
      "execution_count": null,
      "metadata": {
        "collapsed": false
      },
      "outputs": [],
      "source": [
        "from nilearn import plotting\n\nplotting.plot_stat_map(\n    decoder.coef_img_[\"face\"],\n    background_img,\n    title=f\"FREM: accuracy {accuracy:g}%, 'face coefs'\",\n    cut_coords=(-50, -4),\n    display_mode=\"yz\",\n)\nplotting.show()"
      ]
    },
    {
      "cell_type": "markdown",
      "metadata": {},
      "source": [
        "FREM ensembling procedure yields an important improvement of decoding\naccuracy on this simple example compared to fitting only one model per\nfold and the clustering mechanism keeps its computational cost reasonable\neven on heavier examples. Here we ensembled several instances of l2-SVC,\nbut FREMClassifier also works with ridge or logistic.\nFREMRegressor object is also available to solve regression problems.\n\n"
      ]
    }
  ],
  "metadata": {
    "kernelspec": {
      "display_name": "Python 3",
      "language": "python",
      "name": "python3"
    },
    "language_info": {
      "codemirror_mode": {
        "name": "ipython",
        "version": 3
      },
      "file_extension": ".py",
      "mimetype": "text/x-python",
      "name": "python",
      "nbconvert_exporter": "python",
      "pygments_lexer": "ipython3",
      "version": "3.11.3"
    }
  },
  "nbformat": 4,
  "nbformat_minor": 0
}
