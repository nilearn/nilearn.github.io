{
  "cells": [
    {
      "cell_type": "markdown",
      "metadata": {},
      "source": [
        "\n# Resample an image to a template\n\nThe goal of this example is to illustrate the use of the function\n:func:`nilearn.image.resample_to_img` to resample an image to a template.\nWe use the MNI152 template as the reference for resampling a t-map image.\nFunction :func:`nilearn.image.resample_img` could also be used to achieve this.\n"
      ]
    },
    {
      "cell_type": "markdown",
      "metadata": {},
      "source": [
        "First we load the required datasets using the nilearn datasets module.\n\n"
      ]
    },
    {
      "cell_type": "code",
      "execution_count": null,
      "metadata": {
        "collapsed": false
      },
      "outputs": [],
      "source": [
        "from nilearn.datasets import (\n    load_mni152_template,\n    load_sample_motor_activation_image,\n)\n\ntemplate = load_mni152_template(resolution=2)\n\nstat_img = load_sample_motor_activation_image()"
      ]
    },
    {
      "cell_type": "markdown",
      "metadata": {},
      "source": [
        "Now, the motor contrast map image can be resampled to the MNI template image.\n\n"
      ]
    },
    {
      "cell_type": "code",
      "execution_count": null,
      "metadata": {
        "collapsed": false
      },
      "outputs": [],
      "source": [
        "from nilearn.image import resample_to_img\n\nresampled_stat_img = resample_to_img(stat_img, template)"
      ]
    },
    {
      "cell_type": "markdown",
      "metadata": {},
      "source": [
        "Let's check the shape and affine have been correctly updated.\n\n"
      ]
    },
    {
      "cell_type": "code",
      "execution_count": null,
      "metadata": {
        "collapsed": false
      },
      "outputs": [],
      "source": [
        "# First load the original t-map in memory:\nfrom nilearn.image import load_img\n\ntmap_img = load_img(stat_img)\n\noriginal_shape = tmap_img.shape\noriginal_affine = tmap_img.affine\n\nresampled_shape = resampled_stat_img.shape\nresampled_affine = resampled_stat_img.affine\n\ntemplate_img = load_img(template)\ntemplate_shape = template_img.shape\ntemplate_affine = template_img.affine\nprint(\n    f\"\"\"Shape comparison:\n- Original t-map image shape : {original_shape}\n- Resampled t-map image shape: {resampled_shape}\n- Template image shape       : {template_shape}\n\"\"\"\n)\n\nprint(\n    f\"\"\"Affine comparison:\n- Original t-map image affine :\n {original_affine}\n- Resampled t-map image affine:\n {resampled_affine}\n- Template image affine       :\n {template_affine}\n\"\"\"\n)"
      ]
    },
    {
      "cell_type": "markdown",
      "metadata": {},
      "source": [
        "Finally, result images are displayed using nilearn plotting module.\n\n"
      ]
    },
    {
      "cell_type": "code",
      "execution_count": null,
      "metadata": {
        "collapsed": false
      },
      "outputs": [],
      "source": [
        "from nilearn import plotting\n\nplotting.plot_stat_map(\n    stat_img,\n    bg_img=template,\n    cut_coords=(36, -27, 66),\n    threshold=3,\n    title=\"t-map in original resolution\",\n)\nplotting.plot_stat_map(\n    resampled_stat_img,\n    bg_img=template,\n    cut_coords=(36, -27, 66),\n    threshold=3,\n    title=\"Resampled t-map\",\n)\nplotting.show()"
      ]
    }
  ],
  "metadata": {
    "kernelspec": {
      "display_name": "Python 3",
      "language": "python",
      "name": "python3"
    },
    "language_info": {
      "codemirror_mode": {
        "name": "ipython",
        "version": 3
      },
      "file_extension": ".py",
      "mimetype": "text/x-python",
      "name": "python",
      "nbconvert_exporter": "python",
      "pygments_lexer": "ipython3",
      "version": "3.11.3"
    }
  },
  "nbformat": 4,
  "nbformat_minor": 0
}
