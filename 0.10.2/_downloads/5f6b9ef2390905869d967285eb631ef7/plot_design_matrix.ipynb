{
  "cells": [
    {
      "cell_type": "markdown",
      "metadata": {},
      "source": [
        "\n# Examples of design matrices\n\nThree examples of design matrices specification and computation for first-level\nfMRI data analysis (event-related design, block design, FIR design).\n\nThis examples requires matplotlib.\n"
      ]
    },
    {
      "cell_type": "code",
      "execution_count": null,
      "metadata": {
        "collapsed": false
      },
      "outputs": [],
      "source": [
        "try:\n    import matplotlib.pyplot as plt\nexcept ImportError:\n    raise RuntimeError(\"This script needs the matplotlib library\")"
      ]
    },
    {
      "cell_type": "markdown",
      "metadata": {},
      "source": [
        "## Define parameters\nAt first, we define parameters related to the images acquisition.\n\n"
      ]
    },
    {
      "cell_type": "code",
      "execution_count": null,
      "metadata": {
        "collapsed": false
      },
      "outputs": [],
      "source": [
        "import numpy as np\n\ntr = 1.0  # repetition time is 1 second\nn_scans = 128  # the acquisition comprises 128 scans\nframe_times = np.arange(n_scans) * tr  # here are the corresponding frame times"
      ]
    },
    {
      "cell_type": "markdown",
      "metadata": {},
      "source": [
        "Then we define parameters related to the experimental design.\n\n"
      ]
    },
    {
      "cell_type": "code",
      "execution_count": null,
      "metadata": {
        "collapsed": false
      },
      "outputs": [],
      "source": [
        "# these are the types of the different trials\nconditions = [\"c0\", \"c0\", \"c0\", \"c1\", \"c1\", \"c1\", \"c3\", \"c3\", \"c3\"]\nduration = [1.0, 1.0, 1.0, 1.0, 1.0, 1.0, 1.0, 1.0, 1.0]\n# these are the corresponding onset times\nonsets = [30.0, 70.0, 100.0, 10.0, 30.0, 90.0, 30.0, 40.0, 60.0]\n# Next, we simulate 6 motion parameters jointly observed with fMRI acquisitions\nmotion = np.cumsum(np.random.randn(n_scans, 6), 0)\n# The 6 parameters correspond to three translations and three\n# rotations describing rigid body motion\nadd_reg_names = [\"tx\", \"ty\", \"tz\", \"rx\", \"ry\", \"rz\"]"
      ]
    },
    {
      "cell_type": "markdown",
      "metadata": {},
      "source": [
        "## Create design matrices\nThe same parameters allow us to obtain a variety of design matrices.\nWe first create an events object.\n\n"
      ]
    },
    {
      "cell_type": "code",
      "execution_count": null,
      "metadata": {
        "collapsed": false
      },
      "outputs": [],
      "source": [
        "import pandas as pd\n\nevents = pd.DataFrame(\n    {\"trial_type\": conditions, \"onset\": onsets, \"duration\": duration}\n)"
      ]
    },
    {
      "cell_type": "markdown",
      "metadata": {},
      "source": [
        "We sample the events into a design matrix, also including additional\nregressors.\n\n"
      ]
    },
    {
      "cell_type": "code",
      "execution_count": null,
      "metadata": {
        "collapsed": false
      },
      "outputs": [],
      "source": [
        "from nilearn.glm.first_level import make_first_level_design_matrix\n\nhrf_model = \"glover\"\nX1 = make_first_level_design_matrix(\n    frame_times,\n    events,\n    drift_model=\"polynomial\",\n    drift_order=3,\n    add_regs=motion,\n    add_reg_names=add_reg_names,\n    hrf_model=hrf_model,\n)"
      ]
    },
    {
      "cell_type": "markdown",
      "metadata": {},
      "source": [
        "Now we compute a block design matrix. We add duration to create the blocks.\nFor this we first define an event structure that includes the duration\nparameter.\n\n"
      ]
    },
    {
      "cell_type": "code",
      "execution_count": null,
      "metadata": {
        "collapsed": false
      },
      "outputs": [],
      "source": [
        "duration = 7.0 * np.ones(len(conditions))\nevents = pd.DataFrame(\n    {\"trial_type\": conditions, \"onset\": onsets, \"duration\": duration}\n)"
      ]
    },
    {
      "cell_type": "markdown",
      "metadata": {},
      "source": [
        "Then we sample the design matrix.\n\n"
      ]
    },
    {
      "cell_type": "code",
      "execution_count": null,
      "metadata": {
        "collapsed": false
      },
      "outputs": [],
      "source": [
        "X2 = make_first_level_design_matrix(\n    frame_times,\n    events,\n    drift_model=\"polynomial\",\n    drift_order=3,\n    hrf_model=hrf_model,\n)"
      ]
    },
    {
      "cell_type": "markdown",
      "metadata": {},
      "source": [
        "Finally we compute a FIR model\n\n"
      ]
    },
    {
      "cell_type": "code",
      "execution_count": null,
      "metadata": {
        "collapsed": false
      },
      "outputs": [],
      "source": [
        "events = pd.DataFrame(\n    {\"trial_type\": conditions, \"onset\": onsets, \"duration\": duration}\n)\nhrf_model = \"FIR\"\nX3 = make_first_level_design_matrix(\n    frame_times,\n    events,\n    hrf_model=\"fir\",\n    drift_model=\"polynomial\",\n    drift_order=3,\n    fir_delays=np.arange(1, 6),\n)"
      ]
    },
    {
      "cell_type": "markdown",
      "metadata": {},
      "source": [
        "Here are the three designs side by side.\n\n"
      ]
    },
    {
      "cell_type": "code",
      "execution_count": null,
      "metadata": {
        "collapsed": false
      },
      "outputs": [],
      "source": [
        "from nilearn.plotting import plot_design_matrix\n\nfig, (ax1, ax2, ax3) = plt.subplots(figsize=(10, 6), nrows=1, ncols=3)\nplot_design_matrix(X1, ax=ax1)\nax1.set_title(\"Event-related design matrix\", fontsize=12)\nplot_design_matrix(X2, ax=ax2)\nax2.set_title(\"Block design matrix\", fontsize=12)\nplot_design_matrix(X3, ax=ax3)\nax3.set_title(\"FIR design matrix\", fontsize=12)\nfig.show()"
      ]
    }
  ],
  "metadata": {
    "kernelspec": {
      "display_name": "Python 3",
      "language": "python",
      "name": "python3"
    },
    "language_info": {
      "codemirror_mode": {
        "name": "ipython",
        "version": 3
      },
      "file_extension": ".py",
      "mimetype": "text/x-python",
      "name": "python",
      "nbconvert_exporter": "python",
      "pygments_lexer": "ipython3",
      "version": "3.11.3"
    }
  },
  "nbformat": 4,
  "nbformat_minor": 0
}
