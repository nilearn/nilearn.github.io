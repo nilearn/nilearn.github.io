{
  "cells": [
    {
      "cell_type": "markdown",
      "metadata": {},
      "source": [
        "\n# A short demo of the surface images & maskers\n\ncopied from the nilearn sandbox discussion, to be transformed into tests &\nexamples\n\nNOTE this example is meant to support discussion around a tentative API for\nsurface images in nilearn. This functionality is provided by the\nnilearn.experimental.surface module; it is still incomplete and subject to\nchange without a deprecation cycle. Please participate in the discussion on\nGitHub!\n"
      ]
    },
    {
      "cell_type": "code",
      "execution_count": null,
      "metadata": {
        "collapsed": false
      },
      "outputs": [],
      "source": [
        "from typing import Optional, Sequence\n\nfrom matplotlib import pyplot as plt\n\nfrom nilearn import plotting\nfrom nilearn.experimental import surface\n\n\ndef plot_surf_img(\n    img: surface.SurfaceImage,\n    parts: Optional[Sequence[str]] = None,\n    mesh: Optional[surface.PolyMesh] = None,\n    **kwargs,\n) -> plt.Figure:\n    if mesh is None:\n        mesh = img.mesh\n    if parts is None:\n        parts = list(img.data.keys())\n    fig, axes = plt.subplots(\n        1,\n        len(parts),\n        subplot_kw={\"projection\": \"3d\"},\n        figsize=(4 * len(parts), 4),\n    )\n    for ax, mesh_part in zip(axes, parts):\n        plotting.plot_surf(\n            mesh[mesh_part],\n            img.data[mesh_part],\n            axes=ax,\n            title=mesh_part,\n            **kwargs,\n        )\n    assert isinstance(fig, plt.Figure)\n    return fig\n\n\nimg = surface.fetch_nki()[0]\nprint(f\"NKI image: {img}\")\n\nmasker = surface.SurfaceMasker()\nmasked_data = masker.fit_transform(img)\nprint(f\"Masked data shape: {masked_data.shape}\")\n\nmean_data = masked_data.mean(axis=0)\nmean_img = masker.inverse_transform(mean_data)\nprint(f\"Image mean: {mean_img}\")\n\nplot_surf_img(mean_img)\nplotting.show()"
      ]
    },
    {
      "cell_type": "markdown",
      "metadata": {},
      "source": [
        "### Connectivity with a surface atlas and `SurfaceLabelsMasker`\n\n"
      ]
    },
    {
      "cell_type": "code",
      "execution_count": null,
      "metadata": {
        "collapsed": false
      },
      "outputs": [],
      "source": [
        "from nilearn import connectome, plotting\n\nimg = surface.fetch_nki()[0]\nprint(f\"NKI image: {img}\")\n\nlabels_img, label_names = surface.fetch_destrieux()\nprint(f\"Destrieux image: {labels_img}\")\nplot_surf_img(labels_img, cmap=\"gist_ncar\", avg_method=\"median\")\n\nlabels_masker = surface.SurfaceLabelsMasker(labels_img, label_names).fit()\nmasked_data = labels_masker.transform(img)\nprint(f\"Masked data shape: {masked_data.shape}\")\n\nconnectome = (\n    connectome.ConnectivityMeasure(kind=\"correlation\").fit([masked_data]).mean_\n)\nplotting.plot_matrix(connectome, labels=labels_masker.label_names_)\n\nplotting.show()"
      ]
    },
    {
      "cell_type": "markdown",
      "metadata": {},
      "source": [
        "### Using the `Decoder`\n\n"
      ]
    },
    {
      "cell_type": "code",
      "execution_count": null,
      "metadata": {
        "collapsed": false
      },
      "outputs": [],
      "source": [
        "import numpy as np\n\nfrom nilearn import decoding, plotting\nfrom nilearn._utils import param_validation"
      ]
    },
    {
      "cell_type": "markdown",
      "metadata": {},
      "source": [
        "The following is just disabling a couple of checks performed by the decoder\nthat would force us to use a `NiftiMasker`.\n\n"
      ]
    },
    {
      "cell_type": "code",
      "execution_count": null,
      "metadata": {
        "collapsed": false
      },
      "outputs": [],
      "source": [
        "def monkeypatch_masker_checks():\n    def adjust_screening_percentile(screening_percentile, *args, **kwargs):\n        return screening_percentile\n\n    param_validation._adjust_screening_percentile = adjust_screening_percentile\n\n    def check_embedded_nifti_masker(estimator, *args, **kwargs):\n        return estimator.mask\n\n    decoding.decoder._check_embedded_nifti_masker = check_embedded_nifti_masker\n\n\nmonkeypatch_masker_checks()"
      ]
    },
    {
      "cell_type": "markdown",
      "metadata": {},
      "source": [
        "Now using the appropriate masker we can use a `Decoder` on surface data just\nas we do for volume images.\n\n"
      ]
    },
    {
      "cell_type": "code",
      "execution_count": null,
      "metadata": {
        "collapsed": false
      },
      "outputs": [],
      "source": [
        "img = surface.fetch_nki()[0]\ny = np.random.RandomState(0).choice([0, 1], replace=True, size=img.shape[0])\n\ndecoder = decoding.Decoder(\n    mask=surface.SurfaceMasker(),\n    param_grid={\"C\": [0.01, 0.1]},\n    cv=3,\n    screening_percentile=1,\n)\ndecoder.fit(img, y)\nprint(\"CV scores:\", decoder.cv_scores_)\n\nplot_surf_img(decoder.coef_img_[0], threshold=1e-6)\nplotting.show()"
      ]
    },
    {
      "cell_type": "markdown",
      "metadata": {},
      "source": [
        "### Decoding with a scikit-learn `Pipeline`\n\n"
      ]
    },
    {
      "cell_type": "code",
      "execution_count": null,
      "metadata": {
        "collapsed": false
      },
      "outputs": [],
      "source": [
        "import numpy as np\nfrom sklearn import feature_selection, linear_model, pipeline, preprocessing\n\nfrom nilearn import plotting\n\nimg = surface.fetch_nki()[0]\ny = np.random.RandomState(0).normal(size=img.shape[0])\n\ndecoder = pipeline.make_pipeline(\n    surface.SurfaceMasker(),\n    preprocessing.StandardScaler(),\n    feature_selection.SelectKBest(\n        score_func=feature_selection.f_regression, k=500\n    ),\n    linear_model.Ridge(),\n)\ndecoder.fit(img, y)\n\ncoef_img = decoder[:-1].inverse_transform(np.atleast_2d(decoder[-1].coef_))\n\n\nvmax = max([np.absolute(dp).max() for dp in coef_img.data.values()])\nplot_surf_img(\n    coef_img,\n    cmap=\"cold_hot\",\n    vmin=-vmax,\n    vmax=vmax,\n    threshold=1e-6,\n)\nplotting.show()"
      ]
    }
  ],
  "metadata": {
    "kernelspec": {
      "display_name": "Python 3",
      "language": "python",
      "name": "python3"
    },
    "language_info": {
      "codemirror_mode": {
        "name": "ipython",
        "version": 3
      },
      "file_extension": ".py",
      "mimetype": "text/x-python",
      "name": "python",
      "nbconvert_exporter": "python",
      "pygments_lexer": "ipython3",
      "version": "3.11.3"
    }
  },
  "nbformat": 4,
  "nbformat_minor": 0
}
