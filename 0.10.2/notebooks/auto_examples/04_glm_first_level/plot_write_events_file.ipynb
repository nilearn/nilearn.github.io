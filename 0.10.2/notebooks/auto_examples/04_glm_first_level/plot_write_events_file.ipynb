{
  "cells": [
    {
      "cell_type": "markdown",
      "metadata": {},
      "source": [
        "\n# Generate an events.tsv file for the NeuroSpin localizer task\n\nCreate a :term:`BIDS`-compatible events.tsv file from onset/trial-type\ninformation.\n\nThe protocol described is the so-called \"ARCHI Standard\" functional localizer\ntask.\n\nFor details on the task, please see:\n\nPinel, P., Thirion, B., Meriaux, S. et al.\nFast reproducible identification and large-scale databasing of individual\nfunctional cognitive networks.\nBMC Neurosci 8, 91 (2007). https://doi.org/10.1186/1471-2202-8-91\n"
      ]
    },
    {
      "cell_type": "code",
      "execution_count": null,
      "metadata": {
        "collapsed": false
      },
      "outputs": [],
      "source": [
        "print(__doc__)"
      ]
    },
    {
      "cell_type": "markdown",
      "metadata": {},
      "source": [
        "Define the onset times in seconds. These are typically extracted from\nthe stimulation software used, but we will use hardcoded values in this\nexample.\n\n"
      ]
    },
    {
      "cell_type": "code",
      "execution_count": null,
      "metadata": {
        "collapsed": false
      },
      "outputs": [],
      "source": [
        "# fmt: off\nonsets = [\n    0.0,   2.4,   8.7,   11.4,  15.0,  18.0,  20.7,  23.7,  26.7,  29.7, # noqa\n    33.0,  35.4,  39.0,  41.7,  44.7,  48.0,  56.4,  59.7,  62.4,  69.0, # noqa\n    71.4,  75.0,  83.4,  87.0,  89.7,  96.0,  108.0, 116.7, 119.4, 122.7, # noqa\n    125.4, 131.4, 135.0, 137.7, 140.4, 143.4, 146.7, 149.4, 153.0, 156.0,\n    159.0, 162.0, 164.4, 167.7, 170.4, 173.7, 176.7, 188.4, 191.7, 195.0,\n    198.0, 201.0, 203.7, 207.0, 210.0, 212.7, 215.7, 218.7, 221.4, 224.7,\n    227.7, 230.7, 234.0, 236.7, 246.0, 248.4, 251.7, 254.7, 257.4, 260.4,\n    264.0, 266.7, 269.7, 275.4, 278.4, 284.4, 288.0, 291.0, 293.4, 296.7,\n]\n# fmt: on"
      ]
    },
    {
      "cell_type": "markdown",
      "metadata": {},
      "source": [
        "Associated trial types: these are numbered between 0 and 9, hence\ncorresponding to 10 different conditions.\n\n"
      ]
    },
    {
      "cell_type": "code",
      "execution_count": null,
      "metadata": {
        "collapsed": false
      },
      "outputs": [],
      "source": [
        "# fmt: off\ntrial_type_idx = [\n    7, 7, 0, 2, 9, 4, 9, 3, 5, 9, 1, 6, 8, 8, 6, 6, 8, 0, 3, 4, 5, 8, 6,\n    2, 9, 1, 6, 5, 9, 1, 7, 8, 6, 6, 1, 2, 9, 0, 7, 1, 8, 2, 7, 8, 3, 6,\n    0, 0, 6, 8, 7, 7, 1, 1, 1, 5, 5, 0, 7, 0, 4, 2, 7, 9, 8, 0, 6, 3, 3,\n    7, 1, 0, 0, 4, 1, 9, 8, 4, 9, 9\n]\n# fmt: on"
      ]
    },
    {
      "cell_type": "markdown",
      "metadata": {},
      "source": [
        "We may want to map these indices to explicit condition names.\nFor that, we define a list of 10 strings.\n\n"
      ]
    },
    {
      "cell_type": "code",
      "execution_count": null,
      "metadata": {
        "collapsed": false
      },
      "outputs": [],
      "source": [
        "condition_ids = [\n    \"horizontal checkerboard\",\n    \"vertical checkerboard\",\n    \"right button press, auditory instructions\",\n    \"left button press, auditory instructions\",\n    \"right button press, visual instructions\",\n    \"left button press, visual instructions\",\n    \"mental computation, auditory instructions\",\n    \"mental computation, visual instructions\",\n    \"visual sentence\",\n    \"auditory sentence\",\n]\n\ntrial_types = [condition_ids[i] for i in trial_type_idx]"
      ]
    },
    {
      "cell_type": "markdown",
      "metadata": {},
      "source": [
        "We must also define a duration (required by :term:`BIDS` conventions).\nIn this case, all trials lasted one second,\nexcept for button response\nthat are modeled as events with instantaneous duration (0 second).\n\n"
      ]
    },
    {
      "cell_type": "code",
      "execution_count": null,
      "metadata": {
        "collapsed": false
      },
      "outputs": [],
      "source": [
        "null_duration_trials = [2, 3, 4, 5]\ndurations = []\nfor i in trial_type_idx:\n    if i in null_duration_trials:\n        durations.append(0)\n    else:\n        durations.append(1)"
      ]
    },
    {
      "cell_type": "markdown",
      "metadata": {},
      "source": [
        "Form a pandas DataFrame from this information.\n\n"
      ]
    },
    {
      "cell_type": "code",
      "execution_count": null,
      "metadata": {
        "collapsed": false
      },
      "outputs": [],
      "source": [
        "import pandas as pd\n\nevents = pd.DataFrame(\n    {\n        \"trial_type\": trial_types,\n        \"onset\": onsets,\n        \"duration\": durations,\n    }\n)"
      ]
    },
    {
      "cell_type": "markdown",
      "metadata": {},
      "source": [
        "Take a look at the new DataFrame\n\n"
      ]
    },
    {
      "cell_type": "code",
      "execution_count": null,
      "metadata": {
        "collapsed": false
      },
      "outputs": [],
      "source": [
        "events"
      ]
    },
    {
      "cell_type": "markdown",
      "metadata": {},
      "source": [
        "Export them to a tsv file.\n\n"
      ]
    },
    {
      "cell_type": "code",
      "execution_count": null,
      "metadata": {
        "collapsed": false
      },
      "outputs": [],
      "source": [
        "from pathlib import Path\n\noutdir = Path(\"results\")\nif not outdir.exists():\n    outdir.mkdir()\ntsvfile = outdir / \"localizer_events.tsv\"\nevents.to_csv(tsvfile, sep=\"\\t\", index=False)\nprint(f\"The event information has been saved to {tsvfile}\")"
      ]
    },
    {
      "cell_type": "markdown",
      "metadata": {},
      "source": [
        "Optionally, the events can be visualized using the\n:func:`~nilearn.plotting.plot_event` function.\n\n"
      ]
    },
    {
      "cell_type": "code",
      "execution_count": null,
      "metadata": {
        "collapsed": false
      },
      "outputs": [],
      "source": [
        "import matplotlib.pyplot as plt\n\nfrom nilearn.plotting import plot_event\n\nplot_event(events, figsize=(15, 5))\nplt.show()"
      ]
    }
  ],
  "metadata": {
    "kernelspec": {
      "display_name": "Python 3",
      "language": "python",
      "name": "python3"
    },
    "language_info": {
      "codemirror_mode": {
        "name": "ipython",
        "version": 3
      },
      "file_extension": ".py",
      "mimetype": "text/x-python",
      "name": "python",
      "nbconvert_exporter": "python",
      "pygments_lexer": "ipython3",
      "version": "3.11.3"
    }
  },
  "nbformat": 4,
  "nbformat_minor": 0
}
