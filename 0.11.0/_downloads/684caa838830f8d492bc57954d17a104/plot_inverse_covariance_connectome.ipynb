{
  "cells": [
    {
      "cell_type": "markdown",
      "metadata": {},
      "source": [
        "\n# Computing a connectome with sparse inverse covariance\n\nThis example constructs a functional connectome using the sparse inverse\ncovariance.\n\nWe use the [MSDL atlas](https://team.inria.fr/parietal/18-2/spatial_patterns/spatial-patterns-in-resting-state/)\nof functional regions in movie watching, and the\n:class:`nilearn.maskers.NiftiMapsMasker` to extract time series.\n\nNote that the inverse covariance (or precision) contains values that can\nbe linked to *negated* partial correlations, so we negated it for\ndisplay.\n\nAs the MSDL atlas comes with (x, y, z) :term:`MNI` coordinates for\nthe different regions, we can visualize the matrix as a graph of\ninteraction in a brain. To avoid having too dense a graph, we\nrepresent only the 20% edges with the highest values.\n\n.. include:: ../../../examples/masker_note.rst\n"
      ]
    },
    {
      "cell_type": "markdown",
      "metadata": {},
      "source": [
        "## Retrieve the atlas and the data\n\n"
      ]
    },
    {
      "cell_type": "code",
      "execution_count": null,
      "metadata": {
        "collapsed": false
      },
      "outputs": [],
      "source": [
        "from nilearn import datasets\n\natlas = datasets.fetch_atlas_msdl()\n# Loading atlas image stored in 'maps'\natlas_filename = atlas[\"maps\"]\n# Loading atlas data stored in 'labels'\nlabels = atlas[\"labels\"]\n\n# Loading the functional datasets\ndata = datasets.fetch_development_fmri(n_subjects=1)\n\n# print basic information on the dataset\nprint(f\"First subject functional nifti images (4D) are at: {data.func[0]}\")"
      ]
    },
    {
      "cell_type": "markdown",
      "metadata": {},
      "source": [
        "## Extract time series\n\n"
      ]
    },
    {
      "cell_type": "code",
      "execution_count": null,
      "metadata": {
        "collapsed": false
      },
      "outputs": [],
      "source": [
        "from nilearn.maskers import NiftiMapsMasker\n\nmasker = NiftiMapsMasker(\n    maps_img=atlas_filename,\n    standardize=\"zscore_sample\",\n    standardize_confounds=\"zscore_sample\",\n    memory=\"nilearn_cache\",\n    verbose=5,\n)\n\ntime_series = masker.fit_transform(data.func[0], confounds=data.confounds)"
      ]
    },
    {
      "cell_type": "markdown",
      "metadata": {},
      "source": [
        "## Compute the sparse inverse covariance\n\n"
      ]
    },
    {
      "cell_type": "code",
      "execution_count": null,
      "metadata": {
        "collapsed": false
      },
      "outputs": [],
      "source": [
        "from sklearn.covariance import GraphicalLassoCV\n\nestimator = GraphicalLassoCV()\nestimator.fit(time_series)"
      ]
    },
    {
      "cell_type": "markdown",
      "metadata": {},
      "source": [
        "## Display the connectome matrix\n\n"
      ]
    },
    {
      "cell_type": "code",
      "execution_count": null,
      "metadata": {
        "collapsed": false
      },
      "outputs": [],
      "source": [
        "from nilearn import plotting\n\n# Display the covariance\n\n# The covariance can be found at estimator.covariance_\nplotting.plot_matrix(\n    estimator.covariance_,\n    labels=labels,\n    figure=(9, 7),\n    vmax=1,\n    vmin=-1,\n    title=\"Covariance\",\n)"
      ]
    },
    {
      "cell_type": "markdown",
      "metadata": {},
      "source": [
        "## And now display the corresponding graph\n\n"
      ]
    },
    {
      "cell_type": "code",
      "execution_count": null,
      "metadata": {
        "collapsed": false
      },
      "outputs": [],
      "source": [
        "coords = atlas.region_coords\n\nplotting.plot_connectome(estimator.covariance_, coords, title=\"Covariance\")"
      ]
    },
    {
      "cell_type": "markdown",
      "metadata": {},
      "source": [
        "## Display the sparse inverse covariance\nwe negate it to get partial correlations\n\n"
      ]
    },
    {
      "cell_type": "code",
      "execution_count": null,
      "metadata": {
        "collapsed": false
      },
      "outputs": [],
      "source": [
        "plotting.plot_matrix(\n    -estimator.precision_,\n    labels=labels,\n    figure=(9, 7),\n    vmax=1,\n    vmin=-1,\n    title=\"Sparse inverse covariance\",\n)"
      ]
    },
    {
      "cell_type": "markdown",
      "metadata": {},
      "source": [
        "## And now display the corresponding graph\n\n"
      ]
    },
    {
      "cell_type": "code",
      "execution_count": null,
      "metadata": {
        "collapsed": false
      },
      "outputs": [],
      "source": [
        "plotting.plot_connectome(\n    -estimator.precision_, coords, title=\"Sparse inverse covariance\"\n)\n\nplotting.show()"
      ]
    },
    {
      "cell_type": "markdown",
      "metadata": {},
      "source": [
        "## 3D visualization in a web browser\nAn alternative to :func:`nilearn.plotting.plot_connectome` is to use\n:func:`nilearn.plotting.view_connectome` that gives more interactive\nvisualizations in a web browser. See `interactive-connectome-plotting`\nfor more details.\n\n"
      ]
    },
    {
      "cell_type": "code",
      "execution_count": null,
      "metadata": {
        "collapsed": false
      },
      "outputs": [],
      "source": [
        "view = plotting.view_connectome(-estimator.precision_, coords)\n\n# In a Jupyter notebook, if ``view`` is the output of a cell, it will\n# be displayed below the cell\nview"
      ]
    },
    {
      "cell_type": "code",
      "execution_count": null,
      "metadata": {
        "collapsed": false
      },
      "outputs": [],
      "source": [
        "# uncomment this to open the plot in a web browser:\n# view.open_in_browser()"
      ]
    }
  ],
  "metadata": {
    "kernelspec": {
      "display_name": "Python 3",
      "language": "python",
      "name": "python3"
    },
    "language_info": {
      "codemirror_mode": {
        "name": "ipython",
        "version": 3
      },
      "file_extension": ".py",
      "mimetype": "text/x-python",
      "name": "python",
      "nbconvert_exporter": "python",
      "pygments_lexer": "ipython3",
      "version": "3.9.19"
    }
  },
  "nbformat": 4,
  "nbformat_minor": 0
}
