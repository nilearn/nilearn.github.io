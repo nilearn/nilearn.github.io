{
  "cells": [
    {
      "cell_type": "markdown",
      "metadata": {},
      "source": [
        "\n# Decoding with ANOVA + SVM: face vs house in the Haxby dataset\n\nThis example does a simple but efficient decoding on the Haxby dataset:\nusing a feature selection, followed by an SVM.\n"
      ]
    },
    {
      "cell_type": "markdown",
      "metadata": {},
      "source": [
        "## Retrieve the files of the Haxby dataset\n\n"
      ]
    },
    {
      "cell_type": "code",
      "execution_count": null,
      "metadata": {
        "collapsed": false
      },
      "outputs": [],
      "source": [
        "from nilearn import datasets\n\n# By default 2nd subject will be fetched\nhaxby_dataset = datasets.fetch_haxby()\nfunc_img = haxby_dataset.func[0]\n# print basic information on the dataset\nprint(f\"Mask nifti image (3D) is located at: {haxby_dataset.mask}\")\nprint(f\"Functional nifti image (4D) is located at: {func_img}\")"
      ]
    },
    {
      "cell_type": "markdown",
      "metadata": {},
      "source": [
        "## Load the behavioral data\n\n"
      ]
    },
    {
      "cell_type": "code",
      "execution_count": null,
      "metadata": {
        "collapsed": false
      },
      "outputs": [],
      "source": [
        "import pandas as pd\n\n# Load target information as string and give a numerical identifier to each\nbehavioral = pd.read_csv(haxby_dataset.session_target[0], sep=\" \")\nconditions = behavioral[\"labels\"]\n\n# Restrict the analysis to faces and places\nfrom nilearn.image import index_img\n\ncondition_mask = behavioral[\"labels\"].isin([\"face\", \"house\"])\nconditions = conditions[condition_mask]\nfunc_img = index_img(func_img, condition_mask)\n\n# Confirm that we now have 2 conditions\nprint(conditions.unique())\n\n# The number of the run is stored in the CSV file giving the behavioral data.\n# We have to apply our run mask, to select only faces and houses.\nrun_label = behavioral[\"chunks\"][condition_mask]"
      ]
    },
    {
      "cell_type": "markdown",
      "metadata": {},
      "source": [
        "## :term:`ANOVA` pipeline with :class:`nilearn.decoding.Decoder` object\n\nNilearn Decoder object aims to provide smooth user experience by acting as a\npipeline of several tasks: preprocessing with NiftiMasker, reducing dimension\nby selecting only relevant features with :term:`ANOVA`\n-- a classical univariate feature selection based on F-test,\nand then decoding with different types of estimators\n(in this example is Support Vector Machine with a linear kernel)\non nested cross-validation.\n\n"
      ]
    },
    {
      "cell_type": "code",
      "execution_count": null,
      "metadata": {
        "collapsed": false
      },
      "outputs": [],
      "source": [
        "from nilearn.decoding import Decoder\n\n# Here screening_percentile is set to 5 percent\nmask_img = haxby_dataset.mask\ndecoder = Decoder(\n    estimator=\"svc\",\n    mask=mask_img,\n    smoothing_fwhm=4,\n    standardize=\"zscore_sample\",\n    screening_percentile=5,\n    scoring=\"accuracy\",\n)"
      ]
    },
    {
      "cell_type": "markdown",
      "metadata": {},
      "source": [
        "## Fit the decoder and predict\n\n"
      ]
    },
    {
      "cell_type": "code",
      "execution_count": null,
      "metadata": {
        "collapsed": false
      },
      "outputs": [],
      "source": [
        "decoder.fit(func_img, conditions)\ny_pred = decoder.predict(func_img)"
      ]
    },
    {
      "cell_type": "markdown",
      "metadata": {},
      "source": [
        "## Obtain prediction scores via cross validation\nDefine the cross-validation scheme used for validation. Here we use a\nLeaveOneGroupOut cross-validation on the run group which corresponds to a\nleave a run out scheme, then pass the cross-validator object\nto the cv parameter of decoder.leave-one-session-out.\nFor more details please take a look at:\n[Measuring prediction scores using cross-validation\\](../00_tutorials/plot_decoding_tutorial.html#measuring-prediction-scores-using-cross-validation)  # noqa: E501\n\n"
      ]
    },
    {
      "cell_type": "code",
      "execution_count": null,
      "metadata": {
        "collapsed": false
      },
      "outputs": [],
      "source": [
        "from sklearn.model_selection import LeaveOneGroupOut\n\ncv = LeaveOneGroupOut()\n\ndecoder = Decoder(\n    estimator=\"svc\",\n    mask=mask_img,\n    standardize=\"zscore_sample\",\n    screening_percentile=5,\n    scoring=\"accuracy\",\n    cv=cv,\n)\n# Compute the prediction accuracy for the different folds (i.e. run)\ndecoder.fit(func_img, conditions, groups=run_label)\n\n# Print the CV scores\nprint(decoder.cv_scores_[\"face\"])"
      ]
    },
    {
      "cell_type": "markdown",
      "metadata": {},
      "source": [
        "## Visualize the results\nLook at the SVC's discriminating weights using\n:class:`nilearn.plotting.plot_stat_map`\n\n"
      ]
    },
    {
      "cell_type": "code",
      "execution_count": null,
      "metadata": {
        "collapsed": false
      },
      "outputs": [],
      "source": [
        "weight_img = decoder.coef_img_[\"face\"]\nfrom nilearn.plotting import plot_stat_map, show\n\nplot_stat_map(weight_img, bg_img=haxby_dataset.anat[0], title=\"SVM weights\")\n\nshow()"
      ]
    },
    {
      "cell_type": "markdown",
      "metadata": {},
      "source": [
        "Or we can plot the weights using :class:`nilearn.plotting.view_img` as a\ndynamic html viewer\n\n"
      ]
    },
    {
      "cell_type": "code",
      "execution_count": null,
      "metadata": {
        "collapsed": false
      },
      "outputs": [],
      "source": [
        "from nilearn.plotting import view_img\n\nview_img(weight_img, bg_img=haxby_dataset.anat[0], title=\"SVM weights\", dim=-1)"
      ]
    },
    {
      "cell_type": "markdown",
      "metadata": {},
      "source": [
        "Saving the results as a Nifti file may also be important\n\n"
      ]
    },
    {
      "cell_type": "code",
      "execution_count": null,
      "metadata": {
        "collapsed": false
      },
      "outputs": [],
      "source": [
        "from pathlib import Path\n\noutput_dir = Path.cwd() / \"results\" / \"plot_haxby_anova_svm\"\noutput_dir.mkdir(exist_ok=True, parents=True)\nprint(f\"Output will be saved to: {output_dir}\")\nweight_img.to_filename(output_dir / \"haxby_face_vs_house.nii\")"
      ]
    }
  ],
  "metadata": {
    "kernelspec": {
      "display_name": "Python 3",
      "language": "python",
      "name": "python3"
    },
    "language_info": {
      "codemirror_mode": {
        "name": "ipython",
        "version": 3
      },
      "file_extension": ".py",
      "mimetype": "text/x-python",
      "name": "python",
      "nbconvert_exporter": "python",
      "pygments_lexer": "ipython3",
      "version": "3.9.19"
    }
  },
  "nbformat": 4,
  "nbformat_minor": 0
}
