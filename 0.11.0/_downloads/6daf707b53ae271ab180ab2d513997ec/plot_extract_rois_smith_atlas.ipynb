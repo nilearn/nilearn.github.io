{
  "cells": [
    {
      "cell_type": "markdown",
      "metadata": {},
      "source": [
        "\n# Regions Extraction of Default Mode Networks using Smith Atlas\n\nThis simple example shows how to extract regions from Smith atlas\nresting state networks.\n\nIn particular, we show how Default Mode Network regions are extracted\nusing :class:`nilearn.regions.RegionExtractor` from regions module\n"
      ]
    },
    {
      "cell_type": "markdown",
      "metadata": {},
      "source": [
        "Fetching the smith :term:`ICA` 10 RSN by importing datasets utilities\n\n"
      ]
    },
    {
      "cell_type": "code",
      "execution_count": null,
      "metadata": {
        "collapsed": false
      },
      "outputs": [],
      "source": [
        "from nilearn import datasets\n\natlas_networks = datasets.fetch_atlas_smith_2009(resting=True, dimension=10)[\n    \"maps\"\n]"
      ]
    },
    {
      "cell_type": "markdown",
      "metadata": {},
      "source": [
        "Import region extractor to extract atlas networks\n\n"
      ]
    },
    {
      "cell_type": "code",
      "execution_count": null,
      "metadata": {
        "collapsed": false
      },
      "outputs": [],
      "source": [
        "from nilearn.regions import RegionExtractor\n\n# min_region_size in voxel volume mm^3\nextraction = RegionExtractor(\n    atlas_networks,\n    min_region_size=800,\n    threshold=98,\n    thresholding_strategy=\"percentile\",\n)\n\n# Just call fit() to execute region extraction procedure\nextraction.fit()\nregions_img = extraction.regions_img_"
      ]
    },
    {
      "cell_type": "markdown",
      "metadata": {},
      "source": [
        "Visualization\nShow region extraction results by importing image & plotting utilities\n\n"
      ]
    },
    {
      "cell_type": "code",
      "execution_count": null,
      "metadata": {
        "collapsed": false
      },
      "outputs": [],
      "source": [
        "from nilearn import plotting\nfrom nilearn.image import index_img\nfrom nilearn.plotting import find_xyz_cut_coords\n\n# Showing region extraction results using 4D maps visualization tool\nplotting.plot_prob_atlas(\n    regions_img,\n    display_mode=\"z\",\n    cut_coords=1,\n    view_type=\"contours\",\n    title=\"Regions extracted.\",\n)\n\n# To reduce the complexity, we choose to display all the regions\n# extracted from network 3\nimport numpy as np\n\nDMN_network = index_img(atlas_networks, 3)\nplotting.plot_stat_map(\n    DMN_network,\n    display_mode=\"z\",\n    cut_coords=1,\n    title=\"Network 3\",\n    colorbar=False,\n)\n\nregions_indices_network3 = np.where(np.array(extraction.index_) == 3)\nfor index in regions_indices_network3[0]:\n    cur_img = index_img(extraction.regions_img_, index)\n    coords = find_xyz_cut_coords(cur_img)\n    plotting.plot_stat_map(\n        cur_img,\n        display_mode=\"z\",\n        cut_coords=coords[2:3],\n        title=\"Blob of network3\",\n        colorbar=False,\n    )\n\nplotting.show()"
      ]
    }
  ],
  "metadata": {
    "kernelspec": {
      "display_name": "Python 3",
      "language": "python",
      "name": "python3"
    },
    "language_info": {
      "codemirror_mode": {
        "name": "ipython",
        "version": 3
      },
      "file_extension": ".py",
      "mimetype": "text/x-python",
      "name": "python",
      "nbconvert_exporter": "python",
      "pygments_lexer": "ipython3",
      "version": "3.9.19"
    }
  },
  "nbformat": 4,
  "nbformat_minor": 0
}
