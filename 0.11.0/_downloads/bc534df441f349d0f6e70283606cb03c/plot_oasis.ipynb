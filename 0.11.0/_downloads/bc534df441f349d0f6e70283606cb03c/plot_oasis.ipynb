{
  "cells": [
    {
      "cell_type": "markdown",
      "metadata": {},
      "source": [
        "\n# Voxel-Based Morphometry on OASIS dataset\n\nThis example uses voxel-based morphometry (:term:`VBM`) to study the\nrelationship between aging, sex, and gray matter density.\n\nThe data come from the [OASIS](https://www.oasis-brains.org/) project.\nIf you use it, you need to agree with the data usage agreement available\non the website.\n\nIt has been run through a standard :term:`VBM` pipeline\n(using SPM8 and NewSegment)\nto create :term:`VBM` maps, which we study here.\n\n## VBM analysis of aging\n\nWe run a standard :term:`GLM` analysis\nto study the association between age and gray matter density\nfrom the :term:`VBM` data.\nWe use only 100 subjects from the OASIS dataset to limit the memory usage.\n\nNote that more power would be obtained from using a larger sample of subjects.\n\n..\n    Original authors:\n\n    - Bertrand Thirion, <bertrand.thirion@inria.fr>, July 2018\n    - Elvis Dhomatob, Apr. 2014\n    - Virgile Fritsch, Apr 2014\n    - Gael Varoquaux, Apr 2014\n"
      ]
    },
    {
      "cell_type": "markdown",
      "metadata": {},
      "source": [
        "## Load Oasis dataset\n\n"
      ]
    },
    {
      "cell_type": "code",
      "execution_count": null,
      "metadata": {
        "collapsed": false
      },
      "outputs": [],
      "source": [
        "from nilearn import datasets, plotting\n\nn_subjects = 100  # more subjects requires more memory\n\noasis_dataset = datasets.fetch_oasis_vbm(\n    n_subjects=n_subjects,\n    legacy_format=False,\n)\ngray_matter_map_filenames = oasis_dataset.gray_matter_maps\nage = oasis_dataset.ext_vars[\"age\"].astype(float)"
      ]
    },
    {
      "cell_type": "markdown",
      "metadata": {},
      "source": [
        "Sex is encoded as 'M' or 'F'. Hence, we make it a binary variable.\n\n"
      ]
    },
    {
      "cell_type": "code",
      "execution_count": null,
      "metadata": {
        "collapsed": false
      },
      "outputs": [],
      "source": [
        "sex = oasis_dataset.ext_vars[\"mf\"] == \"F\""
      ]
    },
    {
      "cell_type": "markdown",
      "metadata": {},
      "source": [
        "Print basic information on the dataset.\n\n"
      ]
    },
    {
      "cell_type": "code",
      "execution_count": null,
      "metadata": {
        "collapsed": false
      },
      "outputs": [],
      "source": [
        "print(\n    \"First gray-matter anatomy image (3D) is located at: \"\n    f\"{oasis_dataset.gray_matter_maps[0]}\"\n)\nprint(\n    \"First white-matter anatomy image (3D) is located at: \"\n    f\"{oasis_dataset.white_matter_maps[0]}\"\n)"
      ]
    },
    {
      "cell_type": "markdown",
      "metadata": {},
      "source": [
        "Get a mask image: A mask of the cortex of the ICBM template.\n\n"
      ]
    },
    {
      "cell_type": "code",
      "execution_count": null,
      "metadata": {
        "collapsed": false
      },
      "outputs": [],
      "source": [
        "gm_mask = datasets.fetch_icbm152_brain_gm_mask()"
      ]
    },
    {
      "cell_type": "markdown",
      "metadata": {},
      "source": [
        "Resample the mask, since this mask has a different resolution.\n\n"
      ]
    },
    {
      "cell_type": "code",
      "execution_count": null,
      "metadata": {
        "collapsed": false
      },
      "outputs": [],
      "source": [
        "from nilearn.image import resample_to_img\n\nmask_img = resample_to_img(\n    gm_mask,\n    gray_matter_map_filenames[0],\n    interpolation=\"nearest\",\n    copy_header=True,\n    force_resample=True,\n)"
      ]
    },
    {
      "cell_type": "markdown",
      "metadata": {},
      "source": [
        "## Analyse data\nFirst, we create an adequate design matrix with three columns: 'age', 'sex',\nand 'intercept'.\n\n"
      ]
    },
    {
      "cell_type": "code",
      "execution_count": null,
      "metadata": {
        "collapsed": false
      },
      "outputs": [],
      "source": [
        "import numpy as np\nimport pandas as pd\n\nintercept = np.ones(n_subjects)\ndesign_matrix = pd.DataFrame(\n    np.vstack((age, sex, intercept)).T,\n    columns=[\"age\", \"sex\", \"intercept\"],\n)\n\nfrom matplotlib import pyplot as plt"
      ]
    },
    {
      "cell_type": "markdown",
      "metadata": {},
      "source": [
        "Let's plot the design matrix.\n\n"
      ]
    },
    {
      "cell_type": "code",
      "execution_count": null,
      "metadata": {
        "collapsed": false
      },
      "outputs": [],
      "source": [
        "fig, ax1 = plt.subplots(1, 1, figsize=(4, 8))\nax = plotting.plot_design_matrix(design_matrix, axes=ax1)\nax.set_ylabel(\"maps\")\nfig.suptitle(\"Second level design matrix\")"
      ]
    },
    {
      "cell_type": "markdown",
      "metadata": {},
      "source": [
        "Next, we specify and fit the second-level model when loading the data and\nalso smooth a little bit to improve statistical behavior.\n\n"
      ]
    },
    {
      "cell_type": "code",
      "execution_count": null,
      "metadata": {
        "collapsed": false
      },
      "outputs": [],
      "source": [
        "from nilearn.glm.second_level import SecondLevelModel\n\nsecond_level_model = SecondLevelModel(\n    smoothing_fwhm=2.0, mask_img=mask_img, n_jobs=2, minimize_memory=False\n)\nsecond_level_model.fit(\n    gray_matter_map_filenames,\n    design_matrix=design_matrix,\n)"
      ]
    },
    {
      "cell_type": "markdown",
      "metadata": {},
      "source": [
        "Estimating the :term:`contrast` is very simple.\nWe can just provide the column name of the design matrix.\n\n"
      ]
    },
    {
      "cell_type": "code",
      "execution_count": null,
      "metadata": {
        "collapsed": false
      },
      "outputs": [],
      "source": [
        "z_map = second_level_model.compute_contrast(\n    second_level_contrast=[1, 0, 0],\n    output_type=\"z_score\",\n)"
      ]
    },
    {
      "cell_type": "markdown",
      "metadata": {},
      "source": [
        "We threshold the second level :term:`contrast`\nat FDR-corrected p < 0.05 and plot it.\n\n"
      ]
    },
    {
      "cell_type": "code",
      "execution_count": null,
      "metadata": {
        "collapsed": false
      },
      "outputs": [],
      "source": [
        "from nilearn.glm import threshold_stats_img\n\n_, threshold = threshold_stats_img(z_map, alpha=0.05, height_control=\"fdr\")\nprint(f\"The FDR=.05-corrected threshold is: {threshold:03g}\")\n\nfig = plt.figure(figsize=(5, 3))\ndisplay = plotting.plot_stat_map(\n    z_map,\n    threshold=threshold,\n    colorbar=True,\n    display_mode=\"z\",\n    cut_coords=[-4, 26],\n    figure=fig,\n)\nfig.suptitle(\"age effect on gray matter density (FDR = .05)\")\nplotting.show()"
      ]
    },
    {
      "cell_type": "markdown",
      "metadata": {},
      "source": [
        "We can also study the effect of sex by computing the contrast, thresholding\nit and plot the resulting map.\n\n"
      ]
    },
    {
      "cell_type": "code",
      "execution_count": null,
      "metadata": {
        "collapsed": false
      },
      "outputs": [],
      "source": [
        "z_map = second_level_model.compute_contrast(\n    second_level_contrast=\"sex\",\n    output_type=\"z_score\",\n)\n_, threshold = threshold_stats_img(z_map, alpha=0.05, height_control=\"fdr\")\nplotting.plot_stat_map(\n    z_map,\n    threshold=threshold,\n    colorbar=True,\n    title=\"sex effect on gray matter density (FDR = .05)\",\n)"
      ]
    },
    {
      "cell_type": "markdown",
      "metadata": {},
      "source": [
        "Note that there does not seem to be any significant effect of sex on\ngray matter density on that dataset.\n\n"
      ]
    },
    {
      "cell_type": "markdown",
      "metadata": {},
      "source": [
        "## Generating a report\nIt can be useful to quickly generate a portable, ready-to-view report with\nmost of the pertinent information.\nThis is easy to do if you have a fitted model and the list of contrasts,\nwhich we do here.\n\n"
      ]
    },
    {
      "cell_type": "code",
      "execution_count": null,
      "metadata": {
        "collapsed": false
      },
      "outputs": [],
      "source": [
        "from nilearn.reporting import make_glm_report\n\nicbm152_2009 = datasets.fetch_icbm152_2009()\nreport = make_glm_report(\n    model=second_level_model,\n    contrasts=[\"age\", \"sex\"],\n    bg_img=icbm152_2009[\"t1\"],\n)"
      ]
    },
    {
      "cell_type": "markdown",
      "metadata": {},
      "source": [
        "We have several ways to access the report:\nreport  # This report can be viewed in a notebook\nreport.open_in_browser()\n\n"
      ]
    },
    {
      "cell_type": "code",
      "execution_count": null,
      "metadata": {
        "collapsed": false
      },
      "outputs": [],
      "source": [
        "# or we can save as an html file\nfrom pathlib import Path\n\noutput_dir = Path.cwd() / \"results\" / \"plot_oasis\"\noutput_dir.mkdir(exist_ok=True, parents=True)\nreport.save_as_html(output_dir / \"report.html\")"
      ]
    },
    {
      "cell_type": "markdown",
      "metadata": {},
      "source": [
        "## Saving model outputs to disk\n\n"
      ]
    },
    {
      "cell_type": "code",
      "execution_count": null,
      "metadata": {
        "collapsed": false
      },
      "outputs": [],
      "source": [
        "# We can also save the model outputs to disk\nfrom nilearn.interfaces.bids import save_glm_to_bids\n\nsave_glm_to_bids(\n    second_level_model,\n    contrasts=[\"age\", \"sex\"],\n    out_dir=output_dir / \"derivatives\" / \"nilearn_glm\",\n    prefix=\"ageEffectOnGM\",\n    bg_img=icbm152_2009[\"t1\"],\n)"
      ]
    },
    {
      "cell_type": "markdown",
      "metadata": {},
      "source": [
        "View the generated files\n\n"
      ]
    },
    {
      "cell_type": "code",
      "execution_count": null,
      "metadata": {
        "collapsed": false
      },
      "outputs": [],
      "source": [
        "files = sorted((output_dir / \"derivatives\" / \"nilearn_glm\").glob(\"**/*\"))\nprint(\"\\n\".join([str(x.relative_to(output_dir)) for x in files]))"
      ]
    }
  ],
  "metadata": {
    "kernelspec": {
      "display_name": "Python 3",
      "language": "python",
      "name": "python3"
    },
    "language_info": {
      "codemirror_mode": {
        "name": "ipython",
        "version": 3
      },
      "file_extension": ".py",
      "mimetype": "text/x-python",
      "name": "python",
      "nbconvert_exporter": "python",
      "pygments_lexer": "ipython3",
      "version": "3.9.19"
    }
  },
  "nbformat": 4,
  "nbformat_minor": 0
}
