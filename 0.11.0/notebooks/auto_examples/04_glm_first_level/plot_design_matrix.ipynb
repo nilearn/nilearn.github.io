{
  "cells": [
    {
      "cell_type": "markdown",
      "metadata": {},
      "source": [
        "\n# Examples of design matrices\n\nThree examples of design matrices specification and computation for first-level\n:term:`fMRI` data analysis (event-related design, block design,\n:term:`FIR` design).\n\nThis examples requires matplotlib.\n"
      ]
    },
    {
      "cell_type": "markdown",
      "metadata": {},
      "source": [
        "## Define parameters\nAt first, we define parameters related to the images acquisition.\n\n"
      ]
    },
    {
      "cell_type": "code",
      "execution_count": null,
      "metadata": {
        "collapsed": false
      },
      "outputs": [],
      "source": [
        "import numpy as np\n\nfrom nilearn.plotting import plot_design_matrix\n\nt_r = 1\nn_scans = 128\n\nprint(f\"repetition time is {t_r} second\")\nprint(f\"the acquisition comprises {n_scans} scans\")\n\nframe_times = (\n    np.arange(n_scans) * t_r\n)  # here are the corresponding frame times"
      ]
    },
    {
      "cell_type": "markdown",
      "metadata": {},
      "source": [
        "Then we define parameters related to the experimental design.\n\n"
      ]
    },
    {
      "cell_type": "code",
      "execution_count": null,
      "metadata": {
        "collapsed": false
      },
      "outputs": [],
      "source": [
        "# these are the types of the different trials\nconditions = [\"c0\", \"c0\", \"c0\", \"c1\", \"c1\", \"c1\", \"c3\", \"c3\", \"c3\"]\nduration = [0.1, 0.0, 0.1, 0.1, 0.0, 0.1, 0.1, 0.0, 0.1]\n# these are the corresponding onset times\nonsets = [30.0, 70.0, 100.0, 10.0, 30.0, 90.0, 30.0, 40.0, 60.0]\n# Next, we simulate 6 motion parameters jointly observed with fMRI acquisitions\nrng = np.random.default_rng(42)\nmotion = np.cumsum(rng.standard_normal((n_scans, 6)), 0)\n# The 6 parameters correspond to three translations and three\n# rotations describing rigid body motion\nadd_reg_names = [\"tx\", \"ty\", \"tz\", \"rx\", \"ry\", \"rz\"]"
      ]
    },
    {
      "cell_type": "markdown",
      "metadata": {},
      "source": [
        "## Create design matrices\nThe same parameters allow us to obtain a variety of design matrices.\nWe first create an events object.\n\n"
      ]
    },
    {
      "cell_type": "code",
      "execution_count": null,
      "metadata": {
        "collapsed": false
      },
      "outputs": [],
      "source": [
        "import pandas as pd\n\nevents = pd.DataFrame(\n    {\"trial_type\": conditions, \"onset\": onsets, \"duration\": duration}\n)"
      ]
    },
    {
      "cell_type": "markdown",
      "metadata": {},
      "source": [
        "We sample the events into a design matrix,\nalso including additional regressors.\n\n"
      ]
    },
    {
      "cell_type": "code",
      "execution_count": null,
      "metadata": {
        "collapsed": false
      },
      "outputs": [],
      "source": [
        "from nilearn.glm.first_level import make_first_level_design_matrix\n\nhrf_model = \"glover\"\nX1 = make_first_level_design_matrix(\n    frame_times,\n    events,\n    drift_model=\"polynomial\",\n    drift_order=3,\n    add_regs=motion,\n    add_reg_names=add_reg_names,\n    hrf_model=hrf_model,\n)"
      ]
    },
    {
      "cell_type": "markdown",
      "metadata": {},
      "source": [
        "Now we compute a block design matrix. We add duration to create the blocks.\nFor this we first define an event structure that includes the duration\nparameter.\n\n"
      ]
    },
    {
      "cell_type": "code",
      "execution_count": null,
      "metadata": {
        "collapsed": false
      },
      "outputs": [],
      "source": [
        "duration = 7.0 * np.ones(len(conditions))\nevents = pd.DataFrame(\n    {\"trial_type\": conditions, \"onset\": onsets, \"duration\": duration}\n)"
      ]
    },
    {
      "cell_type": "markdown",
      "metadata": {},
      "source": [
        "Then we sample the design matrix.\n\n"
      ]
    },
    {
      "cell_type": "code",
      "execution_count": null,
      "metadata": {
        "collapsed": false
      },
      "outputs": [],
      "source": [
        "X2 = make_first_level_design_matrix(\n    frame_times,\n    events,\n    drift_model=\"polynomial\",\n    drift_order=3,\n    hrf_model=hrf_model,\n)"
      ]
    },
    {
      "cell_type": "markdown",
      "metadata": {},
      "source": [
        "Finally we compute a :term:`FIR` model\n\n"
      ]
    },
    {
      "cell_type": "code",
      "execution_count": null,
      "metadata": {
        "collapsed": false
      },
      "outputs": [],
      "source": [
        "events = pd.DataFrame(\n    {\"trial_type\": conditions, \"onset\": onsets, \"duration\": duration}\n)\nhrf_model = \"FIR\"\nX3 = make_first_level_design_matrix(\n    frame_times,\n    events,\n    hrf_model=\"fir\",\n    drift_model=\"polynomial\",\n    drift_order=3,\n    fir_delays=np.arange(1, 6),\n)"
      ]
    },
    {
      "cell_type": "markdown",
      "metadata": {},
      "source": [
        "Here are the three designs side by side.\n\n<div class=\"alert alert-info\"><h4>Note</h4><p>The events with a duration of 0 seconds are be modelled\n    using a 'delta function' in the event-related design matrix.</p></div>\n\n\n"
      ]
    },
    {
      "cell_type": "code",
      "execution_count": null,
      "metadata": {
        "collapsed": false
      },
      "outputs": [],
      "source": [
        "import matplotlib.pyplot as plt\n\nfig, (ax1, ax2, ax3) = plt.subplots(\n    figsize=(10, 6), nrows=1, ncols=3, constrained_layout=True\n)\n\nplot_design_matrix(X1, axes=ax1)\nax1.set_title(\"Event-related design matrix\", fontsize=12)\nplot_design_matrix(X2, axes=ax2)\nax2.set_title(\"Block design matrix\", fontsize=12)\nplot_design_matrix(X3, axes=ax3)\nax3.set_title(\"FIR design matrix\", fontsize=12)\nplt.show()"
      ]
    },
    {
      "cell_type": "markdown",
      "metadata": {},
      "source": [
        "## Correlation between regressors\nWe can plot the correlation between the regressors of our design matrix.\nThis is important to check as highly correlated regressors can affect\nthe effficieny of\n[your design](https://imaging.mrc-cbu.cam.ac.uk/imaging/DesignEfficiency#Correlation_between_regressors). # noqa: E501\n\n\n"
      ]
    },
    {
      "cell_type": "code",
      "execution_count": null,
      "metadata": {
        "collapsed": false
      },
      "outputs": [],
      "source": [
        "from nilearn.plotting import plot_design_matrix_correlation\n\nfig, (ax1, ax2, ax3) = plt.subplots(\n    figsize=(16, 5), nrows=1, ncols=3, constrained_layout=True\n)\n\nplot_design_matrix_correlation(X1, axes=ax1)\nax1.set_title(\"Event-related correlation matrix\", fontsize=12)\nplot_design_matrix_correlation(X2, axes=ax2)\nax2.set_title(\"Block correlation matrix\", fontsize=12)\nplot_design_matrix_correlation(X3, axes=ax3, tri=\"diag\")\nax3.set_title(\"FIR correlation matrix\", fontsize=12)\nplt.show()"
      ]
    },
    {
      "cell_type": "markdown",
      "metadata": {},
      "source": [
        "## Parametric modulation\nBy default, the fMRI GLM will expect that all events\nfor a given condition have a BOLD\nresponse with the same amplitude.\nSometimes, we may have specific expectations\nabout how strong the BOLD response\nwill be on a given event.\nThis can be incorporated into the model by using **parametric modulation**,\nwherein each event has a predicted amplitude.\nThis can be used both to improve model fit and to test hypotheses regarding\nhow the BOLD response scales with important features of events,\nsuch as trial intensity or response time.\n\nHere we will assume that when a trial\nis the same condition as the previous one,\nit will elicit a less intense response.\n\n"
      ]
    },
    {
      "cell_type": "code",
      "execution_count": null,
      "metadata": {
        "collapsed": false
      },
      "outputs": [],
      "source": [
        "conditions = [\"c0\", \"c0\", \"c0\", \"c1\", \"c1\", \"c1\", \"c3\", \"c3\", \"c3\"]\nmodulation = [1.0, 0.5, 0.25, 1.0, 0.5, 0.25, 1.0, 0.5, 0.25]\nmodulated_events = pd.DataFrame(\n    {\n        \"trial_type\": conditions,\n        \"onset\": onsets,\n        \"duration\": duration,\n        \"modulation\": modulation,\n    }\n)\n\nhrf_model = \"glover\"\nX4 = make_first_level_design_matrix(\n    frame_times,\n    modulated_events,\n    drift_model=\"polynomial\",\n    drift_order=3,\n    hrf_model=hrf_model,\n)\n\n# Let's compare it to the unmodulated block design\nfig, (ax1, ax2) = plt.subplots(\n    figsize=(10, 6), nrows=1, ncols=2, constrained_layout=True\n)\n\nplot_design_matrix(X2, axes=ax1)\nax1.set_title(\"Block design matrix\", fontsize=12)\nplot_design_matrix(X4, axes=ax2)\nax2.set_title(\"Modulated block design matrix\", fontsize=12)\nplt.show()"
      ]
    }
  ],
  "metadata": {
    "kernelspec": {
      "display_name": "Python 3",
      "language": "python",
      "name": "python3"
    },
    "language_info": {
      "codemirror_mode": {
        "name": "ipython",
        "version": 3
      },
      "file_extension": ".py",
      "mimetype": "text/x-python",
      "name": "python",
      "nbconvert_exporter": "python",
      "pygments_lexer": "ipython3",
      "version": "3.9.19"
    }
  },
  "nbformat": 4,
  "nbformat_minor": 0
}
